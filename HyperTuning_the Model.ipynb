{
 "cells": [
  {
   "cell_type": "code",
   "execution_count": 1,
   "id": "0e05dd36",
   "metadata": {},
   "outputs": [],
   "source": [
    "import pandas as pd\n",
    "import numpy as np\n",
    "import matplotlib.pyplot as plt\n",
    "from sklearn.metrics import  r2_score"
   ]
  },
  {
   "cell_type": "code",
   "execution_count": 2,
   "id": "91f8ebaf",
   "metadata": {},
   "outputs": [],
   "source": [
    "df = pd.read_csv('Uber_proper_format')"
   ]
  },
  {
   "cell_type": "code",
   "execution_count": 3,
   "id": "05b30161",
   "metadata": {},
   "outputs": [],
   "source": [
    "X = df.iloc[:,1:]\n",
    "y= df.iloc[:,:1]"
   ]
  },
  {
   "cell_type": "code",
   "execution_count": 4,
   "id": "c4ed3f1a",
   "metadata": {},
   "outputs": [],
   "source": [
    "from sklearn.model_selection import train_test_split\n",
    "X_train ,X_test,y_train, y_test = train_test_split(X,y,test_size=0.25,random_state=40)"
   ]
  },
  {
   "cell_type": "markdown",
   "id": "b6441c2a",
   "metadata": {},
   "source": [
    "## Hyperparameter Tuning"
   ]
  },
  {
   "cell_type": "markdown",
   "id": "7693fc00",
   "metadata": {},
   "source": [
    "###  Random Forest Regressor"
   ]
  },
  {
   "cell_type": "code",
   "execution_count": 17,
   "id": "cee637f6",
   "metadata": {},
   "outputs": [],
   "source": [
    "from sklearn.ensemble import RandomForestRegressor"
   ]
  },
  {
   "cell_type": "code",
   "execution_count": 6,
   "id": "c3da3213",
   "metadata": {},
   "outputs": [],
   "source": [
    "# Number of trees in random forest\n",
    "n_estimators = [20,60,100,120]\n",
    "\n",
    "# Number of features to consider at every split\n",
    "max_features = [0.2,0.6,1.0]\n",
    "\n",
    "# Maximum number of levels in tree\n",
    "max_depth = [2,8,None]\n",
    "\n",
    "# Number of samples\n",
    "max_samples = [0.5,0.75,1.0]\n",
    "\n",
    "# Bootstrap samples\n",
    "bootstrap = [True,False]\n",
    "\n",
    "# Minimum number of samples required to split a node\n",
    "min_samples_split = [2, 5]\n",
    "\n",
    "# Minimum number of samples required at each leaf node\n",
    "min_samples_leaf = [1, 2]"
   ]
  },
  {
   "cell_type": "code",
   "execution_count": 7,
   "id": "d7fbbad9",
   "metadata": {},
   "outputs": [
    {
     "name": "stdout",
     "output_type": "stream",
     "text": [
      "{'n_estimators': [20, 60, 100, 120], 'max_features': [0.2, 0.6, 1.0], 'max_depth': [2, 8, None], 'max_samples': [0.5, 0.75, 1.0], 'bootstrap': [True, False], 'min_samples_split': [2, 5], 'min_samples_leaf': [1, 2]}\n"
     ]
    }
   ],
   "source": [
    "param_grid = {'n_estimators': n_estimators,\n",
    "               'max_features': max_features,\n",
    "               'max_depth': max_depth,\n",
    "              'max_samples':max_samples,\n",
    "              'bootstrap':bootstrap,\n",
    "              'min_samples_split':min_samples_split,\n",
    "              'min_samples_leaf':min_samples_leaf\n",
    "             }\n",
    "print(param_grid)"
   ]
  },
  {
   "cell_type": "code",
   "execution_count": 8,
   "id": "8738aaa3",
   "metadata": {},
   "outputs": [],
   "source": [
    "rf1 = RandomForestRegressor()"
   ]
  },
  {
   "cell_type": "code",
   "execution_count": 10,
   "id": "d5d3dc29",
   "metadata": {},
   "outputs": [],
   "source": [
    "from sklearn.model_selection import RandomizedSearchCV"
   ]
  },
  {
   "cell_type": "code",
   "execution_count": 9,
   "id": "bd6ca754",
   "metadata": {},
   "outputs": [],
   "source": [
    "\n",
    "\n",
    "rf_grid = RandomizedSearchCV(estimator = rf1, \n",
    "                       param_distributions= param_grid, \n",
    "                       cv = 5, \n",
    "                             \n",
    "                       verbose=2, \n",
    "                       n_jobs = -1)"
   ]
  },
  {
   "cell_type": "code",
   "execution_count": 10,
   "id": "88a310e7",
   "metadata": {},
   "outputs": [
    {
     "name": "stdout",
     "output_type": "stream",
     "text": [
      "Fitting 5 folds for each of 10 candidates, totalling 50 fits\n"
     ]
    },
    {
     "name": "stderr",
     "output_type": "stream",
     "text": [
      "C:\\Users\\ADMIN\\New folder\\lib\\site-packages\\sklearn\\model_selection\\_validation.py:372: FitFailedWarning: \n",
      "35 fits failed out of a total of 50.\n",
      "The score on these train-test partitions for these parameters will be set to nan.\n",
      "If these failures are not expected, you can try to debug them by setting error_score='raise'.\n",
      "\n",
      "Below are more details about the failures:\n",
      "--------------------------------------------------------------------------------\n",
      "35 fits failed with the following error:\n",
      "Traceback (most recent call last):\n",
      "  File \"C:\\Users\\ADMIN\\New folder\\lib\\site-packages\\sklearn\\model_selection\\_validation.py\", line 680, in _fit_and_score\n",
      "    estimator.fit(X_train, y_train, **fit_params)\n",
      "  File \"C:\\Users\\ADMIN\\New folder\\lib\\site-packages\\sklearn\\ensemble\\_forest.py\", line 379, in fit\n",
      "    raise ValueError(\n",
      "ValueError: `max_sample` cannot be set if `bootstrap=False`. Either switch to `bootstrap=True` or set `max_sample=None`.\n",
      "\n",
      "  warnings.warn(some_fits_failed_message, FitFailedWarning)\n",
      "C:\\Users\\ADMIN\\New folder\\lib\\site-packages\\sklearn\\model_selection\\_search.py:969: UserWarning: One or more of the test scores are non-finite: [       nan        nan 0.77592538        nan        nan 0.78090232\n",
      "        nan 0.77707846        nan        nan]\n",
      "  warnings.warn(\n",
      "C:\\Users\\ADMIN\\New folder\\lib\\site-packages\\sklearn\\model_selection\\_search.py:926: DataConversionWarning: A column-vector y was passed when a 1d array was expected. Please change the shape of y to (n_samples,), for example using ravel().\n",
      "  self.best_estimator_.fit(X, y, **fit_params)\n"
     ]
    },
    {
     "data": {
      "text/plain": [
       "RandomizedSearchCV(cv=5, estimator=RandomForestRegressor(), n_jobs=-1,\n",
       "                   param_distributions={'bootstrap': [True, False],\n",
       "                                        'max_depth': [2, 8, None],\n",
       "                                        'max_features': [0.2, 0.6, 1.0],\n",
       "                                        'max_samples': [0.5, 0.75, 1.0],\n",
       "                                        'min_samples_leaf': [1, 2],\n",
       "                                        'min_samples_split': [2, 5],\n",
       "                                        'n_estimators': [20, 60, 100, 120]},\n",
       "                   verbose=2)"
      ]
     },
     "execution_count": 10,
     "metadata": {},
     "output_type": "execute_result"
    }
   ],
   "source": [
    "rf_grid.fit(X_train,y_train)"
   ]
  },
  {
   "cell_type": "code",
   "execution_count": 11,
   "id": "ca8e87eb",
   "metadata": {},
   "outputs": [
    {
     "data": {
      "text/plain": [
       "{'n_estimators': 60,\n",
       " 'min_samples_split': 2,\n",
       " 'min_samples_leaf': 2,\n",
       " 'max_samples': 0.5,\n",
       " 'max_features': 0.6,\n",
       " 'max_depth': 8,\n",
       " 'bootstrap': True}"
      ]
     },
     "execution_count": 11,
     "metadata": {},
     "output_type": "execute_result"
    }
   ],
   "source": [
    "rf_grid.best_params_"
   ]
  },
  {
   "cell_type": "code",
   "execution_count": 12,
   "id": "48032239",
   "metadata": {},
   "outputs": [
    {
     "data": {
      "text/plain": [
       "0.780902317965665"
      ]
     },
     "execution_count": 12,
     "metadata": {},
     "output_type": "execute_result"
    }
   ],
   "source": [
    "rf_grid.best_score_"
   ]
  },
  {
   "cell_type": "code",
   "execution_count": 13,
   "id": "0ca297a6",
   "metadata": {},
   "outputs": [],
   "source": [
    "rf1 = RandomForestRegressor(max_depth=8,n_estimators= 20,max_samples=1.0,max_features=1.0,bootstrap=True,min_samples_split=2,min_samples_leaf=2)"
   ]
  },
  {
   "cell_type": "code",
   "execution_count": 14,
   "id": "29931768",
   "metadata": {},
   "outputs": [
    {
     "name": "stderr",
     "output_type": "stream",
     "text": [
      "C:\\Users\\ADMIN\\AppData\\Local\\Temp\\ipykernel_8000\\526077064.py:1: DataConversionWarning: A column-vector y was passed when a 1d array was expected. Please change the shape of y to (n_samples,), for example using ravel().\n",
      "  rf1.fit(X_train,y_train)\n"
     ]
    },
    {
     "data": {
      "text/plain": [
       "RandomForestRegressor(max_depth=8, max_features=1.0, max_samples=1.0,\n",
       "                      min_samples_leaf=2, n_estimators=20)"
      ]
     },
     "execution_count": 14,
     "metadata": {},
     "output_type": "execute_result"
    }
   ],
   "source": [
    "rf1.fit(X_train,y_train)"
   ]
  },
  {
   "cell_type": "code",
   "execution_count": 15,
   "id": "40435a62",
   "metadata": {},
   "outputs": [],
   "source": [
    "y_predrf = rf1.predict(X_test)"
   ]
  },
  {
   "cell_type": "code",
   "execution_count": 16,
   "id": "04f49d3a",
   "metadata": {},
   "outputs": [],
   "source": [
    "rfRR=r2_score(y_test,y_predrf)"
   ]
  },
  {
   "cell_type": "code",
   "execution_count": 17,
   "id": "45147f08",
   "metadata": {},
   "outputs": [
    {
     "data": {
      "text/plain": [
       "0.7847833116314444"
      ]
     },
     "execution_count": 17,
     "metadata": {},
     "output_type": "execute_result"
    }
   ],
   "source": [
    "rfRR"
   ]
  },
  {
   "cell_type": "markdown",
   "id": "8ffd58d1",
   "metadata": {},
   "source": [
    "### Decision tree regressor"
   ]
  },
  {
   "cell_type": "code",
   "execution_count": 18,
   "id": "475e1172",
   "metadata": {},
   "outputs": [],
   "source": [
    " from sklearn.tree import DecisionTreeRegressor"
   ]
  },
  {
   "cell_type": "code",
   "execution_count": 563,
   "id": "7584aa07",
   "metadata": {},
   "outputs": [],
   "source": [
    "# Maximum number of levels in tree\n",
    "max_depth = [250,300,400,500]\n",
    "\n",
    "# Minimum number of samples required to split a node\n",
    "min_samples_split = [200,250,300,350]\n",
    "\n",
    "#The minimum number of samples required to be at a leaf node.\n",
    "min_samples_leaf=[150,200,250,300,400]\n",
    "\n",
    "#The minimum weighted fraction of the sum total of weights (of all the input samples) required to be at a leaf node.\n",
    "min_weight_fraction_leaf=[0.0,0.4]\n",
    "\n",
    "#The number of features to consider when looking for the best split\n",
    "max_features=[9]\n",
    "\n",
    "#Complexity parameter used for Minimal Cost-Complexity Pruning\n",
    "ccp_alpha=[0.3,0.5]"
   ]
  },
  {
   "cell_type": "code",
   "execution_count": 564,
   "id": "34b24c30",
   "metadata": {},
   "outputs": [
    {
     "name": "stdout",
     "output_type": "stream",
     "text": [
      "{'max_depth': [250, 300, 400, 500], 'min_samples_split': [200, 250, 300, 350], 'min_samples_leaf': [150, 200, 250, 300, 400], 'min_weight_fraction_leaf': [0.0, 0.4], 'max_features': [9], 'ccp_alpha': [0.3, 0.5]}\n"
     ]
    }
   ],
   "source": [
    "param_grid = {'max_depth': max_depth,\n",
    "               'min_samples_split':min_samples_split,\n",
    "              'min_samples_leaf':min_samples_leaf,\n",
    "               'min_weight_fraction_leaf':min_weight_fraction_leaf,\n",
    "               'max_features': max_features,\n",
    "               'ccp_alpha':ccp_alpha\n",
    "              #'max_leaf_nodes':max_leaf_nodes\n",
    "             }\n",
    "print(param_grid)"
   ]
  },
  {
   "cell_type": "code",
   "execution_count": 565,
   "id": "d50dfcc2",
   "metadata": {},
   "outputs": [],
   "source": [
    "dtr1 = DecisionTreeRegressor()"
   ]
  },
  {
   "cell_type": "code",
   "execution_count": 566,
   "id": "010a5386",
   "metadata": {},
   "outputs": [],
   "source": [
    "dtr1_grid = RandomizedSearchCV(estimator = dtr1, \n",
    "                       param_distributions= param_grid, \n",
    "                       cv = 5, \n",
    "                       verbose=2, \n",
    "                       n_jobs = -1)"
   ]
  },
  {
   "cell_type": "code",
   "execution_count": 574,
   "id": "d6505611",
   "metadata": {},
   "outputs": [
    {
     "name": "stdout",
     "output_type": "stream",
     "text": [
      "Fitting 5 folds for each of 10 candidates, totalling 50 fits\n"
     ]
    },
    {
     "data": {
      "text/plain": [
       "RandomizedSearchCV(cv=5, estimator=DecisionTreeRegressor(), n_jobs=-1,\n",
       "                   param_distributions={'ccp_alpha': [0.3, 0.5],\n",
       "                                        'max_depth': [250, 300, 400, 500],\n",
       "                                        'max_features': [9],\n",
       "                                        'min_samples_leaf': [150, 200, 250, 300,\n",
       "                                                             400],\n",
       "                                        'min_samples_split': [200, 250, 300,\n",
       "                                                              350],\n",
       "                                        'min_weight_fraction_leaf': [0.0, 0.4]},\n",
       "                   verbose=2)"
      ]
     },
     "execution_count": 574,
     "metadata": {},
     "output_type": "execute_result"
    }
   ],
   "source": [
    "dtr1_grid.fit(X_train,y_train)"
   ]
  },
  {
   "cell_type": "code",
   "execution_count": 575,
   "id": "3a87b56f",
   "metadata": {},
   "outputs": [
    {
     "data": {
      "text/plain": [
       "{'min_weight_fraction_leaf': 0.0,\n",
       " 'min_samples_split': 300,\n",
       " 'min_samples_leaf': 200,\n",
       " 'max_features': 9,\n",
       " 'max_depth': 400,\n",
       " 'ccp_alpha': 0.3}"
      ]
     },
     "execution_count": 575,
     "metadata": {},
     "output_type": "execute_result"
    }
   ],
   "source": [
    "dtr1_grid.best_params_"
   ]
  },
  {
   "cell_type": "code",
   "execution_count": 576,
   "id": "6ecdadc4",
   "metadata": {},
   "outputs": [
    {
     "data": {
      "text/plain": [
       "0.7217583915216859"
      ]
     },
     "execution_count": 576,
     "metadata": {},
     "output_type": "execute_result"
    }
   ],
   "source": [
    "dtr1_grid.best_score_ ## got this score after almost 500 runs"
   ]
  },
  {
   "cell_type": "markdown",
   "id": "f186c363",
   "metadata": {},
   "source": [
    "### CatBoost Regression"
   ]
  },
  {
   "cell_type": "code",
   "execution_count": 9,
   "id": "93cbccf5",
   "metadata": {},
   "outputs": [],
   "source": [
    "from catboost import CatBoostRegressor"
   ]
  },
  {
   "cell_type": "code",
   "execution_count": 47,
   "id": "5e4893f6",
   "metadata": {},
   "outputs": [],
   "source": [
    "#The maximum number of trees that can be built when solving machine learning problems\n",
    "iterations=[5,7,10]\n",
    "\n",
    "#Used for reducing the gradient step\n",
    "learning_rate=[0.01,0.03,0.05]\n",
    "\n",
    "# Maximum number of levels in tree\n",
    "max_depth=[3,7,10,15]\n",
    "\n",
    "\n",
    "#The maximum number of leafs in the resulting tree\n",
    "#max_leaves=[3,5,7,10]\n",
    "\n",
    "#The minimum number of training samples in a leaf\n",
    "min_child_samples=[1,3,5,7,10]\n",
    "\n",
    "\n",
    "#the number of trees that are saved in the resulting model is defined\n",
    "#use_best_model=[True,False]\n"
   ]
  },
  {
   "cell_type": "code",
   "execution_count": 48,
   "id": "000fb04a",
   "metadata": {},
   "outputs": [
    {
     "name": "stdout",
     "output_type": "stream",
     "text": [
      "{'iterations': [5, 7, 10], 'learning_rate': [0.01, 0.03, 0.05], 'max_depth': [3, 7, 10, 15], 'min_child_samples': [1, 3, 5, 7, 10]}\n"
     ]
    }
   ],
   "source": [
    "param_grid = {'iterations' : iterations,\n",
    "              'learning_rate':learning_rate,\n",
    "               'max_depth': max_depth,\n",
    "               #'max_leaves':max_leaves,\n",
    "              'min_child_samples':min_child_samples,\n",
    "               #'use_best_model' :use_best_model\n",
    "             }\n",
    "print(param_grid)"
   ]
  },
  {
   "cell_type": "code",
   "execution_count": 49,
   "id": "4d3ce884",
   "metadata": {},
   "outputs": [],
   "source": [
    "cbr1=CatBoostRegressor()"
   ]
  },
  {
   "cell_type": "code",
   "execution_count": 50,
   "id": "5f4f16a3",
   "metadata": {},
   "outputs": [],
   "source": [
    "from sklearn.model_selection import RandomizedSearchCV\n",
    "cbr1_grid = RandomizedSearchCV(estimator = cbr1,\n",
    "                              param_distributions = param_grid,\n",
    "                               cv=5,\n",
    "                               verbose= 2,\n",
    "                               n_jobs = -1\n",
    "                              )"
   ]
  },
  {
   "cell_type": "code",
   "execution_count": 51,
   "id": "8b8caf76",
   "metadata": {},
   "outputs": [
    {
     "name": "stdout",
     "output_type": "stream",
     "text": [
      "Fitting 5 folds for each of 10 candidates, totalling 50 fits\n",
      "0:\tlearn: 5.3177337\ttotal: 85.3ms\tremaining: 341ms\n",
      "1:\tlearn: 5.1996159\ttotal: 561ms\tremaining: 842ms\n",
      "2:\tlearn: 5.0862552\ttotal: 1.04s\tremaining: 697ms\n",
      "3:\tlearn: 4.9754866\ttotal: 1.52s\tremaining: 380ms\n",
      "4:\tlearn: 4.8711823\ttotal: 1.99s\tremaining: 0us\n"
     ]
    },
    {
     "data": {
      "text/plain": [
       "RandomizedSearchCV(cv=5,\n",
       "                   estimator=<catboost.core.CatBoostRegressor object at 0x0000028197427D60>,\n",
       "                   n_jobs=-1,\n",
       "                   param_distributions={'iterations': [5, 7, 10],\n",
       "                                        'learning_rate': [0.01, 0.03, 0.05],\n",
       "                                        'max_depth': [3, 7, 10, 15],\n",
       "                                        'min_child_samples': [1, 3, 5, 7, 10]},\n",
       "                   verbose=2)"
      ]
     },
     "execution_count": 51,
     "metadata": {},
     "output_type": "execute_result"
    }
   ],
   "source": [
    "cbr1_grid.fit(X_train,y_train)"
   ]
  },
  {
   "cell_type": "code",
   "execution_count": 52,
   "id": "987b5a2a",
   "metadata": {},
   "outputs": [
    {
     "data": {
      "text/plain": [
       "{'min_child_samples': 7,\n",
       " 'max_depth': 15,\n",
       " 'learning_rate': 0.03,\n",
       " 'iterations': 5}"
      ]
     },
     "execution_count": 52,
     "metadata": {},
     "output_type": "execute_result"
    }
   ],
   "source": [
    "cbr1_grid.best_params_"
   ]
  },
  {
   "cell_type": "code",
   "execution_count": 53,
   "id": "b58ce868",
   "metadata": {},
   "outputs": [
    {
     "data": {
      "text/plain": [
       "nan"
      ]
     },
     "execution_count": 53,
     "metadata": {},
     "output_type": "execute_result"
    }
   ],
   "source": [
    "cbr1_grid.best_score_"
   ]
  },
  {
   "cell_type": "markdown",
   "id": "c068fd4d",
   "metadata": {},
   "source": [
    "### LGBM Regressor"
   ]
  },
  {
   "cell_type": "code",
   "execution_count": 5,
   "id": "b55987a1",
   "metadata": {},
   "outputs": [],
   "source": [
    "from lightgbm import LGBMRegressor"
   ]
  },
  {
   "cell_type": "code",
   "execution_count": 6,
   "id": "c07d833a",
   "metadata": {},
   "outputs": [],
   "source": [
    "lgbm1 = LGBMRegressor()"
   ]
  },
  {
   "cell_type": "code",
   "execution_count": 7,
   "id": "b44020d4",
   "metadata": {},
   "outputs": [],
   "source": [
    "boosting_type=['dart','rf']\n",
    "num_leaves=[60,65,70,75]\n",
    "n_estimators=[225,250,300]\n",
    "max_depth=[10,12,15,17]\n",
    "learning_rate=[0.8,0.9,1.0]\n",
    "min_split_gain = [0,0.1,0.5]"
   ]
  },
  {
   "cell_type": "code",
   "execution_count": 8,
   "id": "12ee6168",
   "metadata": {},
   "outputs": [
    {
     "name": "stdout",
     "output_type": "stream",
     "text": [
      "{'boosting_type': ['dart', 'rf'], 'num_leaves': [50, 55, 60, 65, 70, 75, 80], 'n_estimators': [150, 200, 225, 250, 300, 250], 'max_depth': [1, 5, 8, 10, 12, 15, 17], 'learning_rate': [0.2, 0.3, 0.5, 0.8, 0.9, 1.0], 'min_split_gain': [0, 0.1, 0.5, 0.7]}\n"
     ]
    }
   ],
   "source": [
    "param_grid = {'boosting_type':boosting_type,\n",
    "              'num_leaves':num_leaves,\n",
    "              'n_estimators':n_estimators,\n",
    "              'max_depth':max_depth,\n",
    "              'learning_rate':learning_rate,\n",
    "              'min_split_gain':min_split_gain}\n",
    "print(param_grid)"
   ]
  },
  {
   "cell_type": "code",
   "execution_count": 9,
   "id": "6107f442",
   "metadata": {},
   "outputs": [],
   "source": [
    "from sklearn.model_selection import RandomizedSearchCV\n",
    "lgbm1_grid = RandomizedSearchCV(estimator = lgbm1,\n",
    "                               param_distributions = param_grid,\n",
    "                                cv=5,\n",
    "                                verbose = 2,\n",
    "                                n_jobs=-1\n",
    "                               )"
   ]
  },
  {
   "cell_type": "code",
   "execution_count": 10,
   "id": "6f5acc1f",
   "metadata": {},
   "outputs": [
    {
     "name": "stdout",
     "output_type": "stream",
     "text": [
      "Fitting 5 folds for each of 10 candidates, totalling 50 fits\n"
     ]
    },
    {
     "name": "stderr",
     "output_type": "stream",
     "text": [
      "C:\\Users\\ADMIN\\New folder\\lib\\site-packages\\sklearn\\model_selection\\_validation.py:372: FitFailedWarning: \n",
      "20 fits failed out of a total of 50.\n",
      "The score on these train-test partitions for these parameters will be set to nan.\n",
      "If these failures are not expected, you can try to debug them by setting error_score='raise'.\n",
      "\n",
      "Below are more details about the failures:\n",
      "--------------------------------------------------------------------------------\n",
      "20 fits failed with the following error:\n",
      "Traceback (most recent call last):\n",
      "  File \"C:\\Users\\ADMIN\\New folder\\lib\\site-packages\\sklearn\\model_selection\\_validation.py\", line 680, in _fit_and_score\n",
      "    estimator.fit(X_train, y_train, **fit_params)\n",
      "  File \"C:\\Users\\ADMIN\\New folder\\lib\\site-packages\\lightgbm\\sklearn.py\", line 895, in fit\n",
      "    super().fit(X, y, sample_weight=sample_weight, init_score=init_score,\n",
      "  File \"C:\\Users\\ADMIN\\New folder\\lib\\site-packages\\lightgbm\\sklearn.py\", line 748, in fit\n",
      "    self._Booster = train(\n",
      "  File \"C:\\Users\\ADMIN\\New folder\\lib\\site-packages\\lightgbm\\engine.py\", line 271, in train\n",
      "    booster = Booster(params=params, train_set=train_set)\n",
      "  File \"C:\\Users\\ADMIN\\New folder\\lib\\site-packages\\lightgbm\\basic.py\", line 2610, in __init__\n",
      "    _safe_call(_LIB.LGBM_BoosterCreate(\n",
      "  File \"C:\\Users\\ADMIN\\New folder\\lib\\site-packages\\lightgbm\\basic.py\", line 125, in _safe_call\n",
      "    raise LightGBMError(_LIB.LGBM_GetLastError().decode('utf-8'))\n",
      "lightgbm.basic.LightGBMError: Check failed: config->bagging_freq > 0 && config->bagging_fraction < 1.0f && config->bagging_fraction > 0.0f at D:\\a\\1\\s\\python-package\\compile\\src\\boosting\\rf.hpp, line 35 .\n",
      "\n",
      "\n",
      "  warnings.warn(some_fits_failed_message, FitFailedWarning)\n",
      "C:\\Users\\ADMIN\\New folder\\lib\\site-packages\\sklearn\\model_selection\\_search.py:969: UserWarning: One or more of the test scores are non-finite: [       nan 0.78219678 0.78717259 0.78791128 0.78437046        nan\n",
      "        nan        nan 0.78422325 0.78760652]\n",
      "  warnings.warn(\n"
     ]
    },
    {
     "data": {
      "text/plain": [
       "RandomizedSearchCV(cv=5, estimator=LGBMRegressor(), n_jobs=-1,\n",
       "                   param_distributions={'boosting_type': ['dart', 'rf'],\n",
       "                                        'learning_rate': [0.2, 0.3, 0.5, 0.8,\n",
       "                                                          0.9, 1.0],\n",
       "                                        'max_depth': [1, 5, 8, 10, 12, 15, 17],\n",
       "                                        'min_split_gain': [0, 0.1, 0.5, 0.7],\n",
       "                                        'n_estimators': [150, 200, 225, 250,\n",
       "                                                         300, 250],\n",
       "                                        'num_leaves': [50, 55, 60, 65, 70, 75,\n",
       "                                                       80]},\n",
       "                   verbose=2)"
      ]
     },
     "execution_count": 10,
     "metadata": {},
     "output_type": "execute_result"
    }
   ],
   "source": [
    "lgbm1_grid.fit(X_train,y_train)"
   ]
  },
  {
   "cell_type": "code",
   "execution_count": 11,
   "id": "9491f87f",
   "metadata": {},
   "outputs": [
    {
     "data": {
      "text/plain": [
       "{'num_leaves': 80,\n",
       " 'n_estimators': 200,\n",
       " 'min_split_gain': 0,\n",
       " 'max_depth': 5,\n",
       " 'learning_rate': 0.3,\n",
       " 'boosting_type': 'dart'}"
      ]
     },
     "execution_count": 11,
     "metadata": {},
     "output_type": "execute_result"
    }
   ],
   "source": [
    "lgbm1_grid.best_params_"
   ]
  },
  {
   "cell_type": "code",
   "execution_count": 12,
   "id": "3d368f76",
   "metadata": {},
   "outputs": [
    {
     "data": {
      "text/plain": [
       "0.7879112840585323"
      ]
     },
     "execution_count": 12,
     "metadata": {},
     "output_type": "execute_result"
    }
   ],
   "source": [
    "lgbm1_grid.best_score_"
   ]
  },
  {
   "cell_type": "code",
   "execution_count": 26,
   "id": "b4407bdd",
   "metadata": {},
   "outputs": [],
   "source": [
    "lgbm1= LGBMRegressor(num_leaves = 55,n_estimators=200,min_split_gain=0.7,max_depth=10,learning_rate=0.2,boosting_type='dart')"
   ]
  },
  {
   "cell_type": "code",
   "execution_count": 27,
   "id": "60058a9f",
   "metadata": {},
   "outputs": [
    {
     "data": {
      "text/plain": [
       "LGBMRegressor(boosting_type='dart', learning_rate=0.2, max_depth=10,\n",
       "              min_split_gain=0.7, n_estimators=200, num_leaves=55)"
      ]
     },
     "execution_count": 27,
     "metadata": {},
     "output_type": "execute_result"
    }
   ],
   "source": [
    "lgbm1.fit(X_train,y_train)"
   ]
  },
  {
   "cell_type": "code",
   "execution_count": 28,
   "id": "a560f218",
   "metadata": {},
   "outputs": [],
   "source": [
    "y_predlg = lgbm1.predict(X_test)"
   ]
  },
  {
   "cell_type": "code",
   "execution_count": 30,
   "id": "07a05a11",
   "metadata": {},
   "outputs": [
    {
     "data": {
      "text/plain": [
       "0.7894098774096638"
      ]
     },
     "execution_count": 30,
     "metadata": {},
     "output_type": "execute_result"
    }
   ],
   "source": [
    "r2_score(y_test,y_predlg)"
   ]
  },
  {
   "cell_type": "markdown",
   "id": "098114f5",
   "metadata": {},
   "source": [
    "### XGBoost Regressor"
   ]
  },
  {
   "cell_type": "code",
   "execution_count": 13,
   "id": "03191b11",
   "metadata": {},
   "outputs": [],
   "source": [
    "from xgboost.sklearn import XGBRegressor"
   ]
  },
  {
   "cell_type": "code",
   "execution_count": 14,
   "id": "caeb5c7e",
   "metadata": {},
   "outputs": [],
   "source": [
    "xgb1 =XGBRegressor()"
   ]
  },
  {
   "cell_type": "code",
   "execution_count": 15,
   "id": "407937f5",
   "metadata": {},
   "outputs": [],
   "source": [
    "learning_rate=[0.3,0.4,0.5]\n",
    "\n",
    "#Minimum loss reduction required to make a further partition on a leaf node of the tree\n",
    "min_split_loss = [0,3,5,7]\n",
    "\n",
    "max_depth=[6,10,12,15]\n",
    "\n",
    "#Maximum number of nodes to be added.\n",
    "max_leaves=[0,5,7,8,10]"
   ]
  },
  {
   "cell_type": "code",
   "execution_count": 16,
   "id": "e901820e",
   "metadata": {},
   "outputs": [
    {
     "name": "stdout",
     "output_type": "stream",
     "text": [
      "{'learning_rate': [0.3, 0.4, 0.5], 'min_split_loss': [0, 3, 5, 7], 'max_depth': [6, 10, 12, 15], 'max_leaves': [0, 5, 7, 8, 10]}\n"
     ]
    }
   ],
   "source": [
    "param_grid = {'learning_rate':learning_rate,\n",
    "              'min_split_loss':min_split_loss,\n",
    "              'max_depth':max_depth,\n",
    "              'max_leaves':max_leaves}\n",
    "print(param_grid)"
   ]
  },
  {
   "cell_type": "code",
   "execution_count": 19,
   "id": "4dd7c2ba",
   "metadata": {},
   "outputs": [],
   "source": [
    "xgb1_grid = RandomizedSearchCV(estimator = xgb1,\n",
    "                               param_distributions = param_grid,\n",
    "                               cv=5,\n",
    "                               verbose =2,\n",
    "                               n_jobs=-1\n",
    "                              )"
   ]
  },
  {
   "cell_type": "code",
   "execution_count": 22,
   "id": "1998fa48",
   "metadata": {},
   "outputs": [
    {
     "name": "stdout",
     "output_type": "stream",
     "text": [
      "Fitting 5 folds for each of 10 candidates, totalling 50 fits\n"
     ]
    },
    {
     "data": {
      "text/plain": [
       "RandomizedSearchCV(cv=5,\n",
       "                   estimator=XGBRegressor(base_score=None, booster=None,\n",
       "                                          callbacks=None,\n",
       "                                          colsample_bylevel=None,\n",
       "                                          colsample_bynode=None,\n",
       "                                          colsample_bytree=None,\n",
       "                                          early_stopping_rounds=None,\n",
       "                                          enable_categorical=False,\n",
       "                                          eval_metric=None, gamma=None,\n",
       "                                          gpu_id=None, grow_policy=None,\n",
       "                                          importance_type=None,\n",
       "                                          interaction_constraints=None,\n",
       "                                          learning_rate=None, max_bin=None,\n",
       "                                          m...\n",
       "                                          max_delta_step=None, max_depth=None,\n",
       "                                          max_leaves=None,\n",
       "                                          min_child_weight=None, missing=nan,\n",
       "                                          monotone_constraints=None,\n",
       "                                          n_estimators=100, n_jobs=None,\n",
       "                                          num_parallel_tree=None,\n",
       "                                          predictor=None, random_state=None,\n",
       "                                          reg_alpha=None, reg_lambda=None, ...),\n",
       "                   n_jobs=-1,\n",
       "                   param_distributions={'learning_rate': [0.3, 0.4, 0.5],\n",
       "                                        'max_depth': [6, 10, 12, 15],\n",
       "                                        'max_leaves': [0, 5, 7, 8, 10],\n",
       "                                        'min_split_loss': [0, 3, 5, 7]},\n",
       "                   verbose=2)"
      ]
     },
     "execution_count": 22,
     "metadata": {},
     "output_type": "execute_result"
    }
   ],
   "source": [
    "xgb1_grid.fit(X_train,y_train)"
   ]
  },
  {
   "cell_type": "code",
   "execution_count": 24,
   "id": "eec68014",
   "metadata": {},
   "outputs": [
    {
     "data": {
      "text/plain": [
       "{'min_split_loss': 0, 'max_leaves': 0, 'max_depth': 6, 'learning_rate': 0.3}"
      ]
     },
     "execution_count": 24,
     "metadata": {},
     "output_type": "execute_result"
    }
   ],
   "source": [
    "xgb1_grid.best_params_"
   ]
  },
  {
   "cell_type": "code",
   "execution_count": 25,
   "id": "e770e2d9",
   "metadata": {},
   "outputs": [
    {
     "data": {
      "text/plain": [
       "0.782270690187591"
      ]
     },
     "execution_count": 25,
     "metadata": {},
     "output_type": "execute_result"
    }
   ],
   "source": [
    "xgb1_grid.best_score_"
   ]
  },
  {
   "cell_type": "code",
   "execution_count": 26,
   "id": "210d5b2c",
   "metadata": {},
   "outputs": [],
   "source": [
    "xgb1 =XGBRegressor(min_split_loss=0,max_leaves=0,max_depth=6,learning_rate=0.3)"
   ]
  },
  {
   "cell_type": "code",
   "execution_count": 27,
   "id": "658d0f36",
   "metadata": {},
   "outputs": [
    {
     "data": {
      "text/plain": [
       "XGBRegressor(base_score=0.5, booster='gbtree', callbacks=None,\n",
       "             colsample_bylevel=1, colsample_bynode=1, colsample_bytree=1,\n",
       "             early_stopping_rounds=None, enable_categorical=False,\n",
       "             eval_metric=None, gamma=0, gpu_id=-1, grow_policy='depthwise',\n",
       "             importance_type=None, interaction_constraints='',\n",
       "             learning_rate=0.3, max_bin=256, max_cat_to_onehot=4,\n",
       "             max_delta_step=0, max_depth=6, max_leaves=0, min_child_weight=1,\n",
       "             min_split_loss=0, missing=nan, monotone_constraints='()',\n",
       "             n_estimators=100, n_jobs=0, num_parallel_tree=1, predictor='auto',\n",
       "             random_state=0, reg_alpha=0, ...)"
      ]
     },
     "execution_count": 27,
     "metadata": {},
     "output_type": "execute_result"
    }
   ],
   "source": [
    "xgb1.fit(X_train,y_train)"
   ]
  },
  {
   "cell_type": "code",
   "execution_count": 28,
   "id": "89de125e",
   "metadata": {},
   "outputs": [],
   "source": [
    "y_predxgb = xgb1.predict(X_test)"
   ]
  },
  {
   "cell_type": "code",
   "execution_count": 29,
   "id": "78b28795",
   "metadata": {},
   "outputs": [],
   "source": [
    "xgbRR2=r2_score(y_test,y_predxgb)"
   ]
  },
  {
   "cell_type": "code",
   "execution_count": 30,
   "id": "cce13889",
   "metadata": {},
   "outputs": [
    {
     "data": {
      "text/plain": [
       "0.7874448061062237"
      ]
     },
     "execution_count": 30,
     "metadata": {},
     "output_type": "execute_result"
    }
   ],
   "source": [
    "xgbRR2"
   ]
  },
  {
   "cell_type": "markdown",
   "id": "4c685d27",
   "metadata": {},
   "source": [
    "### Bayesian Ridge Regression"
   ]
  },
  {
   "cell_type": "code",
   "execution_count": 21,
   "id": "b042f11f",
   "metadata": {},
   "outputs": [],
   "source": [
    "from sklearn.model_selection import GridSearchCV"
   ]
  },
  {
   "cell_type": "code",
   "execution_count": 5,
   "id": "08b77c73",
   "metadata": {},
   "outputs": [],
   "source": [
    "from sklearn.linear_model import BayesianRidge"
   ]
  },
  {
   "cell_type": "code",
   "execution_count": 6,
   "id": "78ec26c9",
   "metadata": {},
   "outputs": [],
   "source": [
    "br1 = BayesianRidge()"
   ]
  },
  {
   "cell_type": "code",
   "execution_count": 8,
   "id": "db3c6c9a",
   "metadata": {},
   "outputs": [],
   "source": [
    "#Maximum number of iterations\n",
    "n_iter=[300,350,400]\n",
    "\n",
    "#Stop the algorithm if w has converged\n",
    "tol=[0.001,0.002,0.005]\n",
    "\n",
    "#Initial value for alpha (precision of the noise).\n",
    "alpha_init=[0,1,4,7]\n",
    "\n",
    "#Initial value for lambda (precision of the weights).\n",
    "lambda_init=[1,5,7,10]"
   ]
  },
  {
   "cell_type": "code",
   "execution_count": 9,
   "id": "ddaac05e",
   "metadata": {},
   "outputs": [
    {
     "name": "stdout",
     "output_type": "stream",
     "text": [
      "{'n_iter': [300, 350, 400], 'tol': [0.001, 0.002, 0.005], 'alpha_init': [0, 1, 4, 7], 'lambda_init': [1, 5, 7, 10]}\n"
     ]
    }
   ],
   "source": [
    "param_grid={'n_iter':n_iter,\n",
    "            'tol':tol,\n",
    "            'alpha_init':alpha_init,\n",
    "            'lambda_init':lambda_init}\n",
    "print(param_grid)"
   ]
  },
  {
   "cell_type": "code",
   "execution_count": 22,
   "id": "a5e21982",
   "metadata": {},
   "outputs": [],
   "source": [
    "br1_grid = GridSearchCV(estimator=br1,\n",
    "                             param_grid = param_grid,\n",
    "                             cv=5,\n",
    "                             verbose=2,\n",
    "                             n_jobs=-1)"
   ]
  },
  {
   "cell_type": "code",
   "execution_count": 23,
   "id": "669f6322",
   "metadata": {},
   "outputs": [
    {
     "name": "stdout",
     "output_type": "stream",
     "text": [
      "Fitting 5 folds for each of 144 candidates, totalling 720 fits\n"
     ]
    },
    {
     "name": "stderr",
     "output_type": "stream",
     "text": [
      "C:\\Users\\ADMIN\\New folder\\lib\\site-packages\\sklearn\\model_selection\\_validation.py:372: FitFailedWarning: \n",
      "180 fits failed out of a total of 720.\n",
      "The score on these train-test partitions for these parameters will be set to nan.\n",
      "If these failures are not expected, you can try to debug them by setting error_score='raise'.\n",
      "\n",
      "Below are more details about the failures:\n",
      "--------------------------------------------------------------------------------\n",
      "180 fits failed with the following error:\n",
      "Traceback (most recent call last):\n",
      "  File \"C:\\Users\\ADMIN\\New folder\\lib\\site-packages\\sklearn\\model_selection\\_validation.py\", line 680, in _fit_and_score\n",
      "    estimator.fit(X_train, y_train, **fit_params)\n",
      "  File \"C:\\Users\\ADMIN\\New folder\\lib\\site-packages\\sklearn\\linear_model\\_bayes.py\", line 291, in fit\n",
      "    coef_, rmse_ = self._update_coef_(\n",
      "  File \"C:\\Users\\ADMIN\\New folder\\lib\\site-packages\\sklearn\\linear_model\\_bayes.py\", line 384, in _update_coef_\n",
      "    [Vh.T, Vh / (eigen_vals_ + lambda_ / alpha_)[:, np.newaxis], XT_y]\n",
      "ZeroDivisionError: division by zero\n",
      "\n",
      "  warnings.warn(some_fits_failed_message, FitFailedWarning)\n",
      "C:\\Users\\ADMIN\\New folder\\lib\\site-packages\\sklearn\\model_selection\\_search.py:969: UserWarning: One or more of the test scores are non-finite: [       nan        nan        nan        nan        nan        nan\n",
      "        nan        nan        nan        nan        nan        nan\n",
      "        nan        nan        nan        nan        nan        nan\n",
      "        nan        nan        nan        nan        nan        nan\n",
      "        nan        nan        nan        nan        nan        nan\n",
      "        nan        nan        nan        nan        nan        nan\n",
      " 0.72914362 0.72914362 0.72914362 0.72914362 0.72914362 0.72914362\n",
      " 0.72914362 0.72914362 0.72914362 0.72914362 0.72914362 0.72914362\n",
      " 0.72914362 0.72914362 0.72914362 0.72914362 0.72914362 0.72914362\n",
      " 0.72914362 0.72914362 0.72914362 0.72914362 0.72914362 0.72914362\n",
      " 0.72914362 0.72914362 0.72914362 0.72914362 0.72914362 0.72914362\n",
      " 0.72914362 0.72914362 0.72914362 0.72914362 0.72914362 0.72914362\n",
      " 0.72914362 0.72914362 0.72914362 0.72914362 0.72914362 0.72914362\n",
      " 0.72914362 0.72914362 0.72914362 0.72914362 0.72914362 0.72914362\n",
      " 0.72914362 0.72914362 0.72914362 0.72914362 0.72914362 0.72914362\n",
      " 0.72914362 0.72914362 0.72914362 0.72914362 0.72914362 0.72914362\n",
      " 0.72914362 0.72914362 0.72914362 0.72914362 0.72914362 0.72914362\n",
      " 0.72914362 0.72914362 0.72914362 0.72914362 0.72914362 0.72914362\n",
      " 0.72914362 0.72914362 0.72914362 0.72914362 0.72914362 0.72914362\n",
      " 0.72914362 0.72914362 0.72914362 0.72914362 0.72914362 0.72914362\n",
      " 0.72914362 0.72914362 0.72914362 0.72914362 0.72914362 0.72914362\n",
      " 0.72914362 0.72914362 0.72914362 0.72914362 0.72914362 0.72914362\n",
      " 0.72914362 0.72914362 0.72914362 0.72914362 0.72914362 0.72914362\n",
      " 0.72914362 0.72914362 0.72914362 0.72914362 0.72914362 0.72914362]\n",
      "  warnings.warn(\n",
      "C:\\Users\\ADMIN\\New folder\\lib\\site-packages\\sklearn\\utils\\validation.py:993: DataConversionWarning: A column-vector y was passed when a 1d array was expected. Please change the shape of y to (n_samples, ), for example using ravel().\n",
      "  y = column_or_1d(y, warn=True)\n"
     ]
    },
    {
     "data": {
      "text/plain": [
       "GridSearchCV(cv=5, estimator=BayesianRidge(), n_jobs=-1,\n",
       "             param_grid={'alpha_init': [0, 1, 4, 7],\n",
       "                         'lambda_init': [1, 5, 7, 10],\n",
       "                         'n_iter': [300, 350, 400],\n",
       "                         'tol': [0.001, 0.002, 0.005]},\n",
       "             verbose=2)"
      ]
     },
     "execution_count": 23,
     "metadata": {},
     "output_type": "execute_result"
    }
   ],
   "source": [
    "br1_grid.fit(X_train,y_train)"
   ]
  },
  {
   "cell_type": "code",
   "execution_count": 24,
   "id": "ddd4c4d2",
   "metadata": {},
   "outputs": [
    {
     "data": {
      "text/plain": [
       "{'alpha_init': 1, 'lambda_init': 10, 'n_iter': 300, 'tol': 0.001}"
      ]
     },
     "execution_count": 24,
     "metadata": {},
     "output_type": "execute_result"
    }
   ],
   "source": [
    "br1_grid.best_params_"
   ]
  },
  {
   "cell_type": "code",
   "execution_count": 25,
   "id": "2cbab341",
   "metadata": {},
   "outputs": [
    {
     "data": {
      "text/plain": [
       "0.7291436151326475"
      ]
     },
     "execution_count": 25,
     "metadata": {},
     "output_type": "execute_result"
    }
   ],
   "source": [
    "br1_grid.best_score_"
   ]
  },
  {
   "cell_type": "code",
   "execution_count": 26,
   "id": "249df204",
   "metadata": {},
   "outputs": [],
   "source": [
    " br1=BayesianRidge(alpha_init=1,lambda_init=10,n_iter=300,tol=0.001)"
   ]
  },
  {
   "cell_type": "code",
   "execution_count": 27,
   "id": "e65a58d4",
   "metadata": {},
   "outputs": [
    {
     "name": "stderr",
     "output_type": "stream",
     "text": [
      "C:\\Users\\ADMIN\\New folder\\lib\\site-packages\\sklearn\\utils\\validation.py:993: DataConversionWarning: A column-vector y was passed when a 1d array was expected. Please change the shape of y to (n_samples, ), for example using ravel().\n",
      "  y = column_or_1d(y, warn=True)\n"
     ]
    },
    {
     "data": {
      "text/plain": [
       "BayesianRidge(alpha_init=1, lambda_init=10)"
      ]
     },
     "execution_count": 27,
     "metadata": {},
     "output_type": "execute_result"
    }
   ],
   "source": [
    "br1.fit(X_train,y_train)"
   ]
  },
  {
   "cell_type": "code",
   "execution_count": 28,
   "id": "8ac2820c",
   "metadata": {},
   "outputs": [],
   "source": [
    "y_predbr=br1.predict(X_test)"
   ]
  },
  {
   "cell_type": "code",
   "execution_count": 32,
   "id": "7ad2f1b0",
   "metadata": {},
   "outputs": [],
   "source": [
    "br1R2=r2_score(y_test,y_predbr)"
   ]
  },
  {
   "cell_type": "code",
   "execution_count": 33,
   "id": "d13fa8a4",
   "metadata": {},
   "outputs": [
    {
     "data": {
      "text/plain": [
       "0.7302492663509021"
      ]
     },
     "execution_count": 33,
     "metadata": {},
     "output_type": "execute_result"
    }
   ],
   "source": [
    "br1R2"
   ]
  },
  {
   "cell_type": "markdown",
   "id": "4cda03fd",
   "metadata": {},
   "source": [
    "### SGDRegression"
   ]
  },
  {
   "cell_type": "code",
   "execution_count": 34,
   "id": "b1f6e118",
   "metadata": {},
   "outputs": [],
   "source": [
    "from sklearn.linear_model import SGDRegressor\n",
    "\n"
   ]
  },
  {
   "cell_type": "code",
   "execution_count": 35,
   "id": "25d3b410",
   "metadata": {},
   "outputs": [],
   "source": [
    "sgd1 = SGDRegressor()"
   ]
  },
  {
   "cell_type": "code",
   "execution_count": 46,
   "id": "3273f07d",
   "metadata": {},
   "outputs": [],
   "source": [
    "#The loss function to be used\n",
    "loss = ['squared_error', 'huber', 'epsilon_insensitive','squared_epsilon_insensitive']\n",
    "\n",
    "#The penalty (aka regularization term) to be used\n",
    "penalty=['l2','l1','elasticnet',None]\n",
    "\n",
    "#Constant that multiplies the regularization term. The higher the value, the stronger the regularization.\n",
    "alpha=[0.005,0.006,0.007]\n",
    "\n",
    "#The maximum number of passes over the training data (aka epochs)\n",
    "max_iter=[1000,500,2000]\n"
   ]
  },
  {
   "cell_type": "code",
   "execution_count": 47,
   "id": "6f14aeea",
   "metadata": {},
   "outputs": [],
   "source": [
    "param_grid={'loss':loss,\n",
    "            'penalty':penalty,\n",
    "             'alpha':alpha,\n",
    "            'max_iter':max_iter}"
   ]
  },
  {
   "cell_type": "code",
   "execution_count": 48,
   "id": "2f5d69aa",
   "metadata": {},
   "outputs": [],
   "source": [
    "sgd1_grid = RandomizedSearchCV(estimator = sgd1,\n",
    "                               param_distributions = param_grid,\n",
    "                               verbose=2,\n",
    "                               cv=5,\n",
    "                               n_jobs=-1)"
   ]
  },
  {
   "cell_type": "code",
   "execution_count": 49,
   "id": "b2c538ed",
   "metadata": {},
   "outputs": [
    {
     "name": "stdout",
     "output_type": "stream",
     "text": [
      "Fitting 5 folds for each of 10 candidates, totalling 50 fits\n"
     ]
    },
    {
     "name": "stderr",
     "output_type": "stream",
     "text": [
      "C:\\Users\\ADMIN\\New folder\\lib\\site-packages\\sklearn\\utils\\validation.py:993: DataConversionWarning: A column-vector y was passed when a 1d array was expected. Please change the shape of y to (n_samples, ), for example using ravel().\n",
      "  y = column_or_1d(y, warn=True)\n"
     ]
    },
    {
     "data": {
      "text/plain": [
       "RandomizedSearchCV(cv=5, estimator=SGDRegressor(), n_jobs=-1,\n",
       "                   param_distributions={'alpha': [0.005, 0.006, 0.007],\n",
       "                                        'loss': ['squared_error', 'huber',\n",
       "                                                 'epsilon_insensitive',\n",
       "                                                 'squared_epsilon_insensitive'],\n",
       "                                        'max_iter': [1000, 500, 2000],\n",
       "                                        'penalty': ['l2', 'l1', 'elasticnet',\n",
       "                                                    None]},\n",
       "                   verbose=2)"
      ]
     },
     "execution_count": 49,
     "metadata": {},
     "output_type": "execute_result"
    }
   ],
   "source": [
    "sgd1_grid.fit(X_train,y_train)"
   ]
  },
  {
   "cell_type": "code",
   "execution_count": 50,
   "id": "a4fcae2d",
   "metadata": {},
   "outputs": [
    {
     "data": {
      "text/plain": [
       "{'penalty': 'l2', 'max_iter': 1000, 'loss': 'huber', 'alpha': 0.007}"
      ]
     },
     "execution_count": 50,
     "metadata": {},
     "output_type": "execute_result"
    }
   ],
   "source": [
    "sgd1_grid.best_params_"
   ]
  },
  {
   "cell_type": "code",
   "execution_count": 51,
   "id": "25dd7fdb",
   "metadata": {},
   "outputs": [
    {
     "data": {
      "text/plain": [
       "-21.016560680069"
      ]
     },
     "execution_count": 51,
     "metadata": {},
     "output_type": "execute_result"
    }
   ],
   "source": [
    "sgd1_grid.best_score_"
   ]
  },
  {
   "cell_type": "markdown",
   "id": "359f714d",
   "metadata": {},
   "source": [
    "### ElasticNet Regression"
   ]
  },
  {
   "cell_type": "code",
   "execution_count": 52,
   "id": "f3708f6a",
   "metadata": {},
   "outputs": [],
   "source": [
    "from sklearn.linear_model import ElasticNet"
   ]
  },
  {
   "cell_type": "code",
   "execution_count": 53,
   "id": "19011a06",
   "metadata": {},
   "outputs": [],
   "source": [
    "el1 = ElasticNet()"
   ]
  },
  {
   "cell_type": "code",
   "execution_count": 54,
   "id": "ba3209bc",
   "metadata": {},
   "outputs": [],
   "source": [
    "alpha=[1.0,0.05,0.08]\n",
    "l1_ratio=[0.5,0.1,0.2]\n",
    "fit_intercept=[True,False] \n",
    "precompute=[False,True]\n",
    "max_iter=[1000,500,2000]\n",
    "tol=[0.0001,0.0002,0.0005]"
   ]
  },
  {
   "cell_type": "code",
   "execution_count": 55,
   "id": "79e46de3",
   "metadata": {},
   "outputs": [],
   "source": [
    "param_grid = {'alpha':alpha,\n",
    "              'l1_ratio':l1_ratio,\n",
    "              'fit_intercept':fit_intercept,\n",
    "              'precompute':precompute,\n",
    "              'max_iter':max_iter,\n",
    "              'tol':tol}"
   ]
  },
  {
   "cell_type": "code",
   "execution_count": 66,
   "id": "70de4aa5",
   "metadata": {},
   "outputs": [],
   "source": [
    "el1_grid = GridSearchCV(estimator = el1,\n",
    "                             param_grid = param_grid,\n",
    "                             cv=5,\n",
    "                             verbose=2,\n",
    "                             n_jobs=-1)"
   ]
  },
  {
   "cell_type": "code",
   "execution_count": 67,
   "id": "3d34f377",
   "metadata": {},
   "outputs": [
    {
     "name": "stdout",
     "output_type": "stream",
     "text": [
      "Fitting 5 folds for each of 324 candidates, totalling 1620 fits\n"
     ]
    },
    {
     "data": {
      "text/plain": [
       "GridSearchCV(cv=5, estimator=ElasticNet(), n_jobs=-1,\n",
       "             param_grid={'alpha': [1.0, 0.05, 0.08],\n",
       "                         'fit_intercept': [True, False],\n",
       "                         'l1_ratio': [0.5, 0.1, 0.2],\n",
       "                         'max_iter': [1000, 500, 2000],\n",
       "                         'precompute': [False, True],\n",
       "                         'tol': [0.0001, 0.0002, 0.0005]},\n",
       "             verbose=2)"
      ]
     },
     "execution_count": 67,
     "metadata": {},
     "output_type": "execute_result"
    }
   ],
   "source": [
    "el1_grid.fit(X_train,y_train)"
   ]
  },
  {
   "cell_type": "code",
   "execution_count": 68,
   "id": "b31bb8bf",
   "metadata": {},
   "outputs": [
    {
     "data": {
      "text/plain": [
       "{'alpha': 0.05,\n",
       " 'fit_intercept': True,\n",
       " 'l1_ratio': 0.1,\n",
       " 'max_iter': 1000,\n",
       " 'precompute': False,\n",
       " 'tol': 0.0005}"
      ]
     },
     "execution_count": 68,
     "metadata": {},
     "output_type": "execute_result"
    }
   ],
   "source": [
    "el1_grid.best_params_"
   ]
  },
  {
   "cell_type": "code",
   "execution_count": 69,
   "id": "fabf724a",
   "metadata": {},
   "outputs": [
    {
     "data": {
      "text/plain": [
       "0.7290354450499261"
      ]
     },
     "execution_count": 69,
     "metadata": {},
     "output_type": "execute_result"
    }
   ],
   "source": [
    "el1_grid.best_score_"
   ]
  },
  {
   "cell_type": "markdown",
   "id": "05261783",
   "metadata": {},
   "source": [
    "### Linear Regression"
   ]
  },
  {
   "cell_type": "code",
   "execution_count": 70,
   "id": "ab2dcbda",
   "metadata": {},
   "outputs": [],
   "source": [
    "from sklearn.linear_model import LinearRegression"
   ]
  },
  {
   "cell_type": "code",
   "execution_count": 71,
   "id": "1b2cf975",
   "metadata": {},
   "outputs": [],
   "source": [
    "lr1= LinearRegression()"
   ]
  },
  {
   "cell_type": "code",
   "execution_count": 72,
   "id": "ca8d00c2",
   "metadata": {},
   "outputs": [],
   "source": [
    "fit_intercept=[True,False]\n",
    "copy_X=[True,False] \n",
    "n_jobs=[1,3,5,None]\n",
    "positive=[False,True]"
   ]
  },
  {
   "cell_type": "code",
   "execution_count": 73,
   "id": "a932039a",
   "metadata": {},
   "outputs": [],
   "source": [
    "param_grid ={'fit_intercept':fit_intercept,\n",
    "             'copy_X':copy_X,\n",
    "             'n_jobs':n_jobs,\n",
    "             'positive':positive}"
   ]
  },
  {
   "cell_type": "code",
   "execution_count": 74,
   "id": "1537e563",
   "metadata": {},
   "outputs": [],
   "source": [
    "lr1_grid = GridSearchCV(estimator = lr1,\n",
    "                       param_grid=param_grid,\n",
    "                       cv=5)"
   ]
  },
  {
   "cell_type": "code",
   "execution_count": 75,
   "id": "338330a6",
   "metadata": {},
   "outputs": [
    {
     "data": {
      "text/plain": [
       "GridSearchCV(cv=5, estimator=LinearRegression(),\n",
       "             param_grid={'copy_X': [True, False],\n",
       "                         'fit_intercept': [True, False],\n",
       "                         'n_jobs': [1, 3, 5, None], 'positive': [False, True]})"
      ]
     },
     "execution_count": 75,
     "metadata": {},
     "output_type": "execute_result"
    }
   ],
   "source": [
    "lr1_grid.fit(X_train,y_train)"
   ]
  },
  {
   "cell_type": "code",
   "execution_count": 78,
   "id": "2a1d556b",
   "metadata": {},
   "outputs": [
    {
     "data": {
      "text/plain": [
       "{'copy_X': True, 'fit_intercept': True, 'n_jobs': 1, 'positive': False}"
      ]
     },
     "execution_count": 78,
     "metadata": {},
     "output_type": "execute_result"
    }
   ],
   "source": [
    "lr1_grid.best_params_"
   ]
  },
  {
   "cell_type": "code",
   "execution_count": 80,
   "id": "e2e26b96",
   "metadata": {},
   "outputs": [
    {
     "data": {
      "text/plain": [
       "0.7291435991117302"
      ]
     },
     "execution_count": 80,
     "metadata": {},
     "output_type": "execute_result"
    }
   ],
   "source": [
    "lr1_grid.best_score_## its less than the original hence i'll going with the default one"
   ]
  },
  {
   "cell_type": "code",
   "execution_count": null,
   "id": "fc6439ad",
   "metadata": {},
   "outputs": [],
   "source": []
  }
 ],
 "metadata": {
  "kernelspec": {
   "display_name": "Python 3 (ipykernel)",
   "language": "python",
   "name": "python3"
  },
  "language_info": {
   "codemirror_mode": {
    "name": "ipython",
    "version": 3
   },
   "file_extension": ".py",
   "mimetype": "text/x-python",
   "name": "python",
   "nbconvert_exporter": "python",
   "pygments_lexer": "ipython3",
   "version": "3.9.12"
  },
  "toc": {
   "base_numbering": 1,
   "nav_menu": {},
   "number_sections": true,
   "sideBar": true,
   "skip_h1_title": false,
   "title_cell": "Table of Contents",
   "title_sidebar": "Contents",
   "toc_cell": false,
   "toc_position": {
    "height": "577px",
    "left": "197px",
    "top": "157.125px",
    "width": "320px"
   },
   "toc_section_display": true,
   "toc_window_display": true
  }
 },
 "nbformat": 4,
 "nbformat_minor": 5
}
