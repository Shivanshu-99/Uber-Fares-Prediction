{
 "cells": [
  {
   "cell_type": "code",
   "execution_count": 1,
   "id": "ed42ad41",
   "metadata": {},
   "outputs": [],
   "source": [
    "import pandas as pd\n",
    "import numpy as np\n",
    "import matplotlib.pyplot as plt\n",
    "from sklearn.model_selection import cross_val_score\n"
   ]
  },
  {
   "cell_type": "code",
   "execution_count": 2,
   "id": "7dac67e5",
   "metadata": {},
   "outputs": [],
   "source": [
    "df = pd.read_csv('Uber_proper_format')"
   ]
  },
  {
   "cell_type": "code",
   "execution_count": 3,
   "id": "65ae928b",
   "metadata": {},
   "outputs": [
    {
     "data": {
      "text/html": [
       "<div>\n",
       "<style scoped>\n",
       "    .dataframe tbody tr th:only-of-type {\n",
       "        vertical-align: middle;\n",
       "    }\n",
       "\n",
       "    .dataframe tbody tr th {\n",
       "        vertical-align: top;\n",
       "    }\n",
       "\n",
       "    .dataframe thead th {\n",
       "        text-align: right;\n",
       "    }\n",
       "</style>\n",
       "<table border=\"1\" class=\"dataframe\">\n",
       "  <thead>\n",
       "    <tr style=\"text-align: right;\">\n",
       "      <th></th>\n",
       "      <th>fare_amount</th>\n",
       "      <th>passenger_count</th>\n",
       "      <th>year</th>\n",
       "      <th>month</th>\n",
       "      <th>day</th>\n",
       "      <th>day_is_weekend</th>\n",
       "      <th>quarter</th>\n",
       "      <th>hour</th>\n",
       "      <th>mins</th>\n",
       "      <th>distance_travelled</th>\n",
       "    </tr>\n",
       "  </thead>\n",
       "  <tbody>\n",
       "    <tr>\n",
       "      <th>0</th>\n",
       "      <td>7.50</td>\n",
       "      <td>1.0</td>\n",
       "      <td>2015.0</td>\n",
       "      <td>5.0</td>\n",
       "      <td>7.0</td>\n",
       "      <td>0.0</td>\n",
       "      <td>2.0</td>\n",
       "      <td>19.0</td>\n",
       "      <td>52.0</td>\n",
       "      <td>1.683323</td>\n",
       "    </tr>\n",
       "    <tr>\n",
       "      <th>1</th>\n",
       "      <td>7.70</td>\n",
       "      <td>1.0</td>\n",
       "      <td>2009.0</td>\n",
       "      <td>7.0</td>\n",
       "      <td>17.0</td>\n",
       "      <td>0.0</td>\n",
       "      <td>3.0</td>\n",
       "      <td>20.0</td>\n",
       "      <td>4.0</td>\n",
       "      <td>2.457590</td>\n",
       "    </tr>\n",
       "    <tr>\n",
       "      <th>2</th>\n",
       "      <td>12.90</td>\n",
       "      <td>1.0</td>\n",
       "      <td>2009.0</td>\n",
       "      <td>8.0</td>\n",
       "      <td>24.0</td>\n",
       "      <td>0.0</td>\n",
       "      <td>3.0</td>\n",
       "      <td>21.0</td>\n",
       "      <td>45.0</td>\n",
       "      <td>5.036377</td>\n",
       "    </tr>\n",
       "    <tr>\n",
       "      <th>3</th>\n",
       "      <td>5.30</td>\n",
       "      <td>3.0</td>\n",
       "      <td>2009.0</td>\n",
       "      <td>6.0</td>\n",
       "      <td>26.0</td>\n",
       "      <td>0.0</td>\n",
       "      <td>2.0</td>\n",
       "      <td>8.0</td>\n",
       "      <td>22.0</td>\n",
       "      <td>1.661683</td>\n",
       "    </tr>\n",
       "    <tr>\n",
       "      <th>4</th>\n",
       "      <td>16.00</td>\n",
       "      <td>3.5</td>\n",
       "      <td>2014.0</td>\n",
       "      <td>8.0</td>\n",
       "      <td>28.0</td>\n",
       "      <td>0.0</td>\n",
       "      <td>3.0</td>\n",
       "      <td>17.0</td>\n",
       "      <td>47.0</td>\n",
       "      <td>4.475450</td>\n",
       "    </tr>\n",
       "    <tr>\n",
       "      <th>5</th>\n",
       "      <td>4.90</td>\n",
       "      <td>1.0</td>\n",
       "      <td>2011.0</td>\n",
       "      <td>2.0</td>\n",
       "      <td>12.0</td>\n",
       "      <td>1.0</td>\n",
       "      <td>1.0</td>\n",
       "      <td>2.0</td>\n",
       "      <td>27.0</td>\n",
       "      <td>0.000000</td>\n",
       "    </tr>\n",
       "    <tr>\n",
       "      <th>6</th>\n",
       "      <td>22.25</td>\n",
       "      <td>3.5</td>\n",
       "      <td>2014.0</td>\n",
       "      <td>10.0</td>\n",
       "      <td>12.0</td>\n",
       "      <td>1.0</td>\n",
       "      <td>4.0</td>\n",
       "      <td>7.0</td>\n",
       "      <td>4.0</td>\n",
       "      <td>7.865091</td>\n",
       "    </tr>\n",
       "    <tr>\n",
       "      <th>7</th>\n",
       "      <td>2.50</td>\n",
       "      <td>1.0</td>\n",
       "      <td>2012.0</td>\n",
       "      <td>12.0</td>\n",
       "      <td>11.0</td>\n",
       "      <td>0.0</td>\n",
       "      <td>4.0</td>\n",
       "      <td>13.0</td>\n",
       "      <td>52.0</td>\n",
       "      <td>0.000000</td>\n",
       "    </tr>\n",
       "    <tr>\n",
       "      <th>8</th>\n",
       "      <td>9.70</td>\n",
       "      <td>1.0</td>\n",
       "      <td>2012.0</td>\n",
       "      <td>2.0</td>\n",
       "      <td>17.0</td>\n",
       "      <td>0.0</td>\n",
       "      <td>1.0</td>\n",
       "      <td>9.0</td>\n",
       "      <td>32.0</td>\n",
       "      <td>2.332711</td>\n",
       "    </tr>\n",
       "    <tr>\n",
       "      <th>9</th>\n",
       "      <td>12.50</td>\n",
       "      <td>1.0</td>\n",
       "      <td>2012.0</td>\n",
       "      <td>3.0</td>\n",
       "      <td>29.0</td>\n",
       "      <td>0.0</td>\n",
       "      <td>1.0</td>\n",
       "      <td>19.0</td>\n",
       "      <td>6.0</td>\n",
       "      <td>4.889417</td>\n",
       "    </tr>\n",
       "  </tbody>\n",
       "</table>\n",
       "</div>"
      ],
      "text/plain": [
       "   fare_amount  passenger_count    year  month   day  day_is_weekend  quarter  \\\n",
       "0         7.50              1.0  2015.0    5.0   7.0             0.0      2.0   \n",
       "1         7.70              1.0  2009.0    7.0  17.0             0.0      3.0   \n",
       "2        12.90              1.0  2009.0    8.0  24.0             0.0      3.0   \n",
       "3         5.30              3.0  2009.0    6.0  26.0             0.0      2.0   \n",
       "4        16.00              3.5  2014.0    8.0  28.0             0.0      3.0   \n",
       "5         4.90              1.0  2011.0    2.0  12.0             1.0      1.0   \n",
       "6        22.25              3.5  2014.0   10.0  12.0             1.0      4.0   \n",
       "7         2.50              1.0  2012.0   12.0  11.0             0.0      4.0   \n",
       "8         9.70              1.0  2012.0    2.0  17.0             0.0      1.0   \n",
       "9        12.50              1.0  2012.0    3.0  29.0             0.0      1.0   \n",
       "\n",
       "   hour  mins  distance_travelled  \n",
       "0  19.0  52.0            1.683323  \n",
       "1  20.0   4.0            2.457590  \n",
       "2  21.0  45.0            5.036377  \n",
       "3   8.0  22.0            1.661683  \n",
       "4  17.0  47.0            4.475450  \n",
       "5   2.0  27.0            0.000000  \n",
       "6   7.0   4.0            7.865091  \n",
       "7  13.0  52.0            0.000000  \n",
       "8   9.0  32.0            2.332711  \n",
       "9  19.0   6.0            4.889417  "
      ]
     },
     "execution_count": 3,
     "metadata": {},
     "output_type": "execute_result"
    }
   ],
   "source": [
    "df.head(10)"
   ]
  },
  {
   "cell_type": "code",
   "execution_count": 4,
   "id": "739fb031",
   "metadata": {},
   "outputs": [
    {
     "data": {
      "text/plain": [
       "(199999, 10)"
      ]
     },
     "execution_count": 4,
     "metadata": {},
     "output_type": "execute_result"
    }
   ],
   "source": [
    "df.shape"
   ]
  },
  {
   "cell_type": "code",
   "execution_count": 5,
   "id": "52f1724e",
   "metadata": {},
   "outputs": [],
   "source": [
    "X = df.iloc[:,1:]\n",
    "y= df.iloc[:,:1]"
   ]
  },
  {
   "cell_type": "code",
   "execution_count": 6,
   "id": "eed5f838",
   "metadata": {},
   "outputs": [
    {
     "data": {
      "text/plain": [
       "((199999, 9), (199999, 1))"
      ]
     },
     "execution_count": 6,
     "metadata": {},
     "output_type": "execute_result"
    }
   ],
   "source": [
    "X.shape , y.shape"
   ]
  },
  {
   "cell_type": "code",
   "execution_count": 7,
   "id": "af389048",
   "metadata": {},
   "outputs": [
    {
     "data": {
      "text/html": [
       "<div>\n",
       "<style scoped>\n",
       "    .dataframe tbody tr th:only-of-type {\n",
       "        vertical-align: middle;\n",
       "    }\n",
       "\n",
       "    .dataframe tbody tr th {\n",
       "        vertical-align: top;\n",
       "    }\n",
       "\n",
       "    .dataframe thead th {\n",
       "        text-align: right;\n",
       "    }\n",
       "</style>\n",
       "<table border=\"1\" class=\"dataframe\">\n",
       "  <thead>\n",
       "    <tr style=\"text-align: right;\">\n",
       "      <th></th>\n",
       "      <th>fare_amount</th>\n",
       "    </tr>\n",
       "  </thead>\n",
       "  <tbody>\n",
       "    <tr>\n",
       "      <th>0</th>\n",
       "      <td>7.50</td>\n",
       "    </tr>\n",
       "    <tr>\n",
       "      <th>1</th>\n",
       "      <td>7.70</td>\n",
       "    </tr>\n",
       "    <tr>\n",
       "      <th>2</th>\n",
       "      <td>12.90</td>\n",
       "    </tr>\n",
       "    <tr>\n",
       "      <th>3</th>\n",
       "      <td>5.30</td>\n",
       "    </tr>\n",
       "    <tr>\n",
       "      <th>4</th>\n",
       "      <td>16.00</td>\n",
       "    </tr>\n",
       "    <tr>\n",
       "      <th>...</th>\n",
       "      <td>...</td>\n",
       "    </tr>\n",
       "    <tr>\n",
       "      <th>199994</th>\n",
       "      <td>3.00</td>\n",
       "    </tr>\n",
       "    <tr>\n",
       "      <th>199995</th>\n",
       "      <td>7.50</td>\n",
       "    </tr>\n",
       "    <tr>\n",
       "      <th>199996</th>\n",
       "      <td>22.25</td>\n",
       "    </tr>\n",
       "    <tr>\n",
       "      <th>199997</th>\n",
       "      <td>14.50</td>\n",
       "    </tr>\n",
       "    <tr>\n",
       "      <th>199998</th>\n",
       "      <td>14.10</td>\n",
       "    </tr>\n",
       "  </tbody>\n",
       "</table>\n",
       "<p>199999 rows × 1 columns</p>\n",
       "</div>"
      ],
      "text/plain": [
       "        fare_amount\n",
       "0              7.50\n",
       "1              7.70\n",
       "2             12.90\n",
       "3              5.30\n",
       "4             16.00\n",
       "...             ...\n",
       "199994         3.00\n",
       "199995         7.50\n",
       "199996        22.25\n",
       "199997        14.50\n",
       "199998        14.10\n",
       "\n",
       "[199999 rows x 1 columns]"
      ]
     },
     "execution_count": 7,
     "metadata": {},
     "output_type": "execute_result"
    }
   ],
   "source": [
    "y"
   ]
  },
  {
   "cell_type": "code",
   "execution_count": 8,
   "id": "a28104a2",
   "metadata": {},
   "outputs": [],
   "source": [
    "from sklearn.model_selection import train_test_split\n",
    "X_train ,X_test,y_train, y_test = train_test_split(X,y,test_size=0.25,random_state=40)"
   ]
  },
  {
   "cell_type": "code",
   "execution_count": 9,
   "id": "d62b1803",
   "metadata": {},
   "outputs": [
    {
     "data": {
      "text/plain": [
       "((149999, 9), (50000, 9), (149999, 1), (50000, 1))"
      ]
     },
     "execution_count": 9,
     "metadata": {},
     "output_type": "execute_result"
    }
   ],
   "source": [
    "X_train.shape , X_test.shape , y_train.shape , y_test.shape"
   ]
  },
  {
   "cell_type": "markdown",
   "id": "8e7c9687",
   "metadata": {},
   "source": [
    "## Linear Regression"
   ]
  },
  {
   "cell_type": "code",
   "execution_count": 10,
   "id": "e7cc6951",
   "metadata": {},
   "outputs": [],
   "source": [
    "from sklearn.linear_model import LinearRegression"
   ]
  },
  {
   "cell_type": "code",
   "execution_count": 11,
   "id": "42751018",
   "metadata": {},
   "outputs": [],
   "source": [
    "lr = LinearRegression()"
   ]
  },
  {
   "cell_type": "code",
   "execution_count": 12,
   "id": "7d484497",
   "metadata": {},
   "outputs": [
    {
     "data": {
      "text/plain": [
       "LinearRegression()"
      ]
     },
     "execution_count": 12,
     "metadata": {},
     "output_type": "execute_result"
    }
   ],
   "source": [
    "lr.fit(X_train,y_train)"
   ]
  },
  {
   "cell_type": "code",
   "execution_count": 13,
   "id": "bbbc9567",
   "metadata": {},
   "outputs": [],
   "source": [
    "y_pred1 = lr.predict(X_test)"
   ]
  },
  {
   "cell_type": "code",
   "execution_count": 14,
   "id": "17980167",
   "metadata": {},
   "outputs": [
    {
     "data": {
      "text/plain": [
       "Text(0, 0.5, 'Predicted')"
      ]
     },
     "execution_count": 14,
     "metadata": {},
     "output_type": "execute_result"
    },
    {
     "data": {
      "image/png": "[encoded data removed]",
      "text/plain": [
       "<Figure size 1440x720 with 1 Axes>"
      ]
     },
     "metadata": {
      "needs_background": "light"
     },
     "output_type": "display_data"
    }
   ],
   "source": [
    "plt.figure(figsize=(20,10))\n",
    "plt.scatter(y_test, y_pred1)\n",
    "plt.xlabel('Actual')\n",
    "plt.ylabel('Predicted')"
   ]
  },
  {
   "cell_type": "code",
   "execution_count": 15,
   "id": "74ecaabb",
   "metadata": {},
   "outputs": [],
   "source": [
    "from sklearn.metrics import  r2_score\n",
    "from sklearn.metrics import mean_squared_error"
   ]
  },
  {
   "cell_type": "code",
   "execution_count": 16,
   "id": "a70eaf9a",
   "metadata": {},
   "outputs": [],
   "source": [
    "lorR2=r2_score(y_test,y_pred1)"
   ]
  },
  {
   "cell_type": "code",
   "execution_count": null,
   "id": "74df496c",
   "metadata": {},
   "outputs": [],
   "source": []
  },
  {
   "cell_type": "markdown",
   "id": "d1fb2f2c",
   "metadata": {},
   "source": [
    "## GB Regression"
   ]
  },
  {
   "cell_type": "code",
   "execution_count": 17,
   "id": "9331ca1d",
   "metadata": {},
   "outputs": [],
   "source": [
    "from sklearn.ensemble import GradientBoostingRegressor"
   ]
  },
  {
   "cell_type": "code",
   "execution_count": 18,
   "id": "6354dfe9",
   "metadata": {},
   "outputs": [],
   "source": [
    "gbr = GradientBoostingRegressor()"
   ]
  },
  {
   "cell_type": "code",
   "execution_count": 19,
   "id": "bc4646bd",
   "metadata": {},
   "outputs": [
    {
     "name": "stderr",
     "output_type": "stream",
     "text": [
      "C:\\Users\\ADMIN\\New folder\\lib\\site-packages\\sklearn\\ensemble\\_gb.py:494: DataConversionWarning: A column-vector y was passed when a 1d array was expected. Please change the shape of y to (n_samples, ), for example using ravel().\n",
      "  y = column_or_1d(y, warn=True)\n"
     ]
    },
    {
     "data": {
      "text/plain": [
       "GradientBoostingRegressor()"
      ]
     },
     "execution_count": 19,
     "metadata": {},
     "output_type": "execute_result"
    }
   ],
   "source": [
    "gbr.fit(X_train,y_train)"
   ]
  },
  {
   "cell_type": "code",
   "execution_count": 20,
   "id": "ff09f753",
   "metadata": {},
   "outputs": [],
   "source": [
    "y_pred2 = gbr.predict(X_test)"
   ]
  },
  {
   "cell_type": "code",
   "execution_count": 21,
   "id": "ef1aa118",
   "metadata": {},
   "outputs": [
    {
     "data": {
      "text/plain": [
       "6.3379498018471025"
      ]
     },
     "execution_count": 21,
     "metadata": {},
     "output_type": "execute_result"
    }
   ],
   "source": [
    "mean_squared_error(y_test,y_pred2)"
   ]
  },
  {
   "cell_type": "code",
   "execution_count": 22,
   "id": "bc1ac57c",
   "metadata": {},
   "outputs": [],
   "source": [
    "gbR2=r2_score(y_test,y_pred2)"
   ]
  },
  {
   "cell_type": "markdown",
   "id": "06c162dd",
   "metadata": {},
   "source": [
    "## ElasticNet Regression"
   ]
  },
  {
   "cell_type": "code",
   "execution_count": 23,
   "id": "a9a28a1e",
   "metadata": {},
   "outputs": [],
   "source": [
    "from sklearn.linear_model import ElasticNet"
   ]
  },
  {
   "cell_type": "code",
   "execution_count": 24,
   "id": "59cab701",
   "metadata": {},
   "outputs": [],
   "source": [
    "el = ElasticNet()"
   ]
  },
  {
   "cell_type": "code",
   "execution_count": 25,
   "id": "e48d2986",
   "metadata": {},
   "outputs": [
    {
     "data": {
      "text/plain": [
       "ElasticNet()"
      ]
     },
     "execution_count": 25,
     "metadata": {},
     "output_type": "execute_result"
    }
   ],
   "source": [
    "el.fit(X_train,y_train)"
   ]
  },
  {
   "cell_type": "code",
   "execution_count": 26,
   "id": "e0c24226",
   "metadata": {},
   "outputs": [],
   "source": [
    "y_pred3 = el.predict(X_test)"
   ]
  },
  {
   "cell_type": "code",
   "execution_count": 27,
   "id": "ca6969e1",
   "metadata": {},
   "outputs": [],
   "source": [
    "elR2=r2_score(y_test,y_pred3)"
   ]
  },
  {
   "cell_type": "markdown",
   "id": "3e0e5314",
   "metadata": {},
   "source": [
    "## SGDRegression"
   ]
  },
  {
   "cell_type": "code",
   "execution_count": 28,
   "id": "8f46d6a2",
   "metadata": {},
   "outputs": [],
   "source": [
    "from sklearn.linear_model import SGDRegressor\n",
    "\n"
   ]
  },
  {
   "cell_type": "code",
   "execution_count": 29,
   "id": "6a8b2bfa",
   "metadata": {},
   "outputs": [],
   "source": [
    "sgd = SGDRegressor()"
   ]
  },
  {
   "cell_type": "code",
   "execution_count": 30,
   "id": "594c4992",
   "metadata": {},
   "outputs": [
    {
     "name": "stderr",
     "output_type": "stream",
     "text": [
      "C:\\Users\\ADMIN\\New folder\\lib\\site-packages\\sklearn\\utils\\validation.py:993: DataConversionWarning: A column-vector y was passed when a 1d array was expected. Please change the shape of y to (n_samples, ), for example using ravel().\n",
      "  y = column_or_1d(y, warn=True)\n"
     ]
    },
    {
     "data": {
      "text/plain": [
       "SGDRegressor()"
      ]
     },
     "execution_count": 30,
     "metadata": {},
     "output_type": "execute_result"
    }
   ],
   "source": [
    "sgd.fit(X_train,y_train)"
   ]
  },
  {
   "cell_type": "code",
   "execution_count": 31,
   "id": "76a7a232",
   "metadata": {},
   "outputs": [],
   "source": [
    "y_pred4 = sgd.predict(X_test)"
   ]
  },
  {
   "cell_type": "code",
   "execution_count": 32,
   "id": "6bdfa079",
   "metadata": {},
   "outputs": [],
   "source": [
    "sgdR2=r2_score(y_test,y_pred4)"
   ]
  },
  {
   "cell_type": "markdown",
   "id": "5bdb9e35",
   "metadata": {},
   "source": [
    "## Bayesian Ridge Regression\n"
   ]
  },
  {
   "cell_type": "code",
   "execution_count": 33,
   "id": "a67e6911",
   "metadata": {},
   "outputs": [],
   "source": [
    "from sklearn.linear_model import BayesianRidge"
   ]
  },
  {
   "cell_type": "code",
   "execution_count": 34,
   "id": "ef1b0f85",
   "metadata": {},
   "outputs": [],
   "source": [
    "br = BayesianRidge()"
   ]
  },
  {
   "cell_type": "code",
   "execution_count": 35,
   "id": "d05ab777",
   "metadata": {},
   "outputs": [
    {
     "name": "stderr",
     "output_type": "stream",
     "text": [
      "C:\\Users\\ADMIN\\New folder\\lib\\site-packages\\sklearn\\utils\\validation.py:993: DataConversionWarning: A column-vector y was passed when a 1d array was expected. Please change the shape of y to (n_samples, ), for example using ravel().\n",
      "  y = column_or_1d(y, warn=True)\n"
     ]
    },
    {
     "data": {
      "text/plain": [
       "BayesianRidge()"
      ]
     },
     "execution_count": 35,
     "metadata": {},
     "output_type": "execute_result"
    }
   ],
   "source": [
    "br.fit(X_train , y_train)"
   ]
  },
  {
   "cell_type": "code",
   "execution_count": 36,
   "id": "775bc792",
   "metadata": {},
   "outputs": [],
   "source": [
    "y_pred5 = br.predict(X_test)"
   ]
  },
  {
   "cell_type": "code",
   "execution_count": 37,
   "id": "6043dc13",
   "metadata": {},
   "outputs": [],
   "source": [
    "from sklearn.metrics import mean_squared_error"
   ]
  },
  {
   "cell_type": "code",
   "execution_count": 38,
   "id": "eefecfdd",
   "metadata": {},
   "outputs": [
    {
     "data": {
      "text/plain": [
       "7.977562142565921"
      ]
     },
     "execution_count": 38,
     "metadata": {},
     "output_type": "execute_result"
    }
   ],
   "source": [
    "mean_squared_error(y_test,y_pred5)"
   ]
  },
  {
   "cell_type": "code",
   "execution_count": 39,
   "id": "b047d970",
   "metadata": {},
   "outputs": [],
   "source": [
    "brR2=r2_score(y_test,y_pred5)"
   ]
  },
  {
   "cell_type": "markdown",
   "id": "ebe4dd23",
   "metadata": {},
   "source": [
    "## XGBoost Regressor"
   ]
  },
  {
   "cell_type": "code",
   "execution_count": 40,
   "id": "41daf8a5",
   "metadata": {},
   "outputs": [],
   "source": [
    "from xgboost.sklearn import XGBRegressor"
   ]
  },
  {
   "cell_type": "code",
   "execution_count": 41,
   "id": "0655c774",
   "metadata": {},
   "outputs": [],
   "source": [
    "xgb =XGBRegressor()"
   ]
  },
  {
   "cell_type": "code",
   "execution_count": 42,
   "id": "c265b061",
   "metadata": {},
   "outputs": [
    {
     "data": {
      "text/plain": [
       "XGBRegressor(base_score=0.5, booster='gbtree', callbacks=None,\n",
       "             colsample_bylevel=1, colsample_bynode=1, colsample_bytree=1,\n",
       "             early_stopping_rounds=None, enable_categorical=False,\n",
       "             eval_metric=None, gamma=0, gpu_id=-1, grow_policy='depthwise',\n",
       "             importance_type=None, interaction_constraints='',\n",
       "             learning_rate=0.300000012, max_bin=256, max_cat_to_onehot=4,\n",
       "             max_delta_step=0, max_depth=6, max_leaves=0, min_child_weight=1,\n",
       "             missing=nan, monotone_constraints='()', n_estimators=100, n_jobs=0,\n",
       "             num_parallel_tree=1, predictor='auto', random_state=0, reg_alpha=0,\n",
       "             reg_lambda=1, ...)"
      ]
     },
     "execution_count": 42,
     "metadata": {},
     "output_type": "execute_result"
    }
   ],
   "source": [
    "xgb.fit(X_train,y_train)"
   ]
  },
  {
   "cell_type": "code",
   "execution_count": 43,
   "id": "5472f387",
   "metadata": {},
   "outputs": [],
   "source": [
    "y_pred6 = xgb.predict(X_test)"
   ]
  },
  {
   "cell_type": "code",
   "execution_count": 44,
   "id": "498fc466",
   "metadata": {},
   "outputs": [],
   "source": [
    "xgbR2=r2_score(y_test,y_pred6)"
   ]
  },
  {
   "cell_type": "code",
   "execution_count": 45,
   "id": "797257e2",
   "metadata": {},
   "outputs": [
    {
     "data": {
      "text/plain": [
       "6.28607101480041"
      ]
     },
     "execution_count": 45,
     "metadata": {},
     "output_type": "execute_result"
    }
   ],
   "source": [
    "mean_squared_error(y_test,y_pred6)"
   ]
  },
  {
   "cell_type": "markdown",
   "id": "4388c8d3",
   "metadata": {},
   "source": [
    "## LGBM Regressor\n"
   ]
  },
  {
   "cell_type": "code",
   "execution_count": 46,
   "id": "3416c986",
   "metadata": {},
   "outputs": [
    {
     "name": "stdout",
     "output_type": "stream",
     "text": [
      "Requirement already satisfied: lightgbm in c:\\users\\admin\\new folder\\lib\\site-packages (3.3.3)\n",
      "Requirement already satisfied: numpy in c:\\users\\admin\\new folder\\lib\\site-packages (from lightgbm) (1.21.5)\n",
      "Requirement already satisfied: wheel in c:\\users\\admin\\new folder\\lib\\site-packages (from lightgbm) (0.37.1)\n",
      "Requirement already satisfied: scikit-learn!=0.22.0 in c:\\users\\admin\\new folder\\lib\\site-packages (from lightgbm) (1.0.2)\n",
      "Requirement already satisfied: scipy in c:\\users\\admin\\new folder\\lib\\site-packages (from lightgbm) (1.7.3)\n",
      "Requirement already satisfied: threadpoolctl>=2.0.0 in c:\\users\\admin\\new folder\\lib\\site-packages (from scikit-learn!=0.22.0->lightgbm) (2.2.0)\n",
      "Requirement already satisfied: joblib>=0.11 in c:\\users\\admin\\new folder\\lib\\site-packages (from scikit-learn!=0.22.0->lightgbm) (1.1.0)\n"
     ]
    }
   ],
   "source": [
    "! pip install lightgbm"
   ]
  },
  {
   "cell_type": "code",
   "execution_count": 47,
   "id": "b3a60189",
   "metadata": {},
   "outputs": [],
   "source": [
    "from lightgbm import LGBMRegressor"
   ]
  },
  {
   "cell_type": "code",
   "execution_count": 48,
   "id": "1f4a4063",
   "metadata": {},
   "outputs": [],
   "source": [
    "lgbm = LGBMRegressor()"
   ]
  },
  {
   "cell_type": "code",
   "execution_count": 49,
   "id": "4d5f2454",
   "metadata": {},
   "outputs": [
    {
     "data": {
      "text/plain": [
       "LGBMRegressor()"
      ]
     },
     "execution_count": 49,
     "metadata": {},
     "output_type": "execute_result"
    }
   ],
   "source": [
    "lgbm.fit(X_train,y_train)"
   ]
  },
  {
   "cell_type": "code",
   "execution_count": 50,
   "id": "0d92b75b",
   "metadata": {},
   "outputs": [],
   "source": [
    "y_pred7 = lgbm.predict(X_test)"
   ]
  },
  {
   "cell_type": "code",
   "execution_count": 51,
   "id": "98c702d8",
   "metadata": {},
   "outputs": [],
   "source": [
    "lgbmR2 = r2_score(y_test,y_pred7)"
   ]
  },
  {
   "cell_type": "markdown",
   "id": "fe897b1f",
   "metadata": {},
   "source": [
    "##  CatBoost Regression"
   ]
  },
  {
   "cell_type": "code",
   "execution_count": 52,
   "id": "c90d9646",
   "metadata": {},
   "outputs": [
    {
     "name": "stdout",
     "output_type": "stream",
     "text": [
      "Requirement already satisfied: catboost in c:\\users\\admin\\new folder\\lib\\site-packages (1.1.1)\n",
      "Requirement already satisfied: scipy in c:\\users\\admin\\new folder\\lib\\site-packages (from catboost) (1.7.3)\n",
      "Requirement already satisfied: numpy>=1.16.0 in c:\\users\\admin\\new folder\\lib\\site-packages (from catboost) (1.21.5)\n",
      "Requirement already satisfied: plotly in c:\\users\\admin\\new folder\\lib\\site-packages (from catboost) (5.6.0)\n",
      "Requirement already satisfied: matplotlib in c:\\users\\admin\\new folder\\lib\\site-packages (from catboost) (3.5.1)\n",
      "Requirement already satisfied: pandas>=0.24.0 in c:\\users\\admin\\new folder\\lib\\site-packages (from catboost) (1.4.2)\n",
      "Requirement already satisfied: six in c:\\users\\admin\\new folder\\lib\\site-packages (from catboost) (1.16.0)\n",
      "Requirement already satisfied: graphviz in c:\\users\\admin\\new folder\\lib\\site-packages (from catboost) (0.20.1)\n",
      "Requirement already satisfied: python-dateutil>=2.8.1 in c:\\users\\admin\\new folder\\lib\\site-packages (from pandas>=0.24.0->catboost) (2.8.2)\n",
      "Requirement already satisfied: pytz>=2020.1 in c:\\users\\admin\\new folder\\lib\\site-packages (from pandas>=0.24.0->catboost) (2021.3)\n",
      "Requirement already satisfied: packaging>=20.0 in c:\\users\\admin\\new folder\\lib\\site-packages (from matplotlib->catboost) (21.3)\n",
      "Requirement already satisfied: fonttools>=4.22.0 in c:\\users\\admin\\new folder\\lib\\site-packages (from matplotlib->catboost) (4.25.0)\n",
      "Requirement already satisfied: kiwisolver>=1.0.1 in c:\\users\\admin\\new folder\\lib\\site-packages (from matplotlib->catboost) (1.3.2)\n",
      "Requirement already satisfied: pyparsing>=2.2.1 in c:\\users\\admin\\new folder\\lib\\site-packages (from matplotlib->catboost) (3.0.4)\n",
      "Requirement already satisfied: pillow>=6.2.0 in c:\\users\\admin\\new folder\\lib\\site-packages (from matplotlib->catboost) (9.0.1)\n",
      "Requirement already satisfied: cycler>=0.10 in c:\\users\\admin\\new folder\\lib\\site-packages (from matplotlib->catboost) (0.11.0)\n",
      "Requirement already satisfied: tenacity>=6.2.0 in c:\\users\\admin\\new folder\\lib\\site-packages (from plotly->catboost) (8.0.1)\n"
     ]
    }
   ],
   "source": [
    "!pip install catboost"
   ]
  },
  {
   "cell_type": "code",
   "execution_count": 53,
   "id": "ae866f47",
   "metadata": {},
   "outputs": [],
   "source": [
    "from catboost import CatBoostRegressor"
   ]
  },
  {
   "cell_type": "code",
   "execution_count": 54,
   "id": "f6681ba7",
   "metadata": {},
   "outputs": [],
   "source": [
    "cbr = CatBoostRegressor()"
   ]
  },
  {
   "cell_type": "code",
   "execution_count": 55,
   "id": "8105ad0f",
   "metadata": {},
   "outputs": [
    {
     "name": "stdout",
     "output_type": "stream",
     "text": [
      "Learning rate set to 0.090365\n",
      "0:\tlearn: 5.0887578\ttotal: 163ms\tremaining: 2m 42s\n",
      "1:\tlearn: 4.7683898\ttotal: 186ms\tremaining: 1m 32s\n",
      "2:\tlearn: 4.4877224\ttotal: 200ms\tremaining: 1m 6s\n",
      "3:\tlearn: 4.2405789\ttotal: 215ms\tremaining: 53.5s\n",
      "4:\tlearn: 4.0202805\ttotal: 229ms\tremaining: 45.5s\n",
      "5:\tlearn: 3.8226504\ttotal: 242ms\tremaining: 40.1s\n",
      "6:\tlearn: 3.6575212\ttotal: 255ms\tremaining: 36.2s\n",
      "7:\tlearn: 3.5070214\ttotal: 268ms\tremaining: 33.3s\n",
      "8:\tlearn: 3.3759491\ttotal: 282ms\tremaining: 31s\n",
      "9:\tlearn: 3.2618063\ttotal: 295ms\tremaining: 29.2s\n",
      "10:\tlearn: 3.1665527\ttotal: 308ms\tremaining: 27.7s\n",
      "11:\tlearn: 3.0803781\ttotal: 322ms\tremaining: 26.5s\n",
      "12:\tlearn: 3.0078155\ttotal: 335ms\tremaining: 25.4s\n",
      "13:\tlearn: 2.9433520\ttotal: 347ms\tremaining: 24.5s\n",
      "14:\tlearn: 2.8879598\ttotal: 361ms\tremaining: 23.7s\n",
      "15:\tlearn: 2.8406979\ttotal: 379ms\tremaining: 23.3s\n",
      "16:\tlearn: 2.8008175\ttotal: 394ms\tremaining: 22.8s\n",
      "17:\tlearn: 2.7659446\ttotal: 407ms\tremaining: 22.2s\n",
      "18:\tlearn: 2.7373441\ttotal: 420ms\tremaining: 21.7s\n",
      "19:\tlearn: 2.7120362\ttotal: 434ms\tremaining: 21.3s\n",
      "20:\tlearn: 2.6890749\ttotal: 448ms\tremaining: 20.9s\n",
      "21:\tlearn: 2.6708687\ttotal: 461ms\tremaining: 20.5s\n",
      "22:\tlearn: 2.6551372\ttotal: 475ms\tremaining: 20.2s\n",
      "23:\tlearn: 2.6408139\ttotal: 491ms\tremaining: 20s\n",
      "24:\tlearn: 2.6285247\ttotal: 506ms\tremaining: 19.7s\n",
      "25:\tlearn: 2.6176770\ttotal: 522ms\tremaining: 19.6s\n",
      "26:\tlearn: 2.6073861\ttotal: 539ms\tremaining: 19.4s\n",
      "27:\tlearn: 2.5983166\ttotal: 555ms\tremaining: 19.3s\n",
      "28:\tlearn: 2.5910380\ttotal: 569ms\tremaining: 19.1s\n",
      "29:\tlearn: 2.5850436\ttotal: 588ms\tremaining: 19s\n",
      "30:\tlearn: 2.5781099\ttotal: 602ms\tremaining: 18.8s\n",
      "31:\tlearn: 2.5726926\ttotal: 615ms\tremaining: 18.6s\n",
      "32:\tlearn: 2.5686485\ttotal: 629ms\tremaining: 18.4s\n",
      "33:\tlearn: 2.5647868\ttotal: 642ms\tremaining: 18.2s\n",
      "34:\tlearn: 2.5606560\ttotal: 656ms\tremaining: 18.1s\n",
      "35:\tlearn: 2.5573242\ttotal: 669ms\tremaining: 17.9s\n",
      "36:\tlearn: 2.5545715\ttotal: 682ms\tremaining: 17.8s\n",
      "37:\tlearn: 2.5518579\ttotal: 696ms\tremaining: 17.6s\n",
      "38:\tlearn: 2.5492076\ttotal: 709ms\tremaining: 17.5s\n",
      "39:\tlearn: 2.5470880\ttotal: 722ms\tremaining: 17.3s\n",
      "40:\tlearn: 2.5443847\ttotal: 735ms\tremaining: 17.2s\n",
      "41:\tlearn: 2.5420043\ttotal: 748ms\tremaining: 17.1s\n",
      "42:\tlearn: 2.5398446\ttotal: 761ms\tremaining: 16.9s\n",
      "43:\tlearn: 2.5377381\ttotal: 779ms\tremaining: 16.9s\n",
      "44:\tlearn: 2.5365081\ttotal: 793ms\tremaining: 16.8s\n",
      "45:\tlearn: 2.5346859\ttotal: 806ms\tremaining: 16.7s\n",
      "46:\tlearn: 2.5329700\ttotal: 820ms\tremaining: 16.6s\n",
      "47:\tlearn: 2.5318144\ttotal: 833ms\tremaining: 16.5s\n",
      "48:\tlearn: 2.5304325\ttotal: 846ms\tremaining: 16.4s\n",
      "49:\tlearn: 2.5295009\ttotal: 862ms\tremaining: 16.4s\n",
      "50:\tlearn: 2.5286886\ttotal: 876ms\tremaining: 16.3s\n",
      "51:\tlearn: 2.5276704\ttotal: 889ms\tremaining: 16.2s\n",
      "52:\tlearn: 2.5265876\ttotal: 902ms\tremaining: 16.1s\n",
      "53:\tlearn: 2.5256413\ttotal: 915ms\tremaining: 16s\n",
      "54:\tlearn: 2.5248941\ttotal: 928ms\tremaining: 16s\n",
      "55:\tlearn: 2.5235919\ttotal: 942ms\tremaining: 15.9s\n",
      "56:\tlearn: 2.5231290\ttotal: 954ms\tremaining: 15.8s\n",
      "57:\tlearn: 2.5223065\ttotal: 968ms\tremaining: 15.7s\n",
      "58:\tlearn: 2.5216725\ttotal: 988ms\tremaining: 15.8s\n",
      "59:\tlearn: 2.5212412\ttotal: 1s\tremaining: 15.7s\n",
      "60:\tlearn: 2.5205296\ttotal: 1.01s\tremaining: 15.6s\n",
      "61:\tlearn: 2.5200937\ttotal: 1.03s\tremaining: 15.6s\n",
      "62:\tlearn: 2.5191853\ttotal: 1.04s\tremaining: 15.5s\n",
      "63:\tlearn: 2.5186026\ttotal: 1.06s\tremaining: 15.4s\n",
      "64:\tlearn: 2.5182398\ttotal: 1.07s\tremaining: 15.4s\n",
      "65:\tlearn: 2.5173863\ttotal: 1.08s\tremaining: 15.3s\n",
      "66:\tlearn: 2.5165429\ttotal: 1.1s\tremaining: 15.3s\n",
      "67:\tlearn: 2.5158510\ttotal: 1.11s\tremaining: 15.2s\n",
      "68:\tlearn: 2.5154562\ttotal: 1.12s\tremaining: 15.1s\n",
      "69:\tlearn: 2.5149973\ttotal: 1.13s\tremaining: 15.1s\n",
      "70:\tlearn: 2.5142432\ttotal: 1.15s\tremaining: 15s\n",
      "71:\tlearn: 2.5137371\ttotal: 1.16s\tremaining: 15s\n",
      "72:\tlearn: 2.5131939\ttotal: 1.18s\tremaining: 15s\n",
      "73:\tlearn: 2.5127346\ttotal: 1.2s\tremaining: 15s\n",
      "74:\tlearn: 2.5124600\ttotal: 1.21s\tremaining: 15s\n",
      "75:\tlearn: 2.5118436\ttotal: 1.23s\tremaining: 14.9s\n",
      "76:\tlearn: 2.5113824\ttotal: 1.24s\tremaining: 14.8s\n",
      "77:\tlearn: 2.5108518\ttotal: 1.25s\tremaining: 14.8s\n",
      "78:\tlearn: 2.5103646\ttotal: 1.26s\tremaining: 14.7s\n",
      "79:\tlearn: 2.5100369\ttotal: 1.28s\tremaining: 14.8s\n",
      "80:\tlearn: 2.5098335\ttotal: 1.3s\tremaining: 14.7s\n",
      "81:\tlearn: 2.5095878\ttotal: 1.31s\tremaining: 14.7s\n",
      "82:\tlearn: 2.5090640\ttotal: 1.32s\tremaining: 14.6s\n",
      "83:\tlearn: 2.5086884\ttotal: 1.33s\tremaining: 14.6s\n",
      "84:\tlearn: 2.5084782\ttotal: 1.35s\tremaining: 14.5s\n",
      "85:\tlearn: 2.5082948\ttotal: 1.36s\tremaining: 14.5s\n",
      "86:\tlearn: 2.5079652\ttotal: 1.38s\tremaining: 14.5s\n",
      "87:\tlearn: 2.5077446\ttotal: 1.39s\tremaining: 14.5s\n",
      "88:\tlearn: 2.5071104\ttotal: 1.41s\tremaining: 14.4s\n",
      "89:\tlearn: 2.5069321\ttotal: 1.42s\tremaining: 14.4s\n",
      "90:\tlearn: 2.5067095\ttotal: 1.43s\tremaining: 14.3s\n",
      "91:\tlearn: 2.5063455\ttotal: 1.45s\tremaining: 14.3s\n",
      "92:\tlearn: 2.5059969\ttotal: 1.46s\tremaining: 14.2s\n",
      "93:\tlearn: 2.5056833\ttotal: 1.47s\tremaining: 14.2s\n",
      "94:\tlearn: 2.5053473\ttotal: 1.49s\tremaining: 14.2s\n",
      "95:\tlearn: 2.5049939\ttotal: 1.5s\tremaining: 14.1s\n",
      "96:\tlearn: 2.5048200\ttotal: 1.51s\tremaining: 14.1s\n",
      "97:\tlearn: 2.5046047\ttotal: 1.53s\tremaining: 14.1s\n",
      "98:\tlearn: 2.5044335\ttotal: 1.54s\tremaining: 14s\n",
      "99:\tlearn: 2.5040722\ttotal: 1.55s\tremaining: 14s\n",
      "100:\tlearn: 2.5036799\ttotal: 1.57s\tremaining: 13.9s\n",
      "101:\tlearn: 2.5034384\ttotal: 1.58s\tremaining: 13.9s\n",
      "102:\tlearn: 2.5033612\ttotal: 1.6s\tremaining: 13.9s\n",
      "103:\tlearn: 2.5029877\ttotal: 1.61s\tremaining: 13.9s\n",
      "104:\tlearn: 2.5026746\ttotal: 1.62s\tremaining: 13.8s\n",
      "105:\tlearn: 2.5023794\ttotal: 1.64s\tremaining: 13.8s\n",
      "106:\tlearn: 2.5020213\ttotal: 1.65s\tremaining: 13.8s\n",
      "107:\tlearn: 2.5017381\ttotal: 1.66s\tremaining: 13.7s\n",
      "108:\tlearn: 2.5014775\ttotal: 1.67s\tremaining: 13.7s\n",
      "109:\tlearn: 2.5011417\ttotal: 1.69s\tremaining: 13.7s\n",
      "110:\tlearn: 2.5009036\ttotal: 1.7s\tremaining: 13.6s\n",
      "111:\tlearn: 2.5006903\ttotal: 1.71s\tremaining: 13.6s\n",
      "112:\tlearn: 2.5003819\ttotal: 1.73s\tremaining: 13.5s\n",
      "113:\tlearn: 2.5001817\ttotal: 1.74s\tremaining: 13.5s\n",
      "114:\tlearn: 2.4996532\ttotal: 1.75s\tremaining: 13.5s\n",
      "115:\tlearn: 2.4982166\ttotal: 1.76s\tremaining: 13.4s\n",
      "116:\tlearn: 2.4978698\ttotal: 1.78s\tremaining: 13.5s\n",
      "117:\tlearn: 2.4975168\ttotal: 1.8s\tremaining: 13.5s\n",
      "118:\tlearn: 2.4971942\ttotal: 1.82s\tremaining: 13.4s\n",
      "119:\tlearn: 2.4970472\ttotal: 1.83s\tremaining: 13.4s\n",
      "120:\tlearn: 2.4968501\ttotal: 1.84s\tremaining: 13.4s\n",
      "121:\tlearn: 2.4965803\ttotal: 1.86s\tremaining: 13.4s\n",
      "122:\tlearn: 2.4964000\ttotal: 1.87s\tremaining: 13.3s\n",
      "123:\tlearn: 2.4962012\ttotal: 1.88s\tremaining: 13.3s\n",
      "124:\tlearn: 2.4957466\ttotal: 1.89s\tremaining: 13.3s\n",
      "125:\tlearn: 2.4954773\ttotal: 1.91s\tremaining: 13.2s\n",
      "126:\tlearn: 2.4951579\ttotal: 1.92s\tremaining: 13.2s\n",
      "127:\tlearn: 2.4949815\ttotal: 1.93s\tremaining: 13.2s\n",
      "128:\tlearn: 2.4945987\ttotal: 1.95s\tremaining: 13.1s\n",
      "129:\tlearn: 2.4944724\ttotal: 1.96s\tremaining: 13.1s\n",
      "130:\tlearn: 2.4933675\ttotal: 1.98s\tremaining: 13.1s\n",
      "131:\tlearn: 2.4930162\ttotal: 1.99s\tremaining: 13.1s\n",
      "132:\tlearn: 2.4928379\ttotal: 2s\tremaining: 13.1s\n",
      "133:\tlearn: 2.4926230\ttotal: 2.01s\tremaining: 13s\n",
      "134:\tlearn: 2.4921890\ttotal: 2.03s\tremaining: 13s\n",
      "135:\tlearn: 2.4919174\ttotal: 2.04s\tremaining: 13s\n",
      "136:\tlearn: 2.4915588\ttotal: 2.06s\tremaining: 13s\n",
      "137:\tlearn: 2.4911779\ttotal: 2.07s\tremaining: 13s\n",
      "138:\tlearn: 2.4909420\ttotal: 2.09s\tremaining: 12.9s\n",
      "139:\tlearn: 2.4906388\ttotal: 2.1s\tremaining: 12.9s\n",
      "140:\tlearn: 2.4903911\ttotal: 2.12s\tremaining: 12.9s\n",
      "141:\tlearn: 2.4901601\ttotal: 2.14s\tremaining: 12.9s\n",
      "142:\tlearn: 2.4898982\ttotal: 2.15s\tremaining: 12.9s\n",
      "143:\tlearn: 2.4896940\ttotal: 2.17s\tremaining: 12.9s\n",
      "144:\tlearn: 2.4893817\ttotal: 2.18s\tremaining: 12.9s\n",
      "145:\tlearn: 2.4890490\ttotal: 2.19s\tremaining: 12.8s\n",
      "146:\tlearn: 2.4888646\ttotal: 2.21s\tremaining: 12.8s\n",
      "147:\tlearn: 2.4885592\ttotal: 2.22s\tremaining: 12.8s\n",
      "148:\tlearn: 2.4881941\ttotal: 2.23s\tremaining: 12.8s\n",
      "149:\tlearn: 2.4878651\ttotal: 2.25s\tremaining: 12.7s\n",
      "150:\tlearn: 2.4876079\ttotal: 2.26s\tremaining: 12.7s\n",
      "151:\tlearn: 2.4871517\ttotal: 2.27s\tremaining: 12.7s\n",
      "152:\tlearn: 2.4868642\ttotal: 2.28s\tremaining: 12.6s\n",
      "153:\tlearn: 2.4865561\ttotal: 2.3s\tremaining: 12.6s\n",
      "154:\tlearn: 2.4862818\ttotal: 2.31s\tremaining: 12.6s\n",
      "155:\tlearn: 2.4860923\ttotal: 2.33s\tremaining: 12.6s\n",
      "156:\tlearn: 2.4857804\ttotal: 2.34s\tremaining: 12.6s\n",
      "157:\tlearn: 2.4854399\ttotal: 2.36s\tremaining: 12.6s\n",
      "158:\tlearn: 2.4852373\ttotal: 2.38s\tremaining: 12.6s\n",
      "159:\tlearn: 2.4849981\ttotal: 2.39s\tremaining: 12.6s\n",
      "160:\tlearn: 2.4846232\ttotal: 2.4s\tremaining: 12.5s\n",
      "161:\tlearn: 2.4843581\ttotal: 2.42s\tremaining: 12.5s\n",
      "162:\tlearn: 2.4841487\ttotal: 2.43s\tremaining: 12.5s\n",
      "163:\tlearn: 2.4839585\ttotal: 2.44s\tremaining: 12.4s\n",
      "164:\tlearn: 2.4836686\ttotal: 2.46s\tremaining: 12.4s\n",
      "165:\tlearn: 2.4833566\ttotal: 2.47s\tremaining: 12.4s\n",
      "166:\tlearn: 2.4830356\ttotal: 2.48s\tremaining: 12.4s\n",
      "167:\tlearn: 2.4828016\ttotal: 2.49s\tremaining: 12.4s\n",
      "168:\tlearn: 2.4824407\ttotal: 2.51s\tremaining: 12.3s\n",
      "169:\tlearn: 2.4821814\ttotal: 2.52s\tremaining: 12.3s\n",
      "170:\tlearn: 2.4819491\ttotal: 2.53s\tremaining: 12.3s\n",
      "171:\tlearn: 2.4816343\ttotal: 2.54s\tremaining: 12.3s\n",
      "172:\tlearn: 2.4812903\ttotal: 2.56s\tremaining: 12.2s\n"
     ]
    },
    {
     "name": "stdout",
     "output_type": "stream",
     "text": [
      "173:\tlearn: 2.4809963\ttotal: 2.58s\tremaining: 12.2s\n",
      "174:\tlearn: 2.4808810\ttotal: 2.59s\tremaining: 12.2s\n",
      "175:\tlearn: 2.4806522\ttotal: 2.6s\tremaining: 12.2s\n",
      "176:\tlearn: 2.4803263\ttotal: 2.61s\tremaining: 12.2s\n",
      "177:\tlearn: 2.4801160\ttotal: 2.63s\tremaining: 12.1s\n",
      "178:\tlearn: 2.4799059\ttotal: 2.64s\tremaining: 12.1s\n",
      "179:\tlearn: 2.4797524\ttotal: 2.65s\tremaining: 12.1s\n",
      "180:\tlearn: 2.4795951\ttotal: 2.67s\tremaining: 12.1s\n",
      "181:\tlearn: 2.4794413\ttotal: 2.68s\tremaining: 12s\n",
      "182:\tlearn: 2.4792283\ttotal: 2.69s\tremaining: 12s\n",
      "183:\tlearn: 2.4790469\ttotal: 2.7s\tremaining: 12s\n",
      "184:\tlearn: 2.4788545\ttotal: 2.71s\tremaining: 12s\n",
      "185:\tlearn: 2.4786005\ttotal: 2.73s\tremaining: 11.9s\n",
      "186:\tlearn: 2.4783807\ttotal: 2.74s\tremaining: 11.9s\n",
      "187:\tlearn: 2.4776408\ttotal: 2.75s\tremaining: 11.9s\n",
      "188:\tlearn: 2.4774378\ttotal: 2.77s\tremaining: 11.9s\n",
      "189:\tlearn: 2.4771403\ttotal: 2.78s\tremaining: 11.9s\n",
      "190:\tlearn: 2.4767786\ttotal: 2.8s\tremaining: 11.8s\n",
      "191:\tlearn: 2.4765194\ttotal: 2.81s\tremaining: 11.8s\n",
      "192:\tlearn: 2.4762535\ttotal: 2.82s\tremaining: 11.8s\n",
      "193:\tlearn: 2.4758761\ttotal: 2.83s\tremaining: 11.8s\n",
      "194:\tlearn: 2.4757569\ttotal: 2.85s\tremaining: 11.8s\n",
      "195:\tlearn: 2.4755676\ttotal: 2.86s\tremaining: 11.7s\n",
      "196:\tlearn: 2.4753506\ttotal: 2.87s\tremaining: 11.7s\n",
      "197:\tlearn: 2.4749522\ttotal: 2.88s\tremaining: 11.7s\n",
      "198:\tlearn: 2.4747377\ttotal: 2.9s\tremaining: 11.7s\n",
      "199:\tlearn: 2.4745299\ttotal: 2.91s\tremaining: 11.6s\n",
      "200:\tlearn: 2.4740135\ttotal: 2.92s\tremaining: 11.6s\n",
      "201:\tlearn: 2.4737606\ttotal: 2.93s\tremaining: 11.6s\n",
      "202:\tlearn: 2.4736449\ttotal: 2.95s\tremaining: 11.6s\n",
      "203:\tlearn: 2.4734712\ttotal: 2.96s\tremaining: 11.5s\n",
      "204:\tlearn: 2.4731834\ttotal: 2.98s\tremaining: 11.5s\n",
      "205:\tlearn: 2.4729969\ttotal: 2.99s\tremaining: 11.5s\n",
      "206:\tlearn: 2.4727904\ttotal: 3s\tremaining: 11.5s\n",
      "207:\tlearn: 2.4725282\ttotal: 3.01s\tremaining: 11.5s\n",
      "208:\tlearn: 2.4723263\ttotal: 3.03s\tremaining: 11.5s\n",
      "209:\tlearn: 2.4721734\ttotal: 3.04s\tremaining: 11.4s\n",
      "210:\tlearn: 2.4719367\ttotal: 3.05s\tremaining: 11.4s\n",
      "211:\tlearn: 2.4717038\ttotal: 3.07s\tremaining: 11.4s\n",
      "212:\tlearn: 2.4714444\ttotal: 3.08s\tremaining: 11.4s\n",
      "213:\tlearn: 2.4712453\ttotal: 3.09s\tremaining: 11.4s\n",
      "214:\tlearn: 2.4710636\ttotal: 3.11s\tremaining: 11.4s\n",
      "215:\tlearn: 2.4709228\ttotal: 3.12s\tremaining: 11.3s\n",
      "216:\tlearn: 2.4703095\ttotal: 3.14s\tremaining: 11.3s\n",
      "217:\tlearn: 2.4699241\ttotal: 3.15s\tremaining: 11.3s\n",
      "218:\tlearn: 2.4698083\ttotal: 3.16s\tremaining: 11.3s\n",
      "219:\tlearn: 2.4696605\ttotal: 3.18s\tremaining: 11.3s\n",
      "220:\tlearn: 2.4693325\ttotal: 3.19s\tremaining: 11.3s\n",
      "221:\tlearn: 2.4691307\ttotal: 3.21s\tremaining: 11.2s\n",
      "222:\tlearn: 2.4686216\ttotal: 3.22s\tremaining: 11.2s\n",
      "223:\tlearn: 2.4684997\ttotal: 3.23s\tremaining: 11.2s\n",
      "224:\tlearn: 2.4681877\ttotal: 3.24s\tremaining: 11.2s\n",
      "225:\tlearn: 2.4674404\ttotal: 3.26s\tremaining: 11.2s\n",
      "226:\tlearn: 2.4672204\ttotal: 3.27s\tremaining: 11.1s\n",
      "227:\tlearn: 2.4670428\ttotal: 3.28s\tremaining: 11.1s\n",
      "228:\tlearn: 2.4668611\ttotal: 3.3s\tremaining: 11.1s\n",
      "229:\tlearn: 2.4667433\ttotal: 3.31s\tremaining: 11.1s\n",
      "230:\tlearn: 2.4665384\ttotal: 3.32s\tremaining: 11.1s\n",
      "231:\tlearn: 2.4663853\ttotal: 3.33s\tremaining: 11s\n",
      "232:\tlearn: 2.4660774\ttotal: 3.35s\tremaining: 11s\n",
      "233:\tlearn: 2.4659485\ttotal: 3.36s\tremaining: 11s\n",
      "234:\tlearn: 2.4658653\ttotal: 3.38s\tremaining: 11s\n",
      "235:\tlearn: 2.4657307\ttotal: 3.39s\tremaining: 11s\n",
      "236:\tlearn: 2.4654750\ttotal: 3.4s\tremaining: 10.9s\n",
      "237:\tlearn: 2.4653137\ttotal: 3.41s\tremaining: 10.9s\n",
      "238:\tlearn: 2.4651082\ttotal: 3.43s\tremaining: 10.9s\n",
      "239:\tlearn: 2.4649719\ttotal: 3.44s\tremaining: 10.9s\n",
      "240:\tlearn: 2.4648837\ttotal: 3.45s\tremaining: 10.9s\n",
      "241:\tlearn: 2.4646213\ttotal: 3.47s\tremaining: 10.9s\n",
      "242:\tlearn: 2.4643740\ttotal: 3.48s\tremaining: 10.8s\n",
      "243:\tlearn: 2.4642834\ttotal: 3.49s\tremaining: 10.8s\n",
      "244:\tlearn: 2.4641396\ttotal: 3.51s\tremaining: 10.8s\n",
      "245:\tlearn: 2.4639694\ttotal: 3.52s\tremaining: 10.8s\n",
      "246:\tlearn: 2.4638494\ttotal: 3.53s\tremaining: 10.8s\n",
      "247:\tlearn: 2.4636993\ttotal: 3.54s\tremaining: 10.8s\n",
      "248:\tlearn: 2.4635252\ttotal: 3.56s\tremaining: 10.7s\n",
      "249:\tlearn: 2.4632623\ttotal: 3.57s\tremaining: 10.7s\n",
      "250:\tlearn: 2.4629435\ttotal: 3.59s\tremaining: 10.7s\n",
      "251:\tlearn: 2.4627960\ttotal: 3.6s\tremaining: 10.7s\n",
      "252:\tlearn: 2.4626434\ttotal: 3.61s\tremaining: 10.7s\n",
      "253:\tlearn: 2.4624281\ttotal: 3.63s\tremaining: 10.7s\n",
      "254:\tlearn: 2.4622478\ttotal: 3.64s\tremaining: 10.6s\n",
      "255:\tlearn: 2.4620975\ttotal: 3.65s\tremaining: 10.6s\n",
      "256:\tlearn: 2.4620173\ttotal: 3.67s\tremaining: 10.6s\n",
      "257:\tlearn: 2.4619212\ttotal: 3.68s\tremaining: 10.6s\n",
      "258:\tlearn: 2.4616706\ttotal: 3.69s\tremaining: 10.6s\n",
      "259:\tlearn: 2.4615322\ttotal: 3.71s\tremaining: 10.5s\n",
      "260:\tlearn: 2.4611831\ttotal: 3.72s\tremaining: 10.5s\n",
      "261:\tlearn: 2.4609725\ttotal: 3.73s\tremaining: 10.5s\n",
      "262:\tlearn: 2.4608530\ttotal: 3.74s\tremaining: 10.5s\n",
      "263:\tlearn: 2.4607395\ttotal: 3.76s\tremaining: 10.5s\n",
      "264:\tlearn: 2.4605124\ttotal: 3.77s\tremaining: 10.5s\n",
      "265:\tlearn: 2.4604183\ttotal: 3.79s\tremaining: 10.4s\n",
      "266:\tlearn: 2.4602740\ttotal: 3.8s\tremaining: 10.4s\n",
      "267:\tlearn: 2.4601593\ttotal: 3.81s\tremaining: 10.4s\n",
      "268:\tlearn: 2.4600257\ttotal: 3.82s\tremaining: 10.4s\n",
      "269:\tlearn: 2.4599211\ttotal: 3.83s\tremaining: 10.4s\n",
      "270:\tlearn: 2.4598539\ttotal: 3.85s\tremaining: 10.4s\n",
      "271:\tlearn: 2.4592474\ttotal: 3.86s\tremaining: 10.3s\n",
      "272:\tlearn: 2.4590527\ttotal: 3.87s\tremaining: 10.3s\n",
      "273:\tlearn: 2.4588439\ttotal: 3.89s\tremaining: 10.3s\n",
      "274:\tlearn: 2.4585835\ttotal: 3.9s\tremaining: 10.3s\n",
      "275:\tlearn: 2.4583243\ttotal: 3.91s\tremaining: 10.3s\n",
      "276:\tlearn: 2.4582005\ttotal: 3.93s\tremaining: 10.2s\n",
      "277:\tlearn: 2.4580504\ttotal: 3.94s\tremaining: 10.2s\n",
      "278:\tlearn: 2.4579584\ttotal: 3.95s\tremaining: 10.2s\n",
      "279:\tlearn: 2.4576623\ttotal: 3.97s\tremaining: 10.2s\n",
      "280:\tlearn: 2.4575402\ttotal: 3.98s\tremaining: 10.2s\n",
      "281:\tlearn: 2.4573277\ttotal: 4s\tremaining: 10.2s\n",
      "282:\tlearn: 2.4570223\ttotal: 4.01s\tremaining: 10.2s\n",
      "283:\tlearn: 2.4568456\ttotal: 4.02s\tremaining: 10.1s\n",
      "284:\tlearn: 2.4566054\ttotal: 4.03s\tremaining: 10.1s\n",
      "285:\tlearn: 2.4563794\ttotal: 4.05s\tremaining: 10.1s\n",
      "286:\tlearn: 2.4562285\ttotal: 4.06s\tremaining: 10.1s\n",
      "287:\tlearn: 2.4561696\ttotal: 4.07s\tremaining: 10.1s\n",
      "288:\tlearn: 2.4560191\ttotal: 4.08s\tremaining: 10.1s\n",
      "289:\tlearn: 2.4559535\ttotal: 4.1s\tremaining: 10s\n",
      "290:\tlearn: 2.4558316\ttotal: 4.11s\tremaining: 10s\n",
      "291:\tlearn: 2.4556571\ttotal: 4.13s\tremaining: 10s\n",
      "292:\tlearn: 2.4555320\ttotal: 4.14s\tremaining: 9.99s\n",
      "293:\tlearn: 2.4551933\ttotal: 4.15s\tremaining: 9.97s\n",
      "294:\tlearn: 2.4549540\ttotal: 4.17s\tremaining: 9.95s\n",
      "295:\tlearn: 2.4547430\ttotal: 4.18s\tremaining: 9.95s\n",
      "296:\tlearn: 2.4546251\ttotal: 4.19s\tremaining: 9.93s\n",
      "297:\tlearn: 2.4545481\ttotal: 4.21s\tremaining: 9.91s\n",
      "298:\tlearn: 2.4544597\ttotal: 4.22s\tremaining: 9.89s\n",
      "299:\tlearn: 2.4542548\ttotal: 4.23s\tremaining: 9.88s\n",
      "300:\tlearn: 2.4540711\ttotal: 4.25s\tremaining: 9.86s\n",
      "301:\tlearn: 2.4538412\ttotal: 4.26s\tremaining: 9.85s\n",
      "302:\tlearn: 2.4537029\ttotal: 4.27s\tremaining: 9.83s\n",
      "303:\tlearn: 2.4534150\ttotal: 4.28s\tremaining: 9.81s\n",
      "304:\tlearn: 2.4533106\ttotal: 4.3s\tremaining: 9.8s\n",
      "305:\tlearn: 2.4531510\ttotal: 4.31s\tremaining: 9.79s\n",
      "306:\tlearn: 2.4530768\ttotal: 4.33s\tremaining: 9.77s\n",
      "307:\tlearn: 2.4529255\ttotal: 4.34s\tremaining: 9.76s\n",
      "308:\tlearn: 2.4527258\ttotal: 4.36s\tremaining: 9.76s\n",
      "309:\tlearn: 2.4526548\ttotal: 4.38s\tremaining: 9.76s\n",
      "310:\tlearn: 2.4525057\ttotal: 4.4s\tremaining: 9.75s\n",
      "311:\tlearn: 2.4523256\ttotal: 4.42s\tremaining: 9.74s\n",
      "312:\tlearn: 2.4520636\ttotal: 4.43s\tremaining: 9.73s\n",
      "313:\tlearn: 2.4519037\ttotal: 4.45s\tremaining: 9.72s\n",
      "314:\tlearn: 2.4517074\ttotal: 4.46s\tremaining: 9.7s\n",
      "315:\tlearn: 2.4516013\ttotal: 4.48s\tremaining: 9.69s\n",
      "316:\tlearn: 2.4514638\ttotal: 4.49s\tremaining: 9.67s\n",
      "317:\tlearn: 2.4513596\ttotal: 4.5s\tremaining: 9.65s\n",
      "318:\tlearn: 2.4512087\ttotal: 4.51s\tremaining: 9.64s\n",
      "319:\tlearn: 2.4510286\ttotal: 4.53s\tremaining: 9.62s\n",
      "320:\tlearn: 2.4508675\ttotal: 4.54s\tremaining: 9.6s\n",
      "321:\tlearn: 2.4504063\ttotal: 4.55s\tremaining: 9.59s\n",
      "322:\tlearn: 2.4502955\ttotal: 4.57s\tremaining: 9.57s\n",
      "323:\tlearn: 2.4500815\ttotal: 4.58s\tremaining: 9.56s\n",
      "324:\tlearn: 2.4498923\ttotal: 4.6s\tremaining: 9.54s\n",
      "325:\tlearn: 2.4497919\ttotal: 4.61s\tremaining: 9.53s\n",
      "326:\tlearn: 2.4497236\ttotal: 4.62s\tremaining: 9.51s\n",
      "327:\tlearn: 2.4494259\ttotal: 4.63s\tremaining: 9.49s\n",
      "328:\tlearn: 2.4493315\ttotal: 4.65s\tremaining: 9.48s\n",
      "329:\tlearn: 2.4491975\ttotal: 4.66s\tremaining: 9.47s\n",
      "330:\tlearn: 2.4490810\ttotal: 4.67s\tremaining: 9.45s\n",
      "331:\tlearn: 2.4489728\ttotal: 4.69s\tremaining: 9.43s\n",
      "332:\tlearn: 2.4487510\ttotal: 4.7s\tremaining: 9.41s\n",
      "333:\tlearn: 2.4486411\ttotal: 4.71s\tremaining: 9.4s\n",
      "334:\tlearn: 2.4484310\ttotal: 4.73s\tremaining: 9.38s\n",
      "335:\tlearn: 2.4483120\ttotal: 4.74s\tremaining: 9.36s\n",
      "336:\tlearn: 2.4482106\ttotal: 4.75s\tremaining: 9.35s\n",
      "337:\tlearn: 2.4480552\ttotal: 4.76s\tremaining: 9.33s\n"
     ]
    },
    {
     "name": "stdout",
     "output_type": "stream",
     "text": [
      "338:\tlearn: 2.4478157\ttotal: 4.78s\tremaining: 9.32s\n",
      "339:\tlearn: 2.4477304\ttotal: 4.79s\tremaining: 9.3s\n",
      "340:\tlearn: 2.4474964\ttotal: 4.81s\tremaining: 9.29s\n",
      "341:\tlearn: 2.4473844\ttotal: 4.82s\tremaining: 9.27s\n",
      "342:\tlearn: 2.4471715\ttotal: 4.83s\tremaining: 9.26s\n",
      "343:\tlearn: 2.4470565\ttotal: 4.84s\tremaining: 9.24s\n",
      "344:\tlearn: 2.4468328\ttotal: 4.86s\tremaining: 9.22s\n",
      "345:\tlearn: 2.4467693\ttotal: 4.87s\tremaining: 9.21s\n",
      "346:\tlearn: 2.4466488\ttotal: 4.88s\tremaining: 9.19s\n",
      "347:\tlearn: 2.4465796\ttotal: 4.9s\tremaining: 9.17s\n",
      "348:\tlearn: 2.4464056\ttotal: 4.91s\tremaining: 9.16s\n",
      "349:\tlearn: 2.4462638\ttotal: 4.92s\tremaining: 9.14s\n",
      "350:\tlearn: 2.4461930\ttotal: 4.93s\tremaining: 9.13s\n",
      "351:\tlearn: 2.4460880\ttotal: 4.95s\tremaining: 9.11s\n",
      "352:\tlearn: 2.4460240\ttotal: 4.96s\tremaining: 9.09s\n",
      "353:\tlearn: 2.4457892\ttotal: 4.97s\tremaining: 9.08s\n",
      "354:\tlearn: 2.4456410\ttotal: 4.99s\tremaining: 9.07s\n",
      "355:\tlearn: 2.4455001\ttotal: 5s\tremaining: 9.05s\n",
      "356:\tlearn: 2.4454145\ttotal: 5.02s\tremaining: 9.04s\n",
      "357:\tlearn: 2.4451834\ttotal: 5.03s\tremaining: 9.02s\n",
      "358:\tlearn: 2.4450569\ttotal: 5.04s\tremaining: 9.01s\n",
      "359:\tlearn: 2.4450128\ttotal: 5.06s\tremaining: 8.99s\n",
      "360:\tlearn: 2.4448377\ttotal: 5.07s\tremaining: 8.97s\n",
      "361:\tlearn: 2.4447580\ttotal: 5.08s\tremaining: 8.96s\n",
      "362:\tlearn: 2.4445891\ttotal: 5.1s\tremaining: 8.95s\n",
      "363:\tlearn: 2.4444802\ttotal: 5.12s\tremaining: 8.94s\n",
      "364:\tlearn: 2.4438345\ttotal: 5.13s\tremaining: 8.93s\n",
      "365:\tlearn: 2.4437252\ttotal: 5.15s\tremaining: 8.92s\n",
      "366:\tlearn: 2.4436320\ttotal: 5.17s\tremaining: 8.91s\n",
      "367:\tlearn: 2.4435459\ttotal: 5.18s\tremaining: 8.9s\n",
      "368:\tlearn: 2.4434056\ttotal: 5.2s\tremaining: 8.89s\n",
      "369:\tlearn: 2.4432873\ttotal: 5.21s\tremaining: 8.87s\n",
      "370:\tlearn: 2.4432204\ttotal: 5.22s\tremaining: 8.86s\n",
      "371:\tlearn: 2.4429107\ttotal: 5.24s\tremaining: 8.84s\n",
      "372:\tlearn: 2.4428353\ttotal: 5.25s\tremaining: 8.83s\n",
      "373:\tlearn: 2.4425917\ttotal: 5.26s\tremaining: 8.81s\n",
      "374:\tlearn: 2.4425187\ttotal: 5.28s\tremaining: 8.79s\n",
      "375:\tlearn: 2.4423250\ttotal: 5.29s\tremaining: 8.78s\n",
      "376:\tlearn: 2.4415291\ttotal: 5.3s\tremaining: 8.76s\n",
      "377:\tlearn: 2.4413074\ttotal: 5.32s\tremaining: 8.75s\n",
      "378:\tlearn: 2.4411083\ttotal: 5.33s\tremaining: 8.73s\n",
      "379:\tlearn: 2.4409190\ttotal: 5.34s\tremaining: 8.71s\n",
      "380:\tlearn: 2.4408600\ttotal: 5.35s\tremaining: 8.7s\n",
      "381:\tlearn: 2.4406675\ttotal: 5.37s\tremaining: 8.68s\n",
      "382:\tlearn: 2.4405531\ttotal: 5.38s\tremaining: 8.67s\n",
      "383:\tlearn: 2.4403145\ttotal: 5.4s\tremaining: 8.66s\n",
      "384:\tlearn: 2.4402572\ttotal: 5.41s\tremaining: 8.64s\n",
      "385:\tlearn: 2.4400061\ttotal: 5.42s\tremaining: 8.63s\n",
      "386:\tlearn: 2.4398444\ttotal: 5.44s\tremaining: 8.61s\n",
      "387:\tlearn: 2.4397831\ttotal: 5.45s\tremaining: 8.6s\n",
      "388:\tlearn: 2.4396170\ttotal: 5.46s\tremaining: 8.58s\n",
      "389:\tlearn: 2.4394841\ttotal: 5.47s\tremaining: 8.56s\n",
      "390:\tlearn: 2.4394029\ttotal: 5.49s\tremaining: 8.55s\n",
      "391:\tlearn: 2.4393201\ttotal: 5.5s\tremaining: 8.53s\n",
      "392:\tlearn: 2.4392012\ttotal: 5.51s\tremaining: 8.51s\n",
      "393:\tlearn: 2.4390154\ttotal: 5.52s\tremaining: 8.5s\n",
      "394:\tlearn: 2.4389184\ttotal: 5.54s\tremaining: 8.48s\n",
      "395:\tlearn: 2.4388251\ttotal: 5.55s\tremaining: 8.46s\n",
      "396:\tlearn: 2.4387620\ttotal: 5.56s\tremaining: 8.45s\n",
      "397:\tlearn: 2.4386906\ttotal: 5.58s\tremaining: 8.44s\n",
      "398:\tlearn: 2.4385456\ttotal: 5.59s\tremaining: 8.43s\n",
      "399:\tlearn: 2.4383482\ttotal: 5.61s\tremaining: 8.41s\n",
      "400:\tlearn: 2.4381627\ttotal: 5.62s\tremaining: 8.39s\n",
      "401:\tlearn: 2.4380844\ttotal: 5.63s\tremaining: 8.38s\n",
      "402:\tlearn: 2.4379981\ttotal: 5.64s\tremaining: 8.36s\n",
      "403:\tlearn: 2.4376905\ttotal: 5.66s\tremaining: 8.35s\n",
      "404:\tlearn: 2.4374881\ttotal: 5.67s\tremaining: 8.33s\n",
      "405:\tlearn: 2.4373546\ttotal: 5.68s\tremaining: 8.31s\n",
      "406:\tlearn: 2.4372604\ttotal: 5.7s\tremaining: 8.3s\n",
      "407:\tlearn: 2.4371597\ttotal: 5.71s\tremaining: 8.29s\n",
      "408:\tlearn: 2.4370408\ttotal: 5.72s\tremaining: 8.27s\n",
      "409:\tlearn: 2.4367771\ttotal: 5.74s\tremaining: 8.25s\n",
      "410:\tlearn: 2.4366120\ttotal: 5.75s\tremaining: 8.24s\n",
      "411:\tlearn: 2.4365091\ttotal: 5.76s\tremaining: 8.22s\n",
      "412:\tlearn: 2.4364219\ttotal: 5.78s\tremaining: 8.21s\n",
      "413:\tlearn: 2.4362514\ttotal: 5.79s\tremaining: 8.2s\n",
      "414:\tlearn: 2.4361793\ttotal: 5.8s\tremaining: 8.18s\n",
      "415:\tlearn: 2.4360090\ttotal: 5.82s\tremaining: 8.17s\n",
      "416:\tlearn: 2.4359484\ttotal: 5.83s\tremaining: 8.15s\n",
      "417:\tlearn: 2.4358395\ttotal: 5.84s\tremaining: 8.14s\n",
      "418:\tlearn: 2.4357268\ttotal: 5.86s\tremaining: 8.12s\n",
      "419:\tlearn: 2.4355390\ttotal: 5.87s\tremaining: 8.11s\n",
      "420:\tlearn: 2.4354545\ttotal: 5.88s\tremaining: 8.09s\n",
      "421:\tlearn: 2.4352269\ttotal: 5.89s\tremaining: 8.07s\n",
      "422:\tlearn: 2.4351507\ttotal: 5.91s\tremaining: 8.06s\n",
      "423:\tlearn: 2.4349771\ttotal: 5.92s\tremaining: 8.05s\n",
      "424:\tlearn: 2.4348879\ttotal: 5.94s\tremaining: 8.04s\n",
      "425:\tlearn: 2.4348244\ttotal: 5.96s\tremaining: 8.02s\n",
      "426:\tlearn: 2.4347478\ttotal: 5.97s\tremaining: 8.01s\n",
      "427:\tlearn: 2.4346568\ttotal: 5.99s\tremaining: 8.01s\n",
      "428:\tlearn: 2.4345723\ttotal: 6.01s\tremaining: 8s\n",
      "429:\tlearn: 2.4344432\ttotal: 6.02s\tremaining: 7.98s\n",
      "430:\tlearn: 2.4342563\ttotal: 6.04s\tremaining: 7.97s\n",
      "431:\tlearn: 2.4340586\ttotal: 6.05s\tremaining: 7.96s\n",
      "432:\tlearn: 2.4339712\ttotal: 6.07s\tremaining: 7.95s\n",
      "433:\tlearn: 2.4337665\ttotal: 6.08s\tremaining: 7.93s\n",
      "434:\tlearn: 2.4336590\ttotal: 6.1s\tremaining: 7.92s\n",
      "435:\tlearn: 2.4335492\ttotal: 6.11s\tremaining: 7.91s\n",
      "436:\tlearn: 2.4334722\ttotal: 6.13s\tremaining: 7.9s\n",
      "437:\tlearn: 2.4333348\ttotal: 6.14s\tremaining: 7.88s\n",
      "438:\tlearn: 2.4332183\ttotal: 6.16s\tremaining: 7.87s\n",
      "439:\tlearn: 2.4329654\ttotal: 6.18s\tremaining: 7.86s\n",
      "440:\tlearn: 2.4328380\ttotal: 6.2s\tremaining: 7.85s\n",
      "441:\tlearn: 2.4326423\ttotal: 6.21s\tremaining: 7.84s\n",
      "442:\tlearn: 2.4324411\ttotal: 6.23s\tremaining: 7.83s\n",
      "443:\tlearn: 2.4323960\ttotal: 6.24s\tremaining: 7.82s\n",
      "444:\tlearn: 2.4323309\ttotal: 6.26s\tremaining: 7.8s\n",
      "445:\tlearn: 2.4321343\ttotal: 6.27s\tremaining: 7.79s\n",
      "446:\tlearn: 2.4320427\ttotal: 6.28s\tremaining: 7.77s\n",
      "447:\tlearn: 2.4319592\ttotal: 6.29s\tremaining: 7.76s\n",
      "448:\tlearn: 2.4317637\ttotal: 6.31s\tremaining: 7.74s\n",
      "449:\tlearn: 2.4315158\ttotal: 6.32s\tremaining: 7.72s\n",
      "450:\tlearn: 2.4314478\ttotal: 6.33s\tremaining: 7.71s\n",
      "451:\tlearn: 2.4312928\ttotal: 6.35s\tremaining: 7.7s\n",
      "452:\tlearn: 2.4311367\ttotal: 6.36s\tremaining: 7.68s\n",
      "453:\tlearn: 2.4309979\ttotal: 6.38s\tremaining: 7.67s\n",
      "454:\tlearn: 2.4307647\ttotal: 6.39s\tremaining: 7.66s\n",
      "455:\tlearn: 2.4304452\ttotal: 6.41s\tremaining: 7.64s\n",
      "456:\tlearn: 2.4302964\ttotal: 6.42s\tremaining: 7.63s\n",
      "457:\tlearn: 2.4301152\ttotal: 6.43s\tremaining: 7.61s\n",
      "458:\tlearn: 2.4299001\ttotal: 6.44s\tremaining: 7.59s\n",
      "459:\tlearn: 2.4298301\ttotal: 6.46s\tremaining: 7.58s\n",
      "460:\tlearn: 2.4297597\ttotal: 6.47s\tremaining: 7.56s\n",
      "461:\tlearn: 2.4296694\ttotal: 6.48s\tremaining: 7.55s\n",
      "462:\tlearn: 2.4295694\ttotal: 6.5s\tremaining: 7.54s\n",
      "463:\tlearn: 2.4295102\ttotal: 6.51s\tremaining: 7.52s\n",
      "464:\tlearn: 2.4293314\ttotal: 6.52s\tremaining: 7.5s\n",
      "465:\tlearn: 2.4291148\ttotal: 6.54s\tremaining: 7.49s\n",
      "466:\tlearn: 2.4289683\ttotal: 6.55s\tremaining: 7.47s\n",
      "467:\tlearn: 2.4288233\ttotal: 6.56s\tremaining: 7.46s\n",
      "468:\tlearn: 2.4287086\ttotal: 6.57s\tremaining: 7.44s\n",
      "469:\tlearn: 2.4286188\ttotal: 6.59s\tremaining: 7.43s\n",
      "470:\tlearn: 2.4285576\ttotal: 6.61s\tremaining: 7.42s\n",
      "471:\tlearn: 2.4284561\ttotal: 6.62s\tremaining: 7.4s\n",
      "472:\tlearn: 2.4282699\ttotal: 6.63s\tremaining: 7.39s\n",
      "473:\tlearn: 2.4280323\ttotal: 6.64s\tremaining: 7.37s\n",
      "474:\tlearn: 2.4278443\ttotal: 6.66s\tremaining: 7.36s\n",
      "475:\tlearn: 2.4276621\ttotal: 6.67s\tremaining: 7.34s\n",
      "476:\tlearn: 2.4274621\ttotal: 6.68s\tremaining: 7.33s\n",
      "477:\tlearn: 2.4272638\ttotal: 6.7s\tremaining: 7.31s\n",
      "478:\tlearn: 2.4272039\ttotal: 6.71s\tremaining: 7.3s\n",
      "479:\tlearn: 2.4271206\ttotal: 6.72s\tremaining: 7.28s\n",
      "480:\tlearn: 2.4270352\ttotal: 6.74s\tremaining: 7.27s\n",
      "481:\tlearn: 2.4269332\ttotal: 6.75s\tremaining: 7.25s\n",
      "482:\tlearn: 2.4268890\ttotal: 6.76s\tremaining: 7.24s\n",
      "483:\tlearn: 2.4267359\ttotal: 6.78s\tremaining: 7.22s\n",
      "484:\tlearn: 2.4266553\ttotal: 6.79s\tremaining: 7.21s\n",
      "485:\tlearn: 2.4264999\ttotal: 6.81s\tremaining: 7.2s\n",
      "486:\tlearn: 2.4263263\ttotal: 6.82s\tremaining: 7.18s\n",
      "487:\tlearn: 2.4262487\ttotal: 6.83s\tremaining: 7.17s\n",
      "488:\tlearn: 2.4261432\ttotal: 6.85s\tremaining: 7.16s\n",
      "489:\tlearn: 2.4258934\ttotal: 6.86s\tremaining: 7.14s\n",
      "490:\tlearn: 2.4257705\ttotal: 6.88s\tremaining: 7.13s\n",
      "491:\tlearn: 2.4256183\ttotal: 6.89s\tremaining: 7.12s\n",
      "492:\tlearn: 2.4255538\ttotal: 6.9s\tremaining: 7.1s\n",
      "493:\tlearn: 2.4253645\ttotal: 6.92s\tremaining: 7.08s\n",
      "494:\tlearn: 2.4252045\ttotal: 6.93s\tremaining: 7.07s\n",
      "495:\tlearn: 2.4251291\ttotal: 6.94s\tremaining: 7.05s\n",
      "496:\tlearn: 2.4250412\ttotal: 6.96s\tremaining: 7.04s\n",
      "497:\tlearn: 2.4247959\ttotal: 6.97s\tremaining: 7.03s\n",
      "498:\tlearn: 2.4244827\ttotal: 6.98s\tremaining: 7.01s\n"
     ]
    },
    {
     "name": "stdout",
     "output_type": "stream",
     "text": [
      "499:\tlearn: 2.4243369\ttotal: 7s\tremaining: 7s\n",
      "500:\tlearn: 2.4242672\ttotal: 7.01s\tremaining: 6.99s\n",
      "501:\tlearn: 2.4241752\ttotal: 7.03s\tremaining: 6.97s\n",
      "502:\tlearn: 2.4240903\ttotal: 7.04s\tremaining: 6.96s\n",
      "503:\tlearn: 2.4240135\ttotal: 7.05s\tremaining: 6.94s\n",
      "504:\tlearn: 2.4238587\ttotal: 7.07s\tremaining: 6.93s\n",
      "505:\tlearn: 2.4237829\ttotal: 7.08s\tremaining: 6.91s\n",
      "506:\tlearn: 2.4236360\ttotal: 7.09s\tremaining: 6.9s\n",
      "507:\tlearn: 2.4235509\ttotal: 7.11s\tremaining: 6.88s\n",
      "508:\tlearn: 2.4234869\ttotal: 7.12s\tremaining: 6.87s\n",
      "509:\tlearn: 2.4232841\ttotal: 7.13s\tremaining: 6.85s\n",
      "510:\tlearn: 2.4231374\ttotal: 7.14s\tremaining: 6.84s\n",
      "511:\tlearn: 2.4230604\ttotal: 7.16s\tremaining: 6.82s\n",
      "512:\tlearn: 2.4229907\ttotal: 7.17s\tremaining: 6.8s\n",
      "513:\tlearn: 2.4227536\ttotal: 7.18s\tremaining: 6.79s\n",
      "514:\tlearn: 2.4226425\ttotal: 7.2s\tremaining: 6.78s\n",
      "515:\tlearn: 2.4225024\ttotal: 7.21s\tremaining: 6.76s\n",
      "516:\tlearn: 2.4223230\ttotal: 7.22s\tremaining: 6.75s\n",
      "517:\tlearn: 2.4219844\ttotal: 7.24s\tremaining: 6.73s\n",
      "518:\tlearn: 2.4218571\ttotal: 7.25s\tremaining: 6.72s\n",
      "519:\tlearn: 2.4217516\ttotal: 7.26s\tremaining: 6.71s\n",
      "520:\tlearn: 2.4216306\ttotal: 7.28s\tremaining: 6.69s\n",
      "521:\tlearn: 2.4215345\ttotal: 7.29s\tremaining: 6.68s\n",
      "522:\tlearn: 2.4213189\ttotal: 7.3s\tremaining: 6.66s\n",
      "523:\tlearn: 2.4211169\ttotal: 7.32s\tremaining: 6.65s\n",
      "524:\tlearn: 2.4210411\ttotal: 7.33s\tremaining: 6.63s\n",
      "525:\tlearn: 2.4209103\ttotal: 7.34s\tremaining: 6.62s\n",
      "526:\tlearn: 2.4208182\ttotal: 7.36s\tremaining: 6.6s\n",
      "527:\tlearn: 2.4205920\ttotal: 7.37s\tremaining: 6.59s\n",
      "528:\tlearn: 2.4205176\ttotal: 7.38s\tremaining: 6.57s\n",
      "529:\tlearn: 2.4204481\ttotal: 7.4s\tremaining: 6.56s\n",
      "530:\tlearn: 2.4202769\ttotal: 7.41s\tremaining: 6.55s\n",
      "531:\tlearn: 2.4201327\ttotal: 7.42s\tremaining: 6.53s\n",
      "532:\tlearn: 2.4200471\ttotal: 7.44s\tremaining: 6.52s\n",
      "533:\tlearn: 2.4199692\ttotal: 7.45s\tremaining: 6.5s\n",
      "534:\tlearn: 2.4199049\ttotal: 7.46s\tremaining: 6.49s\n",
      "535:\tlearn: 2.4197568\ttotal: 7.48s\tremaining: 6.47s\n",
      "536:\tlearn: 2.4196551\ttotal: 7.49s\tremaining: 6.46s\n",
      "537:\tlearn: 2.4195969\ttotal: 7.5s\tremaining: 6.44s\n",
      "538:\tlearn: 2.4193959\ttotal: 7.51s\tremaining: 6.43s\n",
      "539:\tlearn: 2.4193208\ttotal: 7.53s\tremaining: 6.41s\n",
      "540:\tlearn: 2.4190707\ttotal: 7.54s\tremaining: 6.4s\n",
      "541:\tlearn: 2.4190021\ttotal: 7.55s\tremaining: 6.38s\n",
      "542:\tlearn: 2.4188039\ttotal: 7.57s\tremaining: 6.37s\n",
      "543:\tlearn: 2.4187051\ttotal: 7.58s\tremaining: 6.35s\n",
      "544:\tlearn: 2.4186281\ttotal: 7.6s\tremaining: 6.34s\n",
      "545:\tlearn: 2.4185326\ttotal: 7.61s\tremaining: 6.33s\n",
      "546:\tlearn: 2.4183720\ttotal: 7.62s\tremaining: 6.31s\n",
      "547:\tlearn: 2.4183270\ttotal: 7.63s\tremaining: 6.3s\n",
      "548:\tlearn: 2.4181624\ttotal: 7.65s\tremaining: 6.28s\n",
      "549:\tlearn: 2.4180434\ttotal: 7.66s\tremaining: 6.27s\n",
      "550:\tlearn: 2.4179090\ttotal: 7.67s\tremaining: 6.25s\n",
      "551:\tlearn: 2.4178523\ttotal: 7.68s\tremaining: 6.24s\n",
      "552:\tlearn: 2.4176914\ttotal: 7.7s\tremaining: 6.22s\n",
      "553:\tlearn: 2.4175995\ttotal: 7.71s\tremaining: 6.21s\n",
      "554:\tlearn: 2.4175583\ttotal: 7.72s\tremaining: 6.19s\n",
      "555:\tlearn: 2.4175162\ttotal: 7.74s\tremaining: 6.18s\n",
      "556:\tlearn: 2.4174124\ttotal: 7.75s\tremaining: 6.17s\n",
      "557:\tlearn: 2.4172739\ttotal: 7.77s\tremaining: 6.15s\n",
      "558:\tlearn: 2.4171795\ttotal: 7.78s\tremaining: 6.14s\n",
      "559:\tlearn: 2.4170562\ttotal: 7.8s\tremaining: 6.13s\n",
      "560:\tlearn: 2.4169113\ttotal: 7.81s\tremaining: 6.11s\n",
      "561:\tlearn: 2.4167691\ttotal: 7.83s\tremaining: 6.1s\n",
      "562:\tlearn: 2.4166932\ttotal: 7.84s\tremaining: 6.08s\n",
      "563:\tlearn: 2.4166306\ttotal: 7.85s\tremaining: 6.07s\n",
      "564:\tlearn: 2.4165647\ttotal: 7.86s\tremaining: 6.05s\n",
      "565:\tlearn: 2.4164030\ttotal: 7.88s\tremaining: 6.04s\n",
      "566:\tlearn: 2.4162264\ttotal: 7.89s\tremaining: 6.02s\n",
      "567:\tlearn: 2.4160486\ttotal: 7.9s\tremaining: 6.01s\n",
      "568:\tlearn: 2.4159842\ttotal: 7.92s\tremaining: 6s\n",
      "569:\tlearn: 2.4158742\ttotal: 7.93s\tremaining: 5.98s\n",
      "570:\tlearn: 2.4157863\ttotal: 7.94s\tremaining: 5.97s\n",
      "571:\tlearn: 2.4156802\ttotal: 7.96s\tremaining: 5.95s\n",
      "572:\tlearn: 2.4155200\ttotal: 7.97s\tremaining: 5.94s\n",
      "573:\tlearn: 2.4154738\ttotal: 7.98s\tremaining: 5.92s\n",
      "574:\tlearn: 2.4154061\ttotal: 8s\tremaining: 5.91s\n",
      "575:\tlearn: 2.4152385\ttotal: 8.01s\tremaining: 5.9s\n",
      "576:\tlearn: 2.4150720\ttotal: 8.03s\tremaining: 5.88s\n",
      "577:\tlearn: 2.4149109\ttotal: 8.04s\tremaining: 5.87s\n",
      "578:\tlearn: 2.4148210\ttotal: 8.06s\tremaining: 5.86s\n",
      "579:\tlearn: 2.4146779\ttotal: 8.08s\tremaining: 5.85s\n",
      "580:\tlearn: 2.4144620\ttotal: 8.09s\tremaining: 5.83s\n",
      "581:\tlearn: 2.4143570\ttotal: 8.1s\tremaining: 5.82s\n",
      "582:\tlearn: 2.4141718\ttotal: 8.12s\tremaining: 5.8s\n",
      "583:\tlearn: 2.4139844\ttotal: 8.13s\tremaining: 5.79s\n",
      "584:\tlearn: 2.4139049\ttotal: 8.14s\tremaining: 5.78s\n",
      "585:\tlearn: 2.4138475\ttotal: 8.16s\tremaining: 5.76s\n",
      "586:\tlearn: 2.4136468\ttotal: 8.18s\tremaining: 5.75s\n",
      "587:\tlearn: 2.4136035\ttotal: 8.2s\tremaining: 5.74s\n",
      "588:\tlearn: 2.4134647\ttotal: 8.21s\tremaining: 5.73s\n",
      "589:\tlearn: 2.4133216\ttotal: 8.23s\tremaining: 5.72s\n",
      "590:\tlearn: 2.4132588\ttotal: 8.25s\tremaining: 5.71s\n",
      "591:\tlearn: 2.4130692\ttotal: 8.26s\tremaining: 5.69s\n",
      "592:\tlearn: 2.4130233\ttotal: 8.27s\tremaining: 5.68s\n",
      "593:\tlearn: 2.4129657\ttotal: 8.29s\tremaining: 5.66s\n",
      "594:\tlearn: 2.4127988\ttotal: 8.3s\tremaining: 5.65s\n",
      "595:\tlearn: 2.4127020\ttotal: 8.31s\tremaining: 5.64s\n",
      "596:\tlearn: 2.4125112\ttotal: 8.33s\tremaining: 5.62s\n",
      "597:\tlearn: 2.4124469\ttotal: 8.34s\tremaining: 5.61s\n",
      "598:\tlearn: 2.4122591\ttotal: 8.35s\tremaining: 5.59s\n",
      "599:\tlearn: 2.4122162\ttotal: 8.37s\tremaining: 5.58s\n",
      "600:\tlearn: 2.4120950\ttotal: 8.38s\tremaining: 5.56s\n",
      "601:\tlearn: 2.4120123\ttotal: 8.4s\tremaining: 5.55s\n",
      "602:\tlearn: 2.4118244\ttotal: 8.41s\tremaining: 5.54s\n",
      "603:\tlearn: 2.4117694\ttotal: 8.42s\tremaining: 5.52s\n",
      "604:\tlearn: 2.4116800\ttotal: 8.43s\tremaining: 5.51s\n",
      "605:\tlearn: 2.4115263\ttotal: 8.45s\tremaining: 5.49s\n",
      "606:\tlearn: 2.4114318\ttotal: 8.46s\tremaining: 5.48s\n",
      "607:\tlearn: 2.4113749\ttotal: 8.47s\tremaining: 5.46s\n",
      "608:\tlearn: 2.4112896\ttotal: 8.49s\tremaining: 5.45s\n",
      "609:\tlearn: 2.4112488\ttotal: 8.5s\tremaining: 5.44s\n",
      "610:\tlearn: 2.4111887\ttotal: 8.52s\tremaining: 5.42s\n",
      "611:\tlearn: 2.4110368\ttotal: 8.53s\tremaining: 5.41s\n",
      "612:\tlearn: 2.4109037\ttotal: 8.54s\tremaining: 5.39s\n",
      "613:\tlearn: 2.4107901\ttotal: 8.55s\tremaining: 5.38s\n",
      "614:\tlearn: 2.4107368\ttotal: 8.56s\tremaining: 5.36s\n",
      "615:\tlearn: 2.4106533\ttotal: 8.58s\tremaining: 5.35s\n",
      "616:\tlearn: 2.4105301\ttotal: 8.6s\tremaining: 5.33s\n",
      "617:\tlearn: 2.4104535\ttotal: 8.61s\tremaining: 5.32s\n",
      "618:\tlearn: 2.4103679\ttotal: 8.62s\tremaining: 5.31s\n",
      "619:\tlearn: 2.4102991\ttotal: 8.63s\tremaining: 5.29s\n",
      "620:\tlearn: 2.4101287\ttotal: 8.65s\tremaining: 5.28s\n",
      "621:\tlearn: 2.4099461\ttotal: 8.66s\tremaining: 5.26s\n",
      "622:\tlearn: 2.4097982\ttotal: 8.67s\tremaining: 5.25s\n",
      "623:\tlearn: 2.4097249\ttotal: 8.69s\tremaining: 5.23s\n",
      "624:\tlearn: 2.4096260\ttotal: 8.7s\tremaining: 5.22s\n",
      "625:\tlearn: 2.4095568\ttotal: 8.71s\tremaining: 5.21s\n",
      "626:\tlearn: 2.4094955\ttotal: 8.72s\tremaining: 5.19s\n",
      "627:\tlearn: 2.4094099\ttotal: 8.74s\tremaining: 5.18s\n",
      "628:\tlearn: 2.4093197\ttotal: 8.75s\tremaining: 5.16s\n",
      "629:\tlearn: 2.4092051\ttotal: 8.76s\tremaining: 5.15s\n",
      "630:\tlearn: 2.4091476\ttotal: 8.78s\tremaining: 5.13s\n",
      "631:\tlearn: 2.4090140\ttotal: 8.79s\tremaining: 5.12s\n",
      "632:\tlearn: 2.4089751\ttotal: 8.81s\tremaining: 5.11s\n",
      "633:\tlearn: 2.4089284\ttotal: 8.82s\tremaining: 5.09s\n",
      "634:\tlearn: 2.4088641\ttotal: 8.83s\tremaining: 5.08s\n",
      "635:\tlearn: 2.4086652\ttotal: 8.85s\tremaining: 5.06s\n",
      "636:\tlearn: 2.4084859\ttotal: 8.86s\tremaining: 5.05s\n",
      "637:\tlearn: 2.4083572\ttotal: 8.87s\tremaining: 5.03s\n",
      "638:\tlearn: 2.4083101\ttotal: 8.88s\tremaining: 5.02s\n",
      "639:\tlearn: 2.4081429\ttotal: 8.9s\tremaining: 5s\n",
      "640:\tlearn: 2.4080352\ttotal: 8.91s\tremaining: 4.99s\n",
      "641:\tlearn: 2.4078945\ttotal: 8.92s\tremaining: 4.97s\n",
      "642:\tlearn: 2.4078030\ttotal: 8.94s\tremaining: 4.96s\n",
      "643:\tlearn: 2.4077042\ttotal: 8.95s\tremaining: 4.95s\n",
      "644:\tlearn: 2.4076535\ttotal: 8.96s\tremaining: 4.93s\n",
      "645:\tlearn: 2.4075741\ttotal: 8.98s\tremaining: 4.92s\n",
      "646:\tlearn: 2.4074354\ttotal: 8.99s\tremaining: 4.91s\n",
      "647:\tlearn: 2.4072697\ttotal: 9.01s\tremaining: 4.89s\n",
      "648:\tlearn: 2.4071533\ttotal: 9.02s\tremaining: 4.88s\n",
      "649:\tlearn: 2.4070857\ttotal: 9.03s\tremaining: 4.86s\n",
      "650:\tlearn: 2.4069569\ttotal: 9.04s\tremaining: 4.85s\n",
      "651:\tlearn: 2.4068304\ttotal: 9.06s\tremaining: 4.83s\n",
      "652:\tlearn: 2.4066432\ttotal: 9.07s\tremaining: 4.82s\n",
      "653:\tlearn: 2.4065849\ttotal: 9.08s\tremaining: 4.8s\n",
      "654:\tlearn: 2.4065007\ttotal: 9.1s\tremaining: 4.79s\n",
      "655:\tlearn: 2.4064343\ttotal: 9.11s\tremaining: 4.78s\n",
      "656:\tlearn: 2.4062928\ttotal: 9.12s\tremaining: 4.76s\n",
      "657:\tlearn: 2.4059336\ttotal: 9.13s\tremaining: 4.75s\n",
      "658:\tlearn: 2.4058325\ttotal: 9.15s\tremaining: 4.73s\n",
      "659:\tlearn: 2.4057116\ttotal: 9.16s\tremaining: 4.72s\n",
      "660:\tlearn: 2.4056130\ttotal: 9.17s\tremaining: 4.7s\n"
     ]
    },
    {
     "name": "stdout",
     "output_type": "stream",
     "text": [
      "661:\tlearn: 2.4054789\ttotal: 9.19s\tremaining: 4.69s\n",
      "662:\tlearn: 2.4053614\ttotal: 9.2s\tremaining: 4.68s\n",
      "663:\tlearn: 2.4051083\ttotal: 9.21s\tremaining: 4.66s\n",
      "664:\tlearn: 2.4050644\ttotal: 9.23s\tremaining: 4.65s\n",
      "665:\tlearn: 2.4049549\ttotal: 9.24s\tremaining: 4.63s\n",
      "666:\tlearn: 2.4048884\ttotal: 9.25s\tremaining: 4.62s\n",
      "667:\tlearn: 2.4048312\ttotal: 9.27s\tremaining: 4.61s\n",
      "668:\tlearn: 2.4047559\ttotal: 9.28s\tremaining: 4.59s\n",
      "669:\tlearn: 2.4046298\ttotal: 9.29s\tremaining: 4.58s\n",
      "670:\tlearn: 2.4045623\ttotal: 9.31s\tremaining: 4.56s\n",
      "671:\tlearn: 2.4044229\ttotal: 9.32s\tremaining: 4.55s\n",
      "672:\tlearn: 2.4043035\ttotal: 9.33s\tremaining: 4.53s\n",
      "673:\tlearn: 2.4042421\ttotal: 9.35s\tremaining: 4.52s\n",
      "674:\tlearn: 2.4040998\ttotal: 9.36s\tremaining: 4.51s\n",
      "675:\tlearn: 2.4039937\ttotal: 9.37s\tremaining: 4.49s\n",
      "676:\tlearn: 2.4039230\ttotal: 9.39s\tremaining: 4.48s\n",
      "677:\tlearn: 2.4038677\ttotal: 9.4s\tremaining: 4.46s\n",
      "678:\tlearn: 2.4038101\ttotal: 9.42s\tremaining: 4.45s\n",
      "679:\tlearn: 2.4036788\ttotal: 9.43s\tremaining: 4.44s\n",
      "680:\tlearn: 2.4035818\ttotal: 9.44s\tremaining: 4.42s\n",
      "681:\tlearn: 2.4033616\ttotal: 9.45s\tremaining: 4.41s\n",
      "682:\tlearn: 2.4031774\ttotal: 9.47s\tremaining: 4.39s\n",
      "683:\tlearn: 2.4031077\ttotal: 9.48s\tremaining: 4.38s\n",
      "684:\tlearn: 2.4030345\ttotal: 9.49s\tremaining: 4.37s\n",
      "685:\tlearn: 2.4029689\ttotal: 9.51s\tremaining: 4.35s\n",
      "686:\tlearn: 2.4028155\ttotal: 9.52s\tremaining: 4.34s\n",
      "687:\tlearn: 2.4027236\ttotal: 9.53s\tremaining: 4.32s\n",
      "688:\tlearn: 2.4026434\ttotal: 9.54s\tremaining: 4.31s\n",
      "689:\tlearn: 2.4024647\ttotal: 9.55s\tremaining: 4.29s\n",
      "690:\tlearn: 2.4023875\ttotal: 9.57s\tremaining: 4.28s\n",
      "691:\tlearn: 2.4023065\ttotal: 9.59s\tremaining: 4.27s\n",
      "692:\tlearn: 2.4021298\ttotal: 9.6s\tremaining: 4.25s\n",
      "693:\tlearn: 2.4020249\ttotal: 9.61s\tremaining: 4.24s\n",
      "694:\tlearn: 2.4019299\ttotal: 9.62s\tremaining: 4.22s\n",
      "695:\tlearn: 2.4018406\ttotal: 9.63s\tremaining: 4.21s\n",
      "696:\tlearn: 2.4016679\ttotal: 9.65s\tremaining: 4.19s\n",
      "697:\tlearn: 2.4015090\ttotal: 9.66s\tremaining: 4.18s\n",
      "698:\tlearn: 2.4014193\ttotal: 9.67s\tremaining: 4.17s\n",
      "699:\tlearn: 2.4012808\ttotal: 9.69s\tremaining: 4.15s\n",
      "700:\tlearn: 2.4011808\ttotal: 9.7s\tremaining: 4.14s\n",
      "701:\tlearn: 2.4009854\ttotal: 9.71s\tremaining: 4.12s\n",
      "702:\tlearn: 2.4008087\ttotal: 9.72s\tremaining: 4.11s\n",
      "703:\tlearn: 2.4006352\ttotal: 9.73s\tremaining: 4.09s\n",
      "704:\tlearn: 2.4005601\ttotal: 9.75s\tremaining: 4.08s\n",
      "705:\tlearn: 2.4004800\ttotal: 9.76s\tremaining: 4.06s\n",
      "706:\tlearn: 2.4004195\ttotal: 9.77s\tremaining: 4.05s\n",
      "707:\tlearn: 2.4003473\ttotal: 9.79s\tremaining: 4.04s\n",
      "708:\tlearn: 2.4002563\ttotal: 9.8s\tremaining: 4.02s\n",
      "709:\tlearn: 2.4001832\ttotal: 9.82s\tremaining: 4.01s\n",
      "710:\tlearn: 2.4000175\ttotal: 9.83s\tremaining: 4s\n",
      "711:\tlearn: 2.3999514\ttotal: 9.84s\tremaining: 3.98s\n",
      "712:\tlearn: 2.3998807\ttotal: 9.86s\tremaining: 3.97s\n",
      "713:\tlearn: 2.3998107\ttotal: 9.87s\tremaining: 3.95s\n",
      "714:\tlearn: 2.3997347\ttotal: 9.88s\tremaining: 3.94s\n",
      "715:\tlearn: 2.3995769\ttotal: 9.9s\tremaining: 3.92s\n",
      "716:\tlearn: 2.3994940\ttotal: 9.91s\tremaining: 3.91s\n",
      "717:\tlearn: 2.3993394\ttotal: 9.92s\tremaining: 3.9s\n",
      "718:\tlearn: 2.3991816\ttotal: 9.93s\tremaining: 3.88s\n",
      "719:\tlearn: 2.3991085\ttotal: 9.95s\tremaining: 3.87s\n",
      "720:\tlearn: 2.3990333\ttotal: 9.96s\tremaining: 3.85s\n",
      "721:\tlearn: 2.3989352\ttotal: 9.97s\tremaining: 3.84s\n",
      "722:\tlearn: 2.3988567\ttotal: 9.99s\tremaining: 3.83s\n",
      "723:\tlearn: 2.3986773\ttotal: 10s\tremaining: 3.82s\n",
      "724:\tlearn: 2.3985855\ttotal: 10s\tremaining: 3.8s\n",
      "725:\tlearn: 2.3984835\ttotal: 10s\tremaining: 3.79s\n",
      "726:\tlearn: 2.3983125\ttotal: 10s\tremaining: 3.77s\n",
      "727:\tlearn: 2.3982382\ttotal: 10.1s\tremaining: 3.76s\n",
      "728:\tlearn: 2.3980581\ttotal: 10.1s\tremaining: 3.74s\n",
      "729:\tlearn: 2.3979287\ttotal: 10.1s\tremaining: 3.73s\n",
      "730:\tlearn: 2.3978391\ttotal: 10.1s\tremaining: 3.72s\n",
      "731:\tlearn: 2.3976891\ttotal: 10.1s\tremaining: 3.7s\n",
      "732:\tlearn: 2.3975668\ttotal: 10.1s\tremaining: 3.69s\n",
      "733:\tlearn: 2.3975260\ttotal: 10.1s\tremaining: 3.67s\n",
      "734:\tlearn: 2.3974432\ttotal: 10.2s\tremaining: 3.66s\n",
      "735:\tlearn: 2.3973601\ttotal: 10.2s\tremaining: 3.65s\n",
      "736:\tlearn: 2.3972772\ttotal: 10.2s\tremaining: 3.63s\n",
      "737:\tlearn: 2.3972079\ttotal: 10.2s\tremaining: 3.62s\n",
      "738:\tlearn: 2.3971458\ttotal: 10.2s\tremaining: 3.61s\n",
      "739:\tlearn: 2.3970186\ttotal: 10.2s\tremaining: 3.59s\n",
      "740:\tlearn: 2.3969396\ttotal: 10.2s\tremaining: 3.58s\n",
      "741:\tlearn: 2.3968654\ttotal: 10.3s\tremaining: 3.56s\n",
      "742:\tlearn: 2.3964203\ttotal: 10.3s\tremaining: 3.55s\n",
      "743:\tlearn: 2.3963240\ttotal: 10.3s\tremaining: 3.54s\n",
      "744:\tlearn: 2.3961636\ttotal: 10.3s\tremaining: 3.52s\n",
      "745:\tlearn: 2.3961110\ttotal: 10.3s\tremaining: 3.51s\n",
      "746:\tlearn: 2.3960050\ttotal: 10.3s\tremaining: 3.49s\n",
      "747:\tlearn: 2.3959145\ttotal: 10.3s\tremaining: 3.48s\n",
      "748:\tlearn: 2.3958187\ttotal: 10.3s\tremaining: 3.47s\n",
      "749:\tlearn: 2.3957575\ttotal: 10.4s\tremaining: 3.45s\n",
      "750:\tlearn: 2.3956573\ttotal: 10.4s\tremaining: 3.44s\n",
      "751:\tlearn: 2.3954494\ttotal: 10.4s\tremaining: 3.42s\n",
      "752:\tlearn: 2.3953979\ttotal: 10.4s\tremaining: 3.41s\n",
      "753:\tlearn: 2.3952324\ttotal: 10.4s\tremaining: 3.4s\n",
      "754:\tlearn: 2.3950715\ttotal: 10.4s\tremaining: 3.38s\n",
      "755:\tlearn: 2.3950148\ttotal: 10.4s\tremaining: 3.37s\n",
      "756:\tlearn: 2.3949152\ttotal: 10.5s\tremaining: 3.35s\n",
      "757:\tlearn: 2.3947615\ttotal: 10.5s\tremaining: 3.34s\n",
      "758:\tlearn: 2.3946664\ttotal: 10.5s\tremaining: 3.33s\n",
      "759:\tlearn: 2.3944697\ttotal: 10.5s\tremaining: 3.32s\n",
      "760:\tlearn: 2.3943059\ttotal: 10.5s\tremaining: 3.3s\n",
      "761:\tlearn: 2.3941804\ttotal: 10.5s\tremaining: 3.29s\n",
      "762:\tlearn: 2.3940777\ttotal: 10.5s\tremaining: 3.27s\n",
      "763:\tlearn: 2.3940098\ttotal: 10.6s\tremaining: 3.26s\n",
      "764:\tlearn: 2.3939309\ttotal: 10.6s\tremaining: 3.25s\n",
      "765:\tlearn: 2.3937521\ttotal: 10.6s\tremaining: 3.23s\n",
      "766:\tlearn: 2.3936209\ttotal: 10.6s\tremaining: 3.22s\n",
      "767:\tlearn: 2.3935261\ttotal: 10.6s\tremaining: 3.21s\n",
      "768:\tlearn: 2.3934233\ttotal: 10.6s\tremaining: 3.19s\n",
      "769:\tlearn: 2.3933471\ttotal: 10.6s\tremaining: 3.18s\n",
      "770:\tlearn: 2.3932524\ttotal: 10.6s\tremaining: 3.16s\n",
      "771:\tlearn: 2.3931731\ttotal: 10.7s\tremaining: 3.15s\n",
      "772:\tlearn: 2.3930159\ttotal: 10.7s\tremaining: 3.13s\n",
      "773:\tlearn: 2.3928550\ttotal: 10.7s\tremaining: 3.12s\n",
      "774:\tlearn: 2.3927943\ttotal: 10.7s\tremaining: 3.11s\n",
      "775:\tlearn: 2.3926346\ttotal: 10.7s\tremaining: 3.09s\n",
      "776:\tlearn: 2.3925680\ttotal: 10.7s\tremaining: 3.08s\n",
      "777:\tlearn: 2.3925001\ttotal: 10.7s\tremaining: 3.06s\n",
      "778:\tlearn: 2.3923316\ttotal: 10.8s\tremaining: 3.05s\n",
      "779:\tlearn: 2.3922090\ttotal: 10.8s\tremaining: 3.04s\n",
      "780:\tlearn: 2.3921350\ttotal: 10.8s\tremaining: 3.02s\n",
      "781:\tlearn: 2.3920437\ttotal: 10.8s\tremaining: 3.01s\n",
      "782:\tlearn: 2.3918594\ttotal: 10.8s\tremaining: 3s\n",
      "783:\tlearn: 2.3917426\ttotal: 10.8s\tremaining: 2.98s\n",
      "784:\tlearn: 2.3916937\ttotal: 10.8s\tremaining: 2.97s\n",
      "785:\tlearn: 2.3916253\ttotal: 10.8s\tremaining: 2.95s\n",
      "786:\tlearn: 2.3914911\ttotal: 10.9s\tremaining: 2.94s\n",
      "787:\tlearn: 2.3914340\ttotal: 10.9s\tremaining: 2.92s\n",
      "788:\tlearn: 2.3913830\ttotal: 10.9s\tremaining: 2.91s\n",
      "789:\tlearn: 2.3912960\ttotal: 10.9s\tremaining: 2.9s\n",
      "790:\tlearn: 2.3912313\ttotal: 10.9s\tremaining: 2.88s\n",
      "791:\tlearn: 2.3910673\ttotal: 10.9s\tremaining: 2.87s\n",
      "792:\tlearn: 2.3909818\ttotal: 10.9s\tremaining: 2.86s\n",
      "793:\tlearn: 2.3909133\ttotal: 11s\tremaining: 2.84s\n",
      "794:\tlearn: 2.3908429\ttotal: 11s\tremaining: 2.83s\n",
      "795:\tlearn: 2.3906904\ttotal: 11s\tremaining: 2.81s\n",
      "796:\tlearn: 2.3906190\ttotal: 11s\tremaining: 2.8s\n",
      "797:\tlearn: 2.3905532\ttotal: 11s\tremaining: 2.79s\n",
      "798:\tlearn: 2.3904041\ttotal: 11s\tremaining: 2.77s\n",
      "799:\tlearn: 2.3902965\ttotal: 11s\tremaining: 2.76s\n",
      "800:\tlearn: 2.3902385\ttotal: 11.1s\tremaining: 2.75s\n",
      "801:\tlearn: 2.3901738\ttotal: 11.1s\tremaining: 2.73s\n",
      "802:\tlearn: 2.3900857\ttotal: 11.1s\tremaining: 2.72s\n",
      "803:\tlearn: 2.3899443\ttotal: 11.1s\tremaining: 2.7s\n",
      "804:\tlearn: 2.3899042\ttotal: 11.1s\tremaining: 2.69s\n",
      "805:\tlearn: 2.3896960\ttotal: 11.1s\tremaining: 2.67s\n",
      "806:\tlearn: 2.3896246\ttotal: 11.1s\tremaining: 2.66s\n",
      "807:\tlearn: 2.3895364\ttotal: 11.1s\tremaining: 2.65s\n",
      "808:\tlearn: 2.3894360\ttotal: 11.2s\tremaining: 2.63s\n",
      "809:\tlearn: 2.3893722\ttotal: 11.2s\tremaining: 2.62s\n",
      "810:\tlearn: 2.3891803\ttotal: 11.2s\tremaining: 2.61s\n",
      "811:\tlearn: 2.3890930\ttotal: 11.2s\tremaining: 2.59s\n",
      "812:\tlearn: 2.3890438\ttotal: 11.2s\tremaining: 2.58s\n",
      "813:\tlearn: 2.3889723\ttotal: 11.2s\tremaining: 2.57s\n",
      "814:\tlearn: 2.3887868\ttotal: 11.2s\tremaining: 2.55s\n",
      "815:\tlearn: 2.3886677\ttotal: 11.3s\tremaining: 2.54s\n",
      "816:\tlearn: 2.3885940\ttotal: 11.3s\tremaining: 2.53s\n",
      "817:\tlearn: 2.3885417\ttotal: 11.3s\tremaining: 2.51s\n",
      "818:\tlearn: 2.3884793\ttotal: 11.3s\tremaining: 2.5s\n",
      "819:\tlearn: 2.3884249\ttotal: 11.3s\tremaining: 2.48s\n",
      "820:\tlearn: 2.3883360\ttotal: 11.3s\tremaining: 2.47s\n",
      "821:\tlearn: 2.3882128\ttotal: 11.3s\tremaining: 2.46s\n",
      "822:\tlearn: 2.3881524\ttotal: 11.4s\tremaining: 2.44s\n",
      "823:\tlearn: 2.3880229\ttotal: 11.4s\tremaining: 2.43s\n"
     ]
    },
    {
     "name": "stdout",
     "output_type": "stream",
     "text": [
      "824:\tlearn: 2.3879647\ttotal: 11.4s\tremaining: 2.42s\n",
      "825:\tlearn: 2.3878662\ttotal: 11.4s\tremaining: 2.4s\n",
      "826:\tlearn: 2.3878082\ttotal: 11.4s\tremaining: 2.39s\n",
      "827:\tlearn: 2.3877224\ttotal: 11.4s\tremaining: 2.37s\n",
      "828:\tlearn: 2.3876740\ttotal: 11.4s\tremaining: 2.36s\n",
      "829:\tlearn: 2.3876126\ttotal: 11.5s\tremaining: 2.35s\n",
      "830:\tlearn: 2.3875417\ttotal: 11.5s\tremaining: 2.33s\n",
      "831:\tlearn: 2.3874749\ttotal: 11.5s\tremaining: 2.32s\n",
      "832:\tlearn: 2.3874097\ttotal: 11.5s\tremaining: 2.31s\n",
      "833:\tlearn: 2.3873439\ttotal: 11.5s\tremaining: 2.29s\n",
      "834:\tlearn: 2.3872557\ttotal: 11.5s\tremaining: 2.28s\n",
      "835:\tlearn: 2.3871817\ttotal: 11.5s\tremaining: 2.26s\n",
      "836:\tlearn: 2.3870596\ttotal: 11.6s\tremaining: 2.25s\n",
      "837:\tlearn: 2.3869813\ttotal: 11.6s\tremaining: 2.23s\n",
      "838:\tlearn: 2.3869039\ttotal: 11.6s\tremaining: 2.22s\n",
      "839:\tlearn: 2.3868470\ttotal: 11.6s\tremaining: 2.21s\n",
      "840:\tlearn: 2.3867750\ttotal: 11.6s\tremaining: 2.19s\n",
      "841:\tlearn: 2.3866234\ttotal: 11.6s\tremaining: 2.18s\n",
      "842:\tlearn: 2.3864764\ttotal: 11.6s\tremaining: 2.17s\n",
      "843:\tlearn: 2.3862922\ttotal: 11.7s\tremaining: 2.15s\n",
      "844:\tlearn: 2.3862329\ttotal: 11.7s\tremaining: 2.14s\n",
      "845:\tlearn: 2.3860631\ttotal: 11.7s\tremaining: 2.13s\n",
      "846:\tlearn: 2.3859535\ttotal: 11.7s\tremaining: 2.11s\n",
      "847:\tlearn: 2.3858839\ttotal: 11.7s\tremaining: 2.1s\n",
      "848:\tlearn: 2.3857489\ttotal: 11.7s\tremaining: 2.08s\n",
      "849:\tlearn: 2.3857124\ttotal: 11.7s\tremaining: 2.07s\n",
      "850:\tlearn: 2.3856546\ttotal: 11.7s\tremaining: 2.06s\n",
      "851:\tlearn: 2.3855892\ttotal: 11.8s\tremaining: 2.04s\n",
      "852:\tlearn: 2.3855365\ttotal: 11.8s\tremaining: 2.03s\n",
      "853:\tlearn: 2.3853815\ttotal: 11.8s\tremaining: 2.02s\n",
      "854:\tlearn: 2.3852478\ttotal: 11.8s\tremaining: 2s\n",
      "855:\tlearn: 2.3851397\ttotal: 11.8s\tremaining: 1.99s\n",
      "856:\tlearn: 2.3850535\ttotal: 11.8s\tremaining: 1.97s\n",
      "857:\tlearn: 2.3848804\ttotal: 11.8s\tremaining: 1.96s\n",
      "858:\tlearn: 2.3848220\ttotal: 11.9s\tremaining: 1.95s\n",
      "859:\tlearn: 2.3847484\ttotal: 11.9s\tremaining: 1.93s\n",
      "860:\tlearn: 2.3846369\ttotal: 11.9s\tremaining: 1.92s\n",
      "861:\tlearn: 2.3845700\ttotal: 11.9s\tremaining: 1.9s\n",
      "862:\tlearn: 2.3844134\ttotal: 11.9s\tremaining: 1.89s\n",
      "863:\tlearn: 2.3843655\ttotal: 11.9s\tremaining: 1.88s\n",
      "864:\tlearn: 2.3842666\ttotal: 11.9s\tremaining: 1.86s\n",
      "865:\tlearn: 2.3842088\ttotal: 11.9s\tremaining: 1.85s\n",
      "866:\tlearn: 2.3840579\ttotal: 12s\tremaining: 1.83s\n",
      "867:\tlearn: 2.3840026\ttotal: 12s\tremaining: 1.82s\n",
      "868:\tlearn: 2.3839467\ttotal: 12s\tremaining: 1.81s\n",
      "869:\tlearn: 2.3838807\ttotal: 12s\tremaining: 1.79s\n",
      "870:\tlearn: 2.3838311\ttotal: 12s\tremaining: 1.78s\n",
      "871:\tlearn: 2.3837324\ttotal: 12s\tremaining: 1.76s\n",
      "872:\tlearn: 2.3836227\ttotal: 12s\tremaining: 1.75s\n",
      "873:\tlearn: 2.3834848\ttotal: 12.1s\tremaining: 1.74s\n",
      "874:\tlearn: 2.3833197\ttotal: 12.1s\tremaining: 1.72s\n",
      "875:\tlearn: 2.3831911\ttotal: 12.1s\tremaining: 1.71s\n",
      "876:\tlearn: 2.3830858\ttotal: 12.1s\tremaining: 1.7s\n",
      "877:\tlearn: 2.3830003\ttotal: 12.1s\tremaining: 1.68s\n",
      "878:\tlearn: 2.3828993\ttotal: 12.1s\tremaining: 1.67s\n",
      "879:\tlearn: 2.3827921\ttotal: 12.1s\tremaining: 1.65s\n",
      "880:\tlearn: 2.3827132\ttotal: 12.1s\tremaining: 1.64s\n",
      "881:\tlearn: 2.3826459\ttotal: 12.2s\tremaining: 1.63s\n",
      "882:\tlearn: 2.3824761\ttotal: 12.2s\tremaining: 1.61s\n",
      "883:\tlearn: 2.3824330\ttotal: 12.2s\tremaining: 1.6s\n",
      "884:\tlearn: 2.3823132\ttotal: 12.2s\tremaining: 1.58s\n",
      "885:\tlearn: 2.3821688\ttotal: 12.2s\tremaining: 1.57s\n",
      "886:\tlearn: 2.3821076\ttotal: 12.2s\tremaining: 1.56s\n",
      "887:\tlearn: 2.3820233\ttotal: 12.2s\tremaining: 1.54s\n",
      "888:\tlearn: 2.3819398\ttotal: 12.2s\tremaining: 1.53s\n",
      "889:\tlearn: 2.3818376\ttotal: 12.3s\tremaining: 1.51s\n",
      "890:\tlearn: 2.3817750\ttotal: 12.3s\tremaining: 1.5s\n",
      "891:\tlearn: 2.3816826\ttotal: 12.3s\tremaining: 1.49s\n",
      "892:\tlearn: 2.3815411\ttotal: 12.3s\tremaining: 1.47s\n",
      "893:\tlearn: 2.3815008\ttotal: 12.3s\tremaining: 1.46s\n",
      "894:\tlearn: 2.3814208\ttotal: 12.3s\tremaining: 1.45s\n",
      "895:\tlearn: 2.3812884\ttotal: 12.3s\tremaining: 1.43s\n",
      "896:\tlearn: 2.3812443\ttotal: 12.4s\tremaining: 1.42s\n",
      "897:\tlearn: 2.3811721\ttotal: 12.4s\tremaining: 1.4s\n",
      "898:\tlearn: 2.3810106\ttotal: 12.4s\tremaining: 1.39s\n",
      "899:\tlearn: 2.3809278\ttotal: 12.4s\tremaining: 1.38s\n",
      "900:\tlearn: 2.3808709\ttotal: 12.4s\tremaining: 1.36s\n",
      "901:\tlearn: 2.3807917\ttotal: 12.4s\tremaining: 1.35s\n",
      "902:\tlearn: 2.3807237\ttotal: 12.4s\tremaining: 1.33s\n",
      "903:\tlearn: 2.3806644\ttotal: 12.4s\tremaining: 1.32s\n",
      "904:\tlearn: 2.3805651\ttotal: 12.5s\tremaining: 1.31s\n",
      "905:\tlearn: 2.3804423\ttotal: 12.5s\tremaining: 1.29s\n",
      "906:\tlearn: 2.3803834\ttotal: 12.5s\tremaining: 1.28s\n",
      "907:\tlearn: 2.3802928\ttotal: 12.5s\tremaining: 1.27s\n",
      "908:\tlearn: 2.3801882\ttotal: 12.5s\tremaining: 1.25s\n",
      "909:\tlearn: 2.3800194\ttotal: 12.5s\tremaining: 1.24s\n",
      "910:\tlearn: 2.3798914\ttotal: 12.5s\tremaining: 1.22s\n",
      "911:\tlearn: 2.3798444\ttotal: 12.6s\tremaining: 1.21s\n",
      "912:\tlearn: 2.3797829\ttotal: 12.6s\tremaining: 1.2s\n",
      "913:\tlearn: 2.3796447\ttotal: 12.6s\tremaining: 1.18s\n",
      "914:\tlearn: 2.3795625\ttotal: 12.6s\tremaining: 1.17s\n",
      "915:\tlearn: 2.3795058\ttotal: 12.6s\tremaining: 1.16s\n",
      "916:\tlearn: 2.3793492\ttotal: 12.6s\tremaining: 1.14s\n",
      "917:\tlearn: 2.3792457\ttotal: 12.6s\tremaining: 1.13s\n",
      "918:\tlearn: 2.3791575\ttotal: 12.6s\tremaining: 1.11s\n",
      "919:\tlearn: 2.3790424\ttotal: 12.7s\tremaining: 1.1s\n",
      "920:\tlearn: 2.3788961\ttotal: 12.7s\tremaining: 1.09s\n",
      "921:\tlearn: 2.3787991\ttotal: 12.7s\tremaining: 1.07s\n",
      "922:\tlearn: 2.3787292\ttotal: 12.7s\tremaining: 1.06s\n",
      "923:\tlearn: 2.3786708\ttotal: 12.7s\tremaining: 1.04s\n",
      "924:\tlearn: 2.3785058\ttotal: 12.7s\tremaining: 1.03s\n",
      "925:\tlearn: 2.3784363\ttotal: 12.7s\tremaining: 1.02s\n",
      "926:\tlearn: 2.3783475\ttotal: 12.8s\tremaining: 1s\n",
      "927:\tlearn: 2.3781999\ttotal: 12.8s\tremaining: 990ms\n",
      "928:\tlearn: 2.3781334\ttotal: 12.8s\tremaining: 977ms\n",
      "929:\tlearn: 2.3779782\ttotal: 12.8s\tremaining: 963ms\n",
      "930:\tlearn: 2.3779070\ttotal: 12.8s\tremaining: 949ms\n",
      "931:\tlearn: 2.3778466\ttotal: 12.8s\tremaining: 935ms\n",
      "932:\tlearn: 2.3777725\ttotal: 12.8s\tremaining: 921ms\n",
      "933:\tlearn: 2.3776354\ttotal: 12.8s\tremaining: 908ms\n",
      "934:\tlearn: 2.3775262\ttotal: 12.9s\tremaining: 894ms\n",
      "935:\tlearn: 2.3773884\ttotal: 12.9s\tremaining: 880ms\n",
      "936:\tlearn: 2.3772426\ttotal: 12.9s\tremaining: 866ms\n",
      "937:\tlearn: 2.3770340\ttotal: 12.9s\tremaining: 852ms\n",
      "938:\tlearn: 2.3769841\ttotal: 12.9s\tremaining: 839ms\n",
      "939:\tlearn: 2.3769287\ttotal: 12.9s\tremaining: 825ms\n",
      "940:\tlearn: 2.3768435\ttotal: 12.9s\tremaining: 811ms\n",
      "941:\tlearn: 2.3767250\ttotal: 12.9s\tremaining: 797ms\n",
      "942:\tlearn: 2.3766205\ttotal: 13s\tremaining: 783ms\n",
      "943:\tlearn: 2.3765373\ttotal: 13s\tremaining: 770ms\n",
      "944:\tlearn: 2.3764231\ttotal: 13s\tremaining: 756ms\n",
      "945:\tlearn: 2.3763448\ttotal: 13s\tremaining: 742ms\n",
      "946:\tlearn: 2.3761722\ttotal: 13s\tremaining: 728ms\n",
      "947:\tlearn: 2.3761046\ttotal: 13s\tremaining: 715ms\n",
      "948:\tlearn: 2.3760609\ttotal: 13s\tremaining: 701ms\n",
      "949:\tlearn: 2.3759566\ttotal: 13.1s\tremaining: 687ms\n",
      "950:\tlearn: 2.3759081\ttotal: 13.1s\tremaining: 673ms\n",
      "951:\tlearn: 2.3758143\ttotal: 13.1s\tremaining: 659ms\n",
      "952:\tlearn: 2.3757541\ttotal: 13.1s\tremaining: 646ms\n",
      "953:\tlearn: 2.3756635\ttotal: 13.1s\tremaining: 632ms\n",
      "954:\tlearn: 2.3755732\ttotal: 13.1s\tremaining: 618ms\n",
      "955:\tlearn: 2.3755045\ttotal: 13.1s\tremaining: 604ms\n",
      "956:\tlearn: 2.3754471\ttotal: 13.1s\tremaining: 591ms\n",
      "957:\tlearn: 2.3753173\ttotal: 13.2s\tremaining: 577ms\n",
      "958:\tlearn: 2.3751955\ttotal: 13.2s\tremaining: 563ms\n",
      "959:\tlearn: 2.3750948\ttotal: 13.2s\tremaining: 549ms\n",
      "960:\tlearn: 2.3749384\ttotal: 13.2s\tremaining: 536ms\n",
      "961:\tlearn: 2.3748609\ttotal: 13.2s\tremaining: 522ms\n",
      "962:\tlearn: 2.3747161\ttotal: 13.2s\tremaining: 508ms\n",
      "963:\tlearn: 2.3745881\ttotal: 13.3s\tremaining: 495ms\n",
      "964:\tlearn: 2.3745320\ttotal: 13.3s\tremaining: 481ms\n",
      "965:\tlearn: 2.3744311\ttotal: 13.3s\tremaining: 467ms\n",
      "966:\tlearn: 2.3743657\ttotal: 13.3s\tremaining: 454ms\n",
      "967:\tlearn: 2.3742497\ttotal: 13.3s\tremaining: 440ms\n",
      "968:\tlearn: 2.3741729\ttotal: 13.3s\tremaining: 426ms\n",
      "969:\tlearn: 2.3739889\ttotal: 13.3s\tremaining: 412ms\n",
      "970:\tlearn: 2.3739422\ttotal: 13.3s\tremaining: 399ms\n",
      "971:\tlearn: 2.3738953\ttotal: 13.4s\tremaining: 385ms\n",
      "972:\tlearn: 2.3738240\ttotal: 13.4s\tremaining: 371ms\n",
      "973:\tlearn: 2.3737444\ttotal: 13.4s\tremaining: 357ms\n",
      "974:\tlearn: 2.3735604\ttotal: 13.4s\tremaining: 344ms\n",
      "975:\tlearn: 2.3734216\ttotal: 13.4s\tremaining: 330ms\n",
      "976:\tlearn: 2.3733187\ttotal: 13.4s\tremaining: 316ms\n",
      "977:\tlearn: 2.3732487\ttotal: 13.4s\tremaining: 302ms\n",
      "978:\tlearn: 2.3731437\ttotal: 13.4s\tremaining: 288ms\n",
      "979:\tlearn: 2.3730945\ttotal: 13.5s\tremaining: 275ms\n",
      "980:\tlearn: 2.3730404\ttotal: 13.5s\tremaining: 261ms\n",
      "981:\tlearn: 2.3729813\ttotal: 13.5s\tremaining: 247ms\n",
      "982:\tlearn: 2.3729323\ttotal: 13.5s\tremaining: 234ms\n",
      "983:\tlearn: 2.3728748\ttotal: 13.5s\tremaining: 220ms\n",
      "984:\tlearn: 2.3727308\ttotal: 13.5s\tremaining: 206ms\n",
      "985:\tlearn: 2.3726437\ttotal: 13.5s\tremaining: 192ms\n",
      "986:\tlearn: 2.3725674\ttotal: 13.6s\tremaining: 179ms\n",
      "987:\tlearn: 2.3725022\ttotal: 13.6s\tremaining: 165ms\n"
     ]
    },
    {
     "name": "stdout",
     "output_type": "stream",
     "text": [
      "988:\tlearn: 2.3724318\ttotal: 13.6s\tremaining: 151ms\n",
      "989:\tlearn: 2.3723887\ttotal: 13.6s\tremaining: 137ms\n",
      "990:\tlearn: 2.3722748\ttotal: 13.6s\tremaining: 124ms\n",
      "991:\tlearn: 2.3722057\ttotal: 13.6s\tremaining: 110ms\n",
      "992:\tlearn: 2.3720479\ttotal: 13.6s\tremaining: 96.1ms\n",
      "993:\tlearn: 2.3719330\ttotal: 13.7s\tremaining: 82.4ms\n",
      "994:\tlearn: 2.3718097\ttotal: 13.7s\tremaining: 68.7ms\n",
      "995:\tlearn: 2.3717385\ttotal: 13.7s\tremaining: 54.9ms\n",
      "996:\tlearn: 2.3716744\ttotal: 13.7s\tremaining: 41.2ms\n",
      "997:\tlearn: 2.3715577\ttotal: 13.7s\tremaining: 27.5ms\n",
      "998:\tlearn: 2.3714935\ttotal: 13.7s\tremaining: 13.7ms\n",
      "999:\tlearn: 2.3714166\ttotal: 13.7s\tremaining: 0us\n"
     ]
    },
    {
     "data": {
      "text/plain": [
       "<catboost.core.CatBoostRegressor at 0x1d293b56cd0>"
      ]
     },
     "execution_count": 55,
     "metadata": {},
     "output_type": "execute_result"
    }
   ],
   "source": [
    "cbr.fit(X_train,y_train)"
   ]
  },
  {
   "cell_type": "code",
   "execution_count": 56,
   "id": "2f510ca9",
   "metadata": {},
   "outputs": [],
   "source": [
    "y_pred8 = cbr.predict(X_test)"
   ]
  },
  {
   "cell_type": "code",
   "execution_count": 57,
   "id": "ef33851e",
   "metadata": {},
   "outputs": [],
   "source": [
    "cbrR2 = r2_score(y_test,y_pred8)"
   ]
  },
  {
   "cell_type": "markdown",
   "id": "fe9d26aa",
   "metadata": {},
   "source": [
    "## Decision tree regressor"
   ]
  },
  {
   "cell_type": "code",
   "execution_count": 58,
   "id": "9e99bc66",
   "metadata": {},
   "outputs": [],
   "source": [
    " from sklearn.tree import DecisionTreeRegressor"
   ]
  },
  {
   "cell_type": "code",
   "execution_count": 59,
   "id": "f1ff28e7",
   "metadata": {},
   "outputs": [],
   "source": [
    "dtr = DecisionTreeRegressor(max_depth =11)"
   ]
  },
  {
   "cell_type": "code",
   "execution_count": 60,
   "id": "58abeb48",
   "metadata": {},
   "outputs": [
    {
     "data": {
      "text/plain": [
       "DecisionTreeRegressor(max_depth=11)"
      ]
     },
     "execution_count": 60,
     "metadata": {},
     "output_type": "execute_result"
    }
   ],
   "source": [
    "dtr.fit(X_train,y_train)"
   ]
  },
  {
   "cell_type": "code",
   "execution_count": 61,
   "id": "d24338d4",
   "metadata": {},
   "outputs": [],
   "source": [
    "y_pred9 = dtr.predict(X_test)"
   ]
  },
  {
   "cell_type": "code",
   "execution_count": 62,
   "id": "f79d3bef",
   "metadata": {},
   "outputs": [],
   "source": [
    "dtrR2 =r2_score(y_test,y_pred9)"
   ]
  },
  {
   "cell_type": "markdown",
   "id": "0b3daf21",
   "metadata": {},
   "source": [
    "## Random Forest Regressor"
   ]
  },
  {
   "cell_type": "code",
   "execution_count": 63,
   "id": "348efa14",
   "metadata": {},
   "outputs": [],
   "source": [
    "from sklearn.ensemble import RandomForestRegressor"
   ]
  },
  {
   "cell_type": "code",
   "execution_count": 64,
   "id": "8396dd7d",
   "metadata": {},
   "outputs": [],
   "source": [
    "rft = RandomForestRegressor(max_depth=15)"
   ]
  },
  {
   "cell_type": "code",
   "execution_count": 65,
   "id": "6b64088d",
   "metadata": {},
   "outputs": [
    {
     "name": "stderr",
     "output_type": "stream",
     "text": [
      "C:\\Users\\ADMIN\\AppData\\Local\\Temp\\ipykernel_4068\\2008440294.py:1: DataConversionWarning: A column-vector y was passed when a 1d array was expected. Please change the shape of y to (n_samples,), for example using ravel().\n",
      "  rft.fit(X_train,y_train)\n"
     ]
    },
    {
     "data": {
      "text/plain": [
       "RandomForestRegressor(max_depth=15)"
      ]
     },
     "execution_count": 65,
     "metadata": {},
     "output_type": "execute_result"
    }
   ],
   "source": [
    "rft.fit(X_train,y_train)"
   ]
  },
  {
   "cell_type": "code",
   "execution_count": 66,
   "id": "5db299fa",
   "metadata": {},
   "outputs": [],
   "source": [
    "y_pred = rft.predict(X_test)"
   ]
  },
  {
   "cell_type": "code",
   "execution_count": 67,
   "id": "acec5caa",
   "metadata": {},
   "outputs": [],
   "source": [
    "rfR2=r2_score(y_test,y_pred)"
   ]
  },
  {
   "cell_type": "markdown",
   "id": "07842402",
   "metadata": {},
   "source": [
    "## Results before Hypertuning "
   ]
  },
  {
   "cell_type": "code",
   "execution_count": 68,
   "id": "2fb91b97",
   "metadata": {},
   "outputs": [],
   "source": [
    "model_list =[' Linear Regression','ElasticNet Regression','SGDRegression','Bayesian Ridge Regression','XGBoost Regressor',' LGBM Regressor','CatBoost Regression','Decision tree regressor','Random Forest']"
   ]
  },
  {
   "cell_type": "code",
   "execution_count": 69,
   "id": "efdb202a",
   "metadata": {},
   "outputs": [],
   "source": [
    "model_score = [lorR2,gbR2,elR2,sgdR2,brR2,xgbR2,lgbmR2,cbrR2,dtrR2,rfR2]"
   ]
  },
  {
   "cell_type": "code",
   "execution_count": 81,
   "id": "2e676c8e",
   "metadata": {},
   "outputs": [],
   "source": [
    "df = pd.DataFrame(list(zip(model_list, model_score)),\n",
    "               columns =['Model', 'R2-Score'])"
   ]
  },
  {
   "cell_type": "code",
   "execution_count": 82,
   "id": "106e9db5",
   "metadata": {},
   "outputs": [],
   "source": [
    "df=np.round(df,2)"
   ]
  },
  {
   "cell_type": "code",
   "execution_count": 83,
   "id": "895d093b",
   "metadata": {},
   "outputs": [
    {
     "data": {
      "text/html": [
       "<div>\n",
       "<style scoped>\n",
       "    .dataframe tbody tr th:only-of-type {\n",
       "        vertical-align: middle;\n",
       "    }\n",
       "\n",
       "    .dataframe tbody tr th {\n",
       "        vertical-align: top;\n",
       "    }\n",
       "\n",
       "    .dataframe thead th {\n",
       "        text-align: right;\n",
       "    }\n",
       "</style>\n",
       "<table border=\"1\" class=\"dataframe\">\n",
       "  <thead>\n",
       "    <tr style=\"text-align: right;\">\n",
       "      <th></th>\n",
       "      <th>Model</th>\n",
       "      <th>R2-Score</th>\n",
       "    </tr>\n",
       "  </thead>\n",
       "  <tbody>\n",
       "    <tr>\n",
       "      <th>0</th>\n",
       "      <td>Linear Regression</td>\n",
       "      <td>7.300000e-01</td>\n",
       "    </tr>\n",
       "    <tr>\n",
       "      <th>1</th>\n",
       "      <td>ElasticNet Regression</td>\n",
       "      <td>7.900000e-01</td>\n",
       "    </tr>\n",
       "    <tr>\n",
       "      <th>2</th>\n",
       "      <td>SGDRegression</td>\n",
       "      <td>7.100000e-01</td>\n",
       "    </tr>\n",
       "    <tr>\n",
       "      <th>3</th>\n",
       "      <td>Bayesian Ridge Regression</td>\n",
       "      <td>-4.428990e+27</td>\n",
       "    </tr>\n",
       "    <tr>\n",
       "      <th>4</th>\n",
       "      <td>XGBoost Regressor</td>\n",
       "      <td>7.300000e-01</td>\n",
       "    </tr>\n",
       "    <tr>\n",
       "      <th>5</th>\n",
       "      <td>LGBM Regressor</td>\n",
       "      <td>7.900000e-01</td>\n",
       "    </tr>\n",
       "    <tr>\n",
       "      <th>6</th>\n",
       "      <td>CatBoost Regression</td>\n",
       "      <td>7.900000e-01</td>\n",
       "    </tr>\n",
       "    <tr>\n",
       "      <th>7</th>\n",
       "      <td>Decision tree regressor</td>\n",
       "      <td>7.900000e-01</td>\n",
       "    </tr>\n",
       "    <tr>\n",
       "      <th>8</th>\n",
       "      <td>Random Forest</td>\n",
       "      <td>7.700000e-01</td>\n",
       "    </tr>\n",
       "  </tbody>\n",
       "</table>\n",
       "</div>"
      ],
      "text/plain": [
       "                       Model      R2-Score\n",
       "0          Linear Regression  7.300000e-01\n",
       "1      ElasticNet Regression  7.900000e-01\n",
       "2              SGDRegression  7.100000e-01\n",
       "3  Bayesian Ridge Regression -4.428990e+27\n",
       "4          XGBoost Regressor  7.300000e-01\n",
       "5             LGBM Regressor  7.900000e-01\n",
       "6        CatBoost Regression  7.900000e-01\n",
       "7    Decision tree regressor  7.900000e-01\n",
       "8              Random Forest  7.700000e-01"
      ]
     },
     "execution_count": 83,
     "metadata": {},
     "output_type": "execute_result"
    }
   ],
   "source": [
    "df"
   ]
  },
  {
   "cell_type": "markdown",
   "id": "ee624225",
   "metadata": {},
   "source": [
    "## Hyperparameter Tuning"
   ]
  },
  {
   "cell_type": "markdown",
   "id": "b091cf26",
   "metadata": {},
   "source": [
    "### Random Forest Regressor"
   ]
  },
  {
   "cell_type": "code",
   "execution_count": 72,
   "id": "eb1c0426",
   "metadata": {},
   "outputs": [],
   "source": [
    "# Number of trees in random forest\n",
    "n_estimators = [20,60,100,120]\n",
    "\n",
    "# Number of features to consider at every split\n",
    "max_features = [0.2,0.6,1.0]\n",
    "\n",
    "# Maximum number of levels in tree\n",
    "max_depth = [2,8,None]\n",
    "\n",
    "# Number of samples\n",
    "max_samples = [0.5,0.75,1.0]\n",
    "\n",
    "# Bootstrap samples\n",
    "bootstrap = [True,False]\n",
    "\n",
    "# Minimum number of samples required to split a node\n",
    "min_samples_split = [2, 5]\n",
    "\n",
    "# Minimum number of samples required at each leaf node\n",
    "min_samples_leaf = [1, 2]"
   ]
  },
  {
   "cell_type": "code",
   "execution_count": 73,
   "id": "0f981746",
   "metadata": {},
   "outputs": [
    {
     "name": "stdout",
     "output_type": "stream",
     "text": [
      "{'n_estimators': [20, 60, 100, 120], 'max_features': [0.2, 0.6, 1.0], 'max_depth': [2, 8, None], 'max_samples': [0.5, 0.75, 1.0], 'bootstrap': [True, False], 'min_samples_split': [2, 5], 'min_samples_leaf': [1, 2]}\n"
     ]
    }
   ],
   "source": [
    "param_grid = {'n_estimators': n_estimators,\n",
    "               'max_features': max_features,\n",
    "               'max_depth': max_depth,\n",
    "              'max_samples':max_samples,\n",
    "              'bootstrap':bootstrap,\n",
    "              'min_samples_split':min_samples_split,\n",
    "              'min_samples_leaf':min_samples_leaf\n",
    "             }\n",
    "print(param_grid)"
   ]
  },
  {
   "cell_type": "code",
   "execution_count": 74,
   "id": "20db6a92",
   "metadata": {},
   "outputs": [],
   "source": [
    "rf1 = RandomForestRegressor()"
   ]
  },
  {
   "cell_type": "code",
   "execution_count": 75,
   "id": "eb9817b7",
   "metadata": {},
   "outputs": [],
   "source": [
    "from sklearn.model_selection import RandomizedSearchCV\n",
    "\n",
    "rf_grid = RandomizedSearchCV(estimator = rf1, \n",
    "                       param_distributions= param_grid, \n",
    "                       cv = 5, \n",
    "                       verbose=2, \n",
    "                       n_jobs = -1)"
   ]
  },
  {
   "cell_type": "code",
   "execution_count": 76,
   "id": "0969eb6c",
   "metadata": {},
   "outputs": [
    {
     "name": "stdout",
     "output_type": "stream",
     "text": [
      "Fitting 5 folds for each of 10 candidates, totalling 50 fits\n"
     ]
    },
    {
     "name": "stderr",
     "output_type": "stream",
     "text": [
      "C:\\Users\\ADMIN\\New folder\\lib\\site-packages\\sklearn\\model_selection\\_validation.py:372: FitFailedWarning: \n",
      "25 fits failed out of a total of 50.\n",
      "The score on these train-test partitions for these parameters will be set to nan.\n",
      "If these failures are not expected, you can try to debug them by setting error_score='raise'.\n",
      "\n",
      "Below are more details about the failures:\n",
      "--------------------------------------------------------------------------------\n",
      "25 fits failed with the following error:\n",
      "Traceback (most recent call last):\n",
      "  File \"C:\\Users\\ADMIN\\New folder\\lib\\site-packages\\sklearn\\model_selection\\_validation.py\", line 680, in _fit_and_score\n",
      "    estimator.fit(X_train, y_train, **fit_params)\n",
      "  File \"C:\\Users\\ADMIN\\New folder\\lib\\site-packages\\sklearn\\ensemble\\_forest.py\", line 379, in fit\n",
      "    raise ValueError(\n",
      "ValueError: `max_sample` cannot be set if `bootstrap=False`. Either switch to `bootstrap=True` or set `max_sample=None`.\n",
      "\n",
      "  warnings.warn(some_fits_failed_message, FitFailedWarning)\n",
      "C:\\Users\\ADMIN\\New folder\\lib\\site-packages\\sklearn\\model_selection\\_search.py:969: UserWarning: One or more of the test scores are non-finite: [0.7570289         nan        nan 0.7032754  0.7829414         nan\n",
      " 0.70314846 0.78119564        nan        nan]\n",
      "  warnings.warn(\n",
      "C:\\Users\\ADMIN\\New folder\\lib\\site-packages\\sklearn\\model_selection\\_search.py:926: DataConversionWarning: A column-vector y was passed when a 1d array was expected. Please change the shape of y to (n_samples,), for example using ravel().\n",
      "  self.best_estimator_.fit(X, y, **fit_params)\n"
     ]
    },
    {
     "data": {
      "text/plain": [
       "RandomizedSearchCV(cv=5, estimator=RandomForestRegressor(), n_jobs=-1,\n",
       "                   param_distributions={'bootstrap': [True, False],\n",
       "                                        'max_depth': [2, 8, None],\n",
       "                                        'max_features': [0.2, 0.6, 1.0],\n",
       "                                        'max_samples': [0.5, 0.75, 1.0],\n",
       "                                        'min_samples_leaf': [1, 2],\n",
       "                                        'min_samples_split': [2, 5],\n",
       "                                        'n_estimators': [20, 60, 100, 120]},\n",
       "                   verbose=2)"
      ]
     },
     "execution_count": 76,
     "metadata": {},
     "output_type": "execute_result"
    }
   ],
   "source": [
    "rf_grid.fit(X_train,y_train)"
   ]
  },
  {
   "cell_type": "code",
   "execution_count": 77,
   "id": "d6d7cd0b",
   "metadata": {},
   "outputs": [
    {
     "data": {
      "text/plain": [
       "{'n_estimators': 60,\n",
       " 'min_samples_split': 5,\n",
       " 'min_samples_leaf': 2,\n",
       " 'max_samples': 0.5,\n",
       " 'max_features': 1.0,\n",
       " 'max_depth': 8,\n",
       " 'bootstrap': True}"
      ]
     },
     "execution_count": 77,
     "metadata": {},
     "output_type": "execute_result"
    }
   ],
   "source": [
    "rf_grid.best_params_"
   ]
  },
  {
   "cell_type": "code",
   "execution_count": 78,
   "id": "3f156464",
   "metadata": {},
   "outputs": [
    {
     "data": {
      "text/plain": [
       "0.78294139629557"
      ]
     },
     "execution_count": 78,
     "metadata": {},
     "output_type": "execute_result"
    }
   ],
   "source": [
    "rf_grid.best_score_"
   ]
  },
  {
   "cell_type": "code",
   "execution_count": 79,
   "id": "4c79661a",
   "metadata": {},
   "outputs": [],
   "source": [
    "rf1 = RandomForestRegressor(max_depth=8,n_estimators= 100,max_samples=0.5,max_features=1.0)"
   ]
  },
  {
   "cell_type": "code",
   "execution_count": 80,
   "id": "4b21da44",
   "metadata": {},
   "outputs": [
    {
     "name": "stderr",
     "output_type": "stream",
     "text": [
      "C:\\Users\\ADMIN\\AppData\\Local\\Temp\\ipykernel_4068\\526077064.py:1: DataConversionWarning: A column-vector y was passed when a 1d array was expected. Please change the shape of y to (n_samples,), for example using ravel().\n",
      "  rf1.fit(X_train,y_train)\n"
     ]
    },
    {
     "ename": "KeyboardInterrupt",
     "evalue": "",
     "output_type": "error",
     "traceback": [
      "\u001b[1;31m---------------------------------------------------------------------------\u001b[0m",
      "\u001b[1;31mKeyboardInterrupt\u001b[0m                         Traceback (most recent call last)",
      "Input \u001b[1;32mIn [80]\u001b[0m, in \u001b[0;36m<cell line: 1>\u001b[1;34m()\u001b[0m\n\u001b[1;32m----> 1\u001b[0m \u001b[43mrf1\u001b[49m\u001b[38;5;241;43m.\u001b[39;49m\u001b[43mfit\u001b[49m\u001b[43m(\u001b[49m\u001b[43mX_train\u001b[49m\u001b[43m,\u001b[49m\u001b[43my_train\u001b[49m\u001b[43m)\u001b[49m\n",
      "File \u001b[1;32m~\\New folder\\lib\\site-packages\\sklearn\\ensemble\\_forest.py:450\u001b[0m, in \u001b[0;36mBaseForest.fit\u001b[1;34m(self, X, y, sample_weight)\u001b[0m\n\u001b[0;32m    439\u001b[0m trees \u001b[38;5;241m=\u001b[39m [\n\u001b[0;32m    440\u001b[0m     \u001b[38;5;28mself\u001b[39m\u001b[38;5;241m.\u001b[39m_make_estimator(append\u001b[38;5;241m=\u001b[39m\u001b[38;5;28;01mFalse\u001b[39;00m, random_state\u001b[38;5;241m=\u001b[39mrandom_state)\n\u001b[0;32m    441\u001b[0m     \u001b[38;5;28;01mfor\u001b[39;00m i \u001b[38;5;129;01min\u001b[39;00m \u001b[38;5;28mrange\u001b[39m(n_more_estimators)\n\u001b[0;32m    442\u001b[0m ]\n\u001b[0;32m    444\u001b[0m \u001b[38;5;66;03m# Parallel loop: we prefer the threading backend as the Cython code\u001b[39;00m\n\u001b[0;32m    445\u001b[0m \u001b[38;5;66;03m# for fitting the trees is internally releasing the Python GIL\u001b[39;00m\n\u001b[0;32m    446\u001b[0m \u001b[38;5;66;03m# making threading more efficient than multiprocessing in\u001b[39;00m\n\u001b[0;32m    447\u001b[0m \u001b[38;5;66;03m# that case. However, for joblib 0.12+ we respect any\u001b[39;00m\n\u001b[0;32m    448\u001b[0m \u001b[38;5;66;03m# parallel_backend contexts set at a higher level,\u001b[39;00m\n\u001b[0;32m    449\u001b[0m \u001b[38;5;66;03m# since correctness does not rely on using threads.\u001b[39;00m\n\u001b[1;32m--> 450\u001b[0m trees \u001b[38;5;241m=\u001b[39m \u001b[43mParallel\u001b[49m\u001b[43m(\u001b[49m\n\u001b[0;32m    451\u001b[0m \u001b[43m    \u001b[49m\u001b[43mn_jobs\u001b[49m\u001b[38;5;241;43m=\u001b[39;49m\u001b[38;5;28;43mself\u001b[39;49m\u001b[38;5;241;43m.\u001b[39;49m\u001b[43mn_jobs\u001b[49m\u001b[43m,\u001b[49m\n\u001b[0;32m    452\u001b[0m \u001b[43m    \u001b[49m\u001b[43mverbose\u001b[49m\u001b[38;5;241;43m=\u001b[39;49m\u001b[38;5;28;43mself\u001b[39;49m\u001b[38;5;241;43m.\u001b[39;49m\u001b[43mverbose\u001b[49m\u001b[43m,\u001b[49m\n\u001b[0;32m    453\u001b[0m \u001b[43m    \u001b[49m\u001b[38;5;241;43m*\u001b[39;49m\u001b[38;5;241;43m*\u001b[39;49m\u001b[43m_joblib_parallel_args\u001b[49m\u001b[43m(\u001b[49m\u001b[43mprefer\u001b[49m\u001b[38;5;241;43m=\u001b[39;49m\u001b[38;5;124;43m\"\u001b[39;49m\u001b[38;5;124;43mthreads\u001b[39;49m\u001b[38;5;124;43m\"\u001b[39;49m\u001b[43m)\u001b[49m\u001b[43m,\u001b[49m\n\u001b[0;32m    454\u001b[0m \u001b[43m\u001b[49m\u001b[43m)\u001b[49m\u001b[43m(\u001b[49m\n\u001b[0;32m    455\u001b[0m \u001b[43m    \u001b[49m\u001b[43mdelayed\u001b[49m\u001b[43m(\u001b[49m\u001b[43m_parallel_build_trees\u001b[49m\u001b[43m)\u001b[49m\u001b[43m(\u001b[49m\n\u001b[0;32m    456\u001b[0m \u001b[43m        \u001b[49m\u001b[43mt\u001b[49m\u001b[43m,\u001b[49m\n\u001b[0;32m    457\u001b[0m \u001b[43m        \u001b[49m\u001b[38;5;28;43mself\u001b[39;49m\u001b[43m,\u001b[49m\n\u001b[0;32m    458\u001b[0m \u001b[43m        \u001b[49m\u001b[43mX\u001b[49m\u001b[43m,\u001b[49m\n\u001b[0;32m    459\u001b[0m \u001b[43m        \u001b[49m\u001b[43my\u001b[49m\u001b[43m,\u001b[49m\n\u001b[0;32m    460\u001b[0m \u001b[43m        \u001b[49m\u001b[43msample_weight\u001b[49m\u001b[43m,\u001b[49m\n\u001b[0;32m    461\u001b[0m \u001b[43m        \u001b[49m\u001b[43mi\u001b[49m\u001b[43m,\u001b[49m\n\u001b[0;32m    462\u001b[0m \u001b[43m        \u001b[49m\u001b[38;5;28;43mlen\u001b[39;49m\u001b[43m(\u001b[49m\u001b[43mtrees\u001b[49m\u001b[43m)\u001b[49m\u001b[43m,\u001b[49m\n\u001b[0;32m    463\u001b[0m \u001b[43m        \u001b[49m\u001b[43mverbose\u001b[49m\u001b[38;5;241;43m=\u001b[39;49m\u001b[38;5;28;43mself\u001b[39;49m\u001b[38;5;241;43m.\u001b[39;49m\u001b[43mverbose\u001b[49m\u001b[43m,\u001b[49m\n\u001b[0;32m    464\u001b[0m \u001b[43m        \u001b[49m\u001b[43mclass_weight\u001b[49m\u001b[38;5;241;43m=\u001b[39;49m\u001b[38;5;28;43mself\u001b[39;49m\u001b[38;5;241;43m.\u001b[39;49m\u001b[43mclass_weight\u001b[49m\u001b[43m,\u001b[49m\n\u001b[0;32m    465\u001b[0m \u001b[43m        \u001b[49m\u001b[43mn_samples_bootstrap\u001b[49m\u001b[38;5;241;43m=\u001b[39;49m\u001b[43mn_samples_bootstrap\u001b[49m\u001b[43m,\u001b[49m\n\u001b[0;32m    466\u001b[0m \u001b[43m    \u001b[49m\u001b[43m)\u001b[49m\n\u001b[0;32m    467\u001b[0m \u001b[43m    \u001b[49m\u001b[38;5;28;43;01mfor\u001b[39;49;00m\u001b[43m \u001b[49m\u001b[43mi\u001b[49m\u001b[43m,\u001b[49m\u001b[43m \u001b[49m\u001b[43mt\u001b[49m\u001b[43m \u001b[49m\u001b[38;5;129;43;01min\u001b[39;49;00m\u001b[43m \u001b[49m\u001b[38;5;28;43menumerate\u001b[39;49m\u001b[43m(\u001b[49m\u001b[43mtrees\u001b[49m\u001b[43m)\u001b[49m\n\u001b[0;32m    468\u001b[0m \u001b[43m\u001b[49m\u001b[43m)\u001b[49m\n\u001b[0;32m    470\u001b[0m \u001b[38;5;66;03m# Collect newly grown trees\u001b[39;00m\n\u001b[0;32m    471\u001b[0m \u001b[38;5;28mself\u001b[39m\u001b[38;5;241m.\u001b[39mestimators_\u001b[38;5;241m.\u001b[39mextend(trees)\n",
      "File \u001b[1;32m~\\New folder\\lib\\site-packages\\joblib\\parallel.py:1046\u001b[0m, in \u001b[0;36mParallel.__call__\u001b[1;34m(self, iterable)\u001b[0m\n\u001b[0;32m   1043\u001b[0m \u001b[38;5;28;01mif\u001b[39;00m \u001b[38;5;28mself\u001b[39m\u001b[38;5;241m.\u001b[39mdispatch_one_batch(iterator):\n\u001b[0;32m   1044\u001b[0m     \u001b[38;5;28mself\u001b[39m\u001b[38;5;241m.\u001b[39m_iterating \u001b[38;5;241m=\u001b[39m \u001b[38;5;28mself\u001b[39m\u001b[38;5;241m.\u001b[39m_original_iterator \u001b[38;5;129;01mis\u001b[39;00m \u001b[38;5;129;01mnot\u001b[39;00m \u001b[38;5;28;01mNone\u001b[39;00m\n\u001b[1;32m-> 1046\u001b[0m \u001b[38;5;28;01mwhile\u001b[39;00m \u001b[38;5;28;43mself\u001b[39;49m\u001b[38;5;241;43m.\u001b[39;49m\u001b[43mdispatch_one_batch\u001b[49m\u001b[43m(\u001b[49m\u001b[43miterator\u001b[49m\u001b[43m)\u001b[49m:\n\u001b[0;32m   1047\u001b[0m     \u001b[38;5;28;01mpass\u001b[39;00m\n\u001b[0;32m   1049\u001b[0m \u001b[38;5;28;01mif\u001b[39;00m pre_dispatch \u001b[38;5;241m==\u001b[39m \u001b[38;5;124m\"\u001b[39m\u001b[38;5;124mall\u001b[39m\u001b[38;5;124m\"\u001b[39m \u001b[38;5;129;01mor\u001b[39;00m n_jobs \u001b[38;5;241m==\u001b[39m \u001b[38;5;241m1\u001b[39m:\n\u001b[0;32m   1050\u001b[0m     \u001b[38;5;66;03m# The iterable was consumed all at once by the above for loop.\u001b[39;00m\n\u001b[0;32m   1051\u001b[0m     \u001b[38;5;66;03m# No need to wait for async callbacks to trigger to\u001b[39;00m\n\u001b[0;32m   1052\u001b[0m     \u001b[38;5;66;03m# consumption.\u001b[39;00m\n",
      "File \u001b[1;32m~\\New folder\\lib\\site-packages\\joblib\\parallel.py:861\u001b[0m, in \u001b[0;36mParallel.dispatch_one_batch\u001b[1;34m(self, iterator)\u001b[0m\n\u001b[0;32m    859\u001b[0m     \u001b[38;5;28;01mreturn\u001b[39;00m \u001b[38;5;28;01mFalse\u001b[39;00m\n\u001b[0;32m    860\u001b[0m \u001b[38;5;28;01melse\u001b[39;00m:\n\u001b[1;32m--> 861\u001b[0m     \u001b[38;5;28;43mself\u001b[39;49m\u001b[38;5;241;43m.\u001b[39;49m\u001b[43m_dispatch\u001b[49m\u001b[43m(\u001b[49m\u001b[43mtasks\u001b[49m\u001b[43m)\u001b[49m\n\u001b[0;32m    862\u001b[0m     \u001b[38;5;28;01mreturn\u001b[39;00m \u001b[38;5;28;01mTrue\u001b[39;00m\n",
      "File \u001b[1;32m~\\New folder\\lib\\site-packages\\joblib\\parallel.py:779\u001b[0m, in \u001b[0;36mParallel._dispatch\u001b[1;34m(self, batch)\u001b[0m\n\u001b[0;32m    777\u001b[0m \u001b[38;5;28;01mwith\u001b[39;00m \u001b[38;5;28mself\u001b[39m\u001b[38;5;241m.\u001b[39m_lock:\n\u001b[0;32m    778\u001b[0m     job_idx \u001b[38;5;241m=\u001b[39m \u001b[38;5;28mlen\u001b[39m(\u001b[38;5;28mself\u001b[39m\u001b[38;5;241m.\u001b[39m_jobs)\n\u001b[1;32m--> 779\u001b[0m     job \u001b[38;5;241m=\u001b[39m \u001b[38;5;28;43mself\u001b[39;49m\u001b[38;5;241;43m.\u001b[39;49m\u001b[43m_backend\u001b[49m\u001b[38;5;241;43m.\u001b[39;49m\u001b[43mapply_async\u001b[49m\u001b[43m(\u001b[49m\u001b[43mbatch\u001b[49m\u001b[43m,\u001b[49m\u001b[43m \u001b[49m\u001b[43mcallback\u001b[49m\u001b[38;5;241;43m=\u001b[39;49m\u001b[43mcb\u001b[49m\u001b[43m)\u001b[49m\n\u001b[0;32m    780\u001b[0m     \u001b[38;5;66;03m# A job can complete so quickly than its callback is\u001b[39;00m\n\u001b[0;32m    781\u001b[0m     \u001b[38;5;66;03m# called before we get here, causing self._jobs to\u001b[39;00m\n\u001b[0;32m    782\u001b[0m     \u001b[38;5;66;03m# grow. To ensure correct results ordering, .insert is\u001b[39;00m\n\u001b[0;32m    783\u001b[0m     \u001b[38;5;66;03m# used (rather than .append) in the following line\u001b[39;00m\n\u001b[0;32m    784\u001b[0m     \u001b[38;5;28mself\u001b[39m\u001b[38;5;241m.\u001b[39m_jobs\u001b[38;5;241m.\u001b[39minsert(job_idx, job)\n",
      "File \u001b[1;32m~\\New folder\\lib\\site-packages\\joblib\\_parallel_backends.py:208\u001b[0m, in \u001b[0;36mSequentialBackend.apply_async\u001b[1;34m(self, func, callback)\u001b[0m\n\u001b[0;32m    206\u001b[0m \u001b[38;5;28;01mdef\u001b[39;00m \u001b[38;5;21mapply_async\u001b[39m(\u001b[38;5;28mself\u001b[39m, func, callback\u001b[38;5;241m=\u001b[39m\u001b[38;5;28;01mNone\u001b[39;00m):\n\u001b[0;32m    207\u001b[0m     \u001b[38;5;124;03m\"\"\"Schedule a func to be run\"\"\"\u001b[39;00m\n\u001b[1;32m--> 208\u001b[0m     result \u001b[38;5;241m=\u001b[39m \u001b[43mImmediateResult\u001b[49m\u001b[43m(\u001b[49m\u001b[43mfunc\u001b[49m\u001b[43m)\u001b[49m\n\u001b[0;32m    209\u001b[0m     \u001b[38;5;28;01mif\u001b[39;00m callback:\n\u001b[0;32m    210\u001b[0m         callback(result)\n",
      "File \u001b[1;32m~\\New folder\\lib\\site-packages\\joblib\\_parallel_backends.py:572\u001b[0m, in \u001b[0;36mImmediateResult.__init__\u001b[1;34m(self, batch)\u001b[0m\n\u001b[0;32m    569\u001b[0m \u001b[38;5;28;01mdef\u001b[39;00m \u001b[38;5;21m__init__\u001b[39m(\u001b[38;5;28mself\u001b[39m, batch):\n\u001b[0;32m    570\u001b[0m     \u001b[38;5;66;03m# Don't delay the application, to avoid keeping the input\u001b[39;00m\n\u001b[0;32m    571\u001b[0m     \u001b[38;5;66;03m# arguments in memory\u001b[39;00m\n\u001b[1;32m--> 572\u001b[0m     \u001b[38;5;28mself\u001b[39m\u001b[38;5;241m.\u001b[39mresults \u001b[38;5;241m=\u001b[39m \u001b[43mbatch\u001b[49m\u001b[43m(\u001b[49m\u001b[43m)\u001b[49m\n",
      "File \u001b[1;32m~\\New folder\\lib\\site-packages\\joblib\\parallel.py:262\u001b[0m, in \u001b[0;36mBatchedCalls.__call__\u001b[1;34m(self)\u001b[0m\n\u001b[0;32m    258\u001b[0m \u001b[38;5;28;01mdef\u001b[39;00m \u001b[38;5;21m__call__\u001b[39m(\u001b[38;5;28mself\u001b[39m):\n\u001b[0;32m    259\u001b[0m     \u001b[38;5;66;03m# Set the default nested backend to self._backend but do not set the\u001b[39;00m\n\u001b[0;32m    260\u001b[0m     \u001b[38;5;66;03m# change the default number of processes to -1\u001b[39;00m\n\u001b[0;32m    261\u001b[0m     \u001b[38;5;28;01mwith\u001b[39;00m parallel_backend(\u001b[38;5;28mself\u001b[39m\u001b[38;5;241m.\u001b[39m_backend, n_jobs\u001b[38;5;241m=\u001b[39m\u001b[38;5;28mself\u001b[39m\u001b[38;5;241m.\u001b[39m_n_jobs):\n\u001b[1;32m--> 262\u001b[0m         \u001b[38;5;28;01mreturn\u001b[39;00m [func(\u001b[38;5;241m*\u001b[39margs, \u001b[38;5;241m*\u001b[39m\u001b[38;5;241m*\u001b[39mkwargs)\n\u001b[0;32m    263\u001b[0m                 \u001b[38;5;28;01mfor\u001b[39;00m func, args, kwargs \u001b[38;5;129;01min\u001b[39;00m \u001b[38;5;28mself\u001b[39m\u001b[38;5;241m.\u001b[39mitems]\n",
      "File \u001b[1;32m~\\New folder\\lib\\site-packages\\joblib\\parallel.py:262\u001b[0m, in \u001b[0;36m<listcomp>\u001b[1;34m(.0)\u001b[0m\n\u001b[0;32m    258\u001b[0m \u001b[38;5;28;01mdef\u001b[39;00m \u001b[38;5;21m__call__\u001b[39m(\u001b[38;5;28mself\u001b[39m):\n\u001b[0;32m    259\u001b[0m     \u001b[38;5;66;03m# Set the default nested backend to self._backend but do not set the\u001b[39;00m\n\u001b[0;32m    260\u001b[0m     \u001b[38;5;66;03m# change the default number of processes to -1\u001b[39;00m\n\u001b[0;32m    261\u001b[0m     \u001b[38;5;28;01mwith\u001b[39;00m parallel_backend(\u001b[38;5;28mself\u001b[39m\u001b[38;5;241m.\u001b[39m_backend, n_jobs\u001b[38;5;241m=\u001b[39m\u001b[38;5;28mself\u001b[39m\u001b[38;5;241m.\u001b[39m_n_jobs):\n\u001b[1;32m--> 262\u001b[0m         \u001b[38;5;28;01mreturn\u001b[39;00m [func(\u001b[38;5;241m*\u001b[39margs, \u001b[38;5;241m*\u001b[39m\u001b[38;5;241m*\u001b[39mkwargs)\n\u001b[0;32m    263\u001b[0m                 \u001b[38;5;28;01mfor\u001b[39;00m func, args, kwargs \u001b[38;5;129;01min\u001b[39;00m \u001b[38;5;28mself\u001b[39m\u001b[38;5;241m.\u001b[39mitems]\n",
      "File \u001b[1;32m~\\New folder\\lib\\site-packages\\sklearn\\utils\\fixes.py:216\u001b[0m, in \u001b[0;36m_FuncWrapper.__call__\u001b[1;34m(self, *args, **kwargs)\u001b[0m\n\u001b[0;32m    214\u001b[0m \u001b[38;5;28;01mdef\u001b[39;00m \u001b[38;5;21m__call__\u001b[39m(\u001b[38;5;28mself\u001b[39m, \u001b[38;5;241m*\u001b[39margs, \u001b[38;5;241m*\u001b[39m\u001b[38;5;241m*\u001b[39mkwargs):\n\u001b[0;32m    215\u001b[0m     \u001b[38;5;28;01mwith\u001b[39;00m config_context(\u001b[38;5;241m*\u001b[39m\u001b[38;5;241m*\u001b[39m\u001b[38;5;28mself\u001b[39m\u001b[38;5;241m.\u001b[39mconfig):\n\u001b[1;32m--> 216\u001b[0m         \u001b[38;5;28;01mreturn\u001b[39;00m \u001b[38;5;28mself\u001b[39m\u001b[38;5;241m.\u001b[39mfunction(\u001b[38;5;241m*\u001b[39margs, \u001b[38;5;241m*\u001b[39m\u001b[38;5;241m*\u001b[39mkwargs)\n",
      "File \u001b[1;32m~\\New folder\\lib\\site-packages\\sklearn\\ensemble\\_forest.py:185\u001b[0m, in \u001b[0;36m_parallel_build_trees\u001b[1;34m(tree, forest, X, y, sample_weight, tree_idx, n_trees, verbose, class_weight, n_samples_bootstrap)\u001b[0m\n\u001b[0;32m    182\u001b[0m     \u001b[38;5;28;01melif\u001b[39;00m class_weight \u001b[38;5;241m==\u001b[39m \u001b[38;5;124m\"\u001b[39m\u001b[38;5;124mbalanced_subsample\u001b[39m\u001b[38;5;124m\"\u001b[39m:\n\u001b[0;32m    183\u001b[0m         curr_sample_weight \u001b[38;5;241m*\u001b[39m\u001b[38;5;241m=\u001b[39m compute_sample_weight(\u001b[38;5;124m\"\u001b[39m\u001b[38;5;124mbalanced\u001b[39m\u001b[38;5;124m\"\u001b[39m, y, indices\u001b[38;5;241m=\u001b[39mindices)\n\u001b[1;32m--> 185\u001b[0m     \u001b[43mtree\u001b[49m\u001b[38;5;241;43m.\u001b[39;49m\u001b[43mfit\u001b[49m\u001b[43m(\u001b[49m\u001b[43mX\u001b[49m\u001b[43m,\u001b[49m\u001b[43m \u001b[49m\u001b[43my\u001b[49m\u001b[43m,\u001b[49m\u001b[43m \u001b[49m\u001b[43msample_weight\u001b[49m\u001b[38;5;241;43m=\u001b[39;49m\u001b[43mcurr_sample_weight\u001b[49m\u001b[43m,\u001b[49m\u001b[43m \u001b[49m\u001b[43mcheck_input\u001b[49m\u001b[38;5;241;43m=\u001b[39;49m\u001b[38;5;28;43;01mFalse\u001b[39;49;00m\u001b[43m)\u001b[49m\n\u001b[0;32m    186\u001b[0m \u001b[38;5;28;01melse\u001b[39;00m:\n\u001b[0;32m    187\u001b[0m     tree\u001b[38;5;241m.\u001b[39mfit(X, y, sample_weight\u001b[38;5;241m=\u001b[39msample_weight, check_input\u001b[38;5;241m=\u001b[39m\u001b[38;5;28;01mFalse\u001b[39;00m)\n",
      "File \u001b[1;32m~\\New folder\\lib\\site-packages\\sklearn\\tree\\_classes.py:1315\u001b[0m, in \u001b[0;36mDecisionTreeRegressor.fit\u001b[1;34m(self, X, y, sample_weight, check_input, X_idx_sorted)\u001b[0m\n\u001b[0;32m   1278\u001b[0m \u001b[38;5;28;01mdef\u001b[39;00m \u001b[38;5;21mfit\u001b[39m(\n\u001b[0;32m   1279\u001b[0m     \u001b[38;5;28mself\u001b[39m, X, y, sample_weight\u001b[38;5;241m=\u001b[39m\u001b[38;5;28;01mNone\u001b[39;00m, check_input\u001b[38;5;241m=\u001b[39m\u001b[38;5;28;01mTrue\u001b[39;00m, X_idx_sorted\u001b[38;5;241m=\u001b[39m\u001b[38;5;124m\"\u001b[39m\u001b[38;5;124mdeprecated\u001b[39m\u001b[38;5;124m\"\u001b[39m\n\u001b[0;32m   1280\u001b[0m ):\n\u001b[0;32m   1281\u001b[0m     \u001b[38;5;124;03m\"\"\"Build a decision tree regressor from the training set (X, y).\u001b[39;00m\n\u001b[0;32m   1282\u001b[0m \n\u001b[0;32m   1283\u001b[0m \u001b[38;5;124;03m    Parameters\u001b[39;00m\n\u001b[1;32m   (...)\u001b[0m\n\u001b[0;32m   1312\u001b[0m \u001b[38;5;124;03m        Fitted estimator.\u001b[39;00m\n\u001b[0;32m   1313\u001b[0m \u001b[38;5;124;03m    \"\"\"\u001b[39;00m\n\u001b[1;32m-> 1315\u001b[0m     \u001b[38;5;28;43msuper\u001b[39;49m\u001b[43m(\u001b[49m\u001b[43m)\u001b[49m\u001b[38;5;241;43m.\u001b[39;49m\u001b[43mfit\u001b[49m\u001b[43m(\u001b[49m\n\u001b[0;32m   1316\u001b[0m \u001b[43m        \u001b[49m\u001b[43mX\u001b[49m\u001b[43m,\u001b[49m\n\u001b[0;32m   1317\u001b[0m \u001b[43m        \u001b[49m\u001b[43my\u001b[49m\u001b[43m,\u001b[49m\n\u001b[0;32m   1318\u001b[0m \u001b[43m        \u001b[49m\u001b[43msample_weight\u001b[49m\u001b[38;5;241;43m=\u001b[39;49m\u001b[43msample_weight\u001b[49m\u001b[43m,\u001b[49m\n\u001b[0;32m   1319\u001b[0m \u001b[43m        \u001b[49m\u001b[43mcheck_input\u001b[49m\u001b[38;5;241;43m=\u001b[39;49m\u001b[43mcheck_input\u001b[49m\u001b[43m,\u001b[49m\n\u001b[0;32m   1320\u001b[0m \u001b[43m        \u001b[49m\u001b[43mX_idx_sorted\u001b[49m\u001b[38;5;241;43m=\u001b[39;49m\u001b[43mX_idx_sorted\u001b[49m\u001b[43m,\u001b[49m\n\u001b[0;32m   1321\u001b[0m \u001b[43m    \u001b[49m\u001b[43m)\u001b[49m\n\u001b[0;32m   1322\u001b[0m     \u001b[38;5;28;01mreturn\u001b[39;00m \u001b[38;5;28mself\u001b[39m\n",
      "File \u001b[1;32m~\\New folder\\lib\\site-packages\\sklearn\\tree\\_classes.py:420\u001b[0m, in \u001b[0;36mBaseDecisionTree.fit\u001b[1;34m(self, X, y, sample_weight, check_input, X_idx_sorted)\u001b[0m\n\u001b[0;32m    409\u001b[0m \u001b[38;5;28;01melse\u001b[39;00m:\n\u001b[0;32m    410\u001b[0m     builder \u001b[38;5;241m=\u001b[39m BestFirstTreeBuilder(\n\u001b[0;32m    411\u001b[0m         splitter,\n\u001b[0;32m    412\u001b[0m         min_samples_split,\n\u001b[1;32m   (...)\u001b[0m\n\u001b[0;32m    417\u001b[0m         \u001b[38;5;28mself\u001b[39m\u001b[38;5;241m.\u001b[39mmin_impurity_decrease,\n\u001b[0;32m    418\u001b[0m     )\n\u001b[1;32m--> 420\u001b[0m \u001b[43mbuilder\u001b[49m\u001b[38;5;241;43m.\u001b[39;49m\u001b[43mbuild\u001b[49m\u001b[43m(\u001b[49m\u001b[38;5;28;43mself\u001b[39;49m\u001b[38;5;241;43m.\u001b[39;49m\u001b[43mtree_\u001b[49m\u001b[43m,\u001b[49m\u001b[43m \u001b[49m\u001b[43mX\u001b[49m\u001b[43m,\u001b[49m\u001b[43m \u001b[49m\u001b[43my\u001b[49m\u001b[43m,\u001b[49m\u001b[43m \u001b[49m\u001b[43msample_weight\u001b[49m\u001b[43m)\u001b[49m\n\u001b[0;32m    422\u001b[0m \u001b[38;5;28;01mif\u001b[39;00m \u001b[38;5;28mself\u001b[39m\u001b[38;5;241m.\u001b[39mn_outputs_ \u001b[38;5;241m==\u001b[39m \u001b[38;5;241m1\u001b[39m \u001b[38;5;129;01mand\u001b[39;00m is_classifier(\u001b[38;5;28mself\u001b[39m):\n\u001b[0;32m    423\u001b[0m     \u001b[38;5;28mself\u001b[39m\u001b[38;5;241m.\u001b[39mn_classes_ \u001b[38;5;241m=\u001b[39m \u001b[38;5;28mself\u001b[39m\u001b[38;5;241m.\u001b[39mn_classes_[\u001b[38;5;241m0\u001b[39m]\n",
      "\u001b[1;31mKeyboardInterrupt\u001b[0m: "
     ]
    }
   ],
   "source": [
    "rf1.fit(X_train,y_train)"
   ]
  },
  {
   "cell_type": "code",
   "execution_count": null,
   "id": "7ca8097e",
   "metadata": {},
   "outputs": [],
   "source": [
    "y_pred = rf1.predict(X_test)"
   ]
  },
  {
   "cell_type": "code",
   "execution_count": null,
   "id": "b15bb87e",
   "metadata": {},
   "outputs": [],
   "source": [
    "rfRR=r2_score(y_test,y_pred)"
   ]
  },
  {
   "cell_type": "code",
   "execution_count": null,
   "id": "381765f3",
   "metadata": {},
   "outputs": [],
   "source": [
    "rfRR"
   ]
  },
  {
   "cell_type": "code",
   "execution_count": null,
   "id": "37758875",
   "metadata": {},
   "outputs": [],
   "source": []
  }
 ],
 "metadata": {
  "kernelspec": {
   "display_name": "Python 3 (ipykernel)",
   "language": "python",
   "name": "python3"
  },
  "language_info": {
   "codemirror_mode": {
    "name": "ipython",
    "version": 3
   },
   "file_extension": ".py",
   "mimetype": "text/x-python",
   "name": "python",
   "nbconvert_exporter": "python",
   "pygments_lexer": "ipython3",
   "version": "3.9.12"
  },
  "toc": {
   "base_numbering": 1,
   "nav_menu": {},
   "number_sections": true,
   "sideBar": true,
   "skip_h1_title": false,
   "title_cell": "Table of Contents",
   "title_sidebar": "Contents",
   "toc_cell": false,
   "toc_position": {
    "height": "calc(100% - 180px)",
    "left": "10px",
    "top": "150px",
    "width": "320px"
   },
   "toc_section_display": true,
   "toc_window_display": true
  }
 },
 "nbformat": 4,
 "nbformat_minor": 5
}
