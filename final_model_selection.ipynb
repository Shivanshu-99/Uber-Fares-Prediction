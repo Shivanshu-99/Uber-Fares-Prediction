{
 "cells": [
  {
   "cell_type": "code",
   "execution_count": 1,
   "id": "84898e91",
   "metadata": {},
   "outputs": [],
   "source": [
    "import pandas as pd\n",
    "import numpy as np\n",
    "from sklearn.pipeline import Pipeline\n",
    "import matplotlib.pyplot as plt\n",
    "from sklearn.metrics import  r2_score\n",
    "import pickle\n",
    "import joblib\n",
    "import yaml"
   ]
  },
  {
   "cell_type": "code",
   "execution_count": 3,
   "id": "87be2f1a",
   "metadata": {},
   "outputs": [],
   "source": [
    "df = pd.read_csv('Uber_proper_format')"
   ]
  },
  {
   "cell_type": "code",
   "execution_count": 4,
   "id": "c0fb4dd2",
   "metadata": {},
   "outputs": [
    {
     "data": {
      "text/html": [
       "<div>\n",
       "<style scoped>\n",
       "    .dataframe tbody tr th:only-of-type {\n",
       "        vertical-align: middle;\n",
       "    }\n",
       "\n",
       "    .dataframe tbody tr th {\n",
       "        vertical-align: top;\n",
       "    }\n",
       "\n",
       "    .dataframe thead th {\n",
       "        text-align: right;\n",
       "    }\n",
       "</style>\n",
       "<table border=\"1\" class=\"dataframe\">\n",
       "  <thead>\n",
       "    <tr style=\"text-align: right;\">\n",
       "      <th></th>\n",
       "      <th>fare_amount</th>\n",
       "      <th>passenger_count</th>\n",
       "      <th>year</th>\n",
       "      <th>month</th>\n",
       "      <th>day</th>\n",
       "      <th>day_is_weekend</th>\n",
       "      <th>quarter</th>\n",
       "      <th>hour</th>\n",
       "      <th>mins</th>\n",
       "      <th>distance_travelled</th>\n",
       "    </tr>\n",
       "  </thead>\n",
       "  <tbody>\n",
       "    <tr>\n",
       "      <th>0</th>\n",
       "      <td>7.50</td>\n",
       "      <td>1.0</td>\n",
       "      <td>2015.0</td>\n",
       "      <td>5.0</td>\n",
       "      <td>7.0</td>\n",
       "      <td>0.0</td>\n",
       "      <td>2.0</td>\n",
       "      <td>19.0</td>\n",
       "      <td>52.0</td>\n",
       "      <td>1.683323</td>\n",
       "    </tr>\n",
       "    <tr>\n",
       "      <th>1</th>\n",
       "      <td>7.70</td>\n",
       "      <td>1.0</td>\n",
       "      <td>2009.0</td>\n",
       "      <td>7.0</td>\n",
       "      <td>17.0</td>\n",
       "      <td>0.0</td>\n",
       "      <td>3.0</td>\n",
       "      <td>20.0</td>\n",
       "      <td>4.0</td>\n",
       "      <td>2.457590</td>\n",
       "    </tr>\n",
       "    <tr>\n",
       "      <th>2</th>\n",
       "      <td>12.90</td>\n",
       "      <td>1.0</td>\n",
       "      <td>2009.0</td>\n",
       "      <td>8.0</td>\n",
       "      <td>24.0</td>\n",
       "      <td>0.0</td>\n",
       "      <td>3.0</td>\n",
       "      <td>21.0</td>\n",
       "      <td>45.0</td>\n",
       "      <td>5.036377</td>\n",
       "    </tr>\n",
       "    <tr>\n",
       "      <th>3</th>\n",
       "      <td>5.30</td>\n",
       "      <td>3.0</td>\n",
       "      <td>2009.0</td>\n",
       "      <td>6.0</td>\n",
       "      <td>26.0</td>\n",
       "      <td>0.0</td>\n",
       "      <td>2.0</td>\n",
       "      <td>8.0</td>\n",
       "      <td>22.0</td>\n",
       "      <td>1.661683</td>\n",
       "    </tr>\n",
       "    <tr>\n",
       "      <th>4</th>\n",
       "      <td>16.00</td>\n",
       "      <td>3.5</td>\n",
       "      <td>2014.0</td>\n",
       "      <td>8.0</td>\n",
       "      <td>28.0</td>\n",
       "      <td>0.0</td>\n",
       "      <td>3.0</td>\n",
       "      <td>17.0</td>\n",
       "      <td>47.0</td>\n",
       "      <td>4.475450</td>\n",
       "    </tr>\n",
       "    <tr>\n",
       "      <th>5</th>\n",
       "      <td>4.90</td>\n",
       "      <td>1.0</td>\n",
       "      <td>2011.0</td>\n",
       "      <td>2.0</td>\n",
       "      <td>12.0</td>\n",
       "      <td>1.0</td>\n",
       "      <td>1.0</td>\n",
       "      <td>2.0</td>\n",
       "      <td>27.0</td>\n",
       "      <td>0.000000</td>\n",
       "    </tr>\n",
       "    <tr>\n",
       "      <th>6</th>\n",
       "      <td>22.25</td>\n",
       "      <td>3.5</td>\n",
       "      <td>2014.0</td>\n",
       "      <td>10.0</td>\n",
       "      <td>12.0</td>\n",
       "      <td>1.0</td>\n",
       "      <td>4.0</td>\n",
       "      <td>7.0</td>\n",
       "      <td>4.0</td>\n",
       "      <td>7.865091</td>\n",
       "    </tr>\n",
       "    <tr>\n",
       "      <th>7</th>\n",
       "      <td>2.50</td>\n",
       "      <td>1.0</td>\n",
       "      <td>2012.0</td>\n",
       "      <td>12.0</td>\n",
       "      <td>11.0</td>\n",
       "      <td>0.0</td>\n",
       "      <td>4.0</td>\n",
       "      <td>13.0</td>\n",
       "      <td>52.0</td>\n",
       "      <td>0.000000</td>\n",
       "    </tr>\n",
       "    <tr>\n",
       "      <th>8</th>\n",
       "      <td>9.70</td>\n",
       "      <td>1.0</td>\n",
       "      <td>2012.0</td>\n",
       "      <td>2.0</td>\n",
       "      <td>17.0</td>\n",
       "      <td>0.0</td>\n",
       "      <td>1.0</td>\n",
       "      <td>9.0</td>\n",
       "      <td>32.0</td>\n",
       "      <td>2.332711</td>\n",
       "    </tr>\n",
       "    <tr>\n",
       "      <th>9</th>\n",
       "      <td>12.50</td>\n",
       "      <td>1.0</td>\n",
       "      <td>2012.0</td>\n",
       "      <td>3.0</td>\n",
       "      <td>29.0</td>\n",
       "      <td>0.0</td>\n",
       "      <td>1.0</td>\n",
       "      <td>19.0</td>\n",
       "      <td>6.0</td>\n",
       "      <td>4.889417</td>\n",
       "    </tr>\n",
       "  </tbody>\n",
       "</table>\n",
       "</div>"
      ],
      "text/plain": [
       "   fare_amount  passenger_count    year  month   day  day_is_weekend  quarter  \\\n",
       "0         7.50              1.0  2015.0    5.0   7.0             0.0      2.0   \n",
       "1         7.70              1.0  2009.0    7.0  17.0             0.0      3.0   \n",
       "2        12.90              1.0  2009.0    8.0  24.0             0.0      3.0   \n",
       "3         5.30              3.0  2009.0    6.0  26.0             0.0      2.0   \n",
       "4        16.00              3.5  2014.0    8.0  28.0             0.0      3.0   \n",
       "5         4.90              1.0  2011.0    2.0  12.0             1.0      1.0   \n",
       "6        22.25              3.5  2014.0   10.0  12.0             1.0      4.0   \n",
       "7         2.50              1.0  2012.0   12.0  11.0             0.0      4.0   \n",
       "8         9.70              1.0  2012.0    2.0  17.0             0.0      1.0   \n",
       "9        12.50              1.0  2012.0    3.0  29.0             0.0      1.0   \n",
       "\n",
       "   hour  mins  distance_travelled  \n",
       "0  19.0  52.0            1.683323  \n",
       "1  20.0   4.0            2.457590  \n",
       "2  21.0  45.0            5.036377  \n",
       "3   8.0  22.0            1.661683  \n",
       "4  17.0  47.0            4.475450  \n",
       "5   2.0  27.0            0.000000  \n",
       "6   7.0   4.0            7.865091  \n",
       "7  13.0  52.0            0.000000  \n",
       "8   9.0  32.0            2.332711  \n",
       "9  19.0   6.0            4.889417  "
      ]
     },
     "execution_count": 4,
     "metadata": {},
     "output_type": "execute_result"
    }
   ],
   "source": [
    "df.head(10)"
   ]
  },
  {
   "cell_type": "code",
   "execution_count": 5,
   "id": "5f322b3e",
   "metadata": {},
   "outputs": [
    {
     "data": {
      "text/plain": [
       "(199999, 10)"
      ]
     },
     "execution_count": 5,
     "metadata": {},
     "output_type": "execute_result"
    }
   ],
   "source": [
    "df.shape"
   ]
  },
  {
   "cell_type": "code",
   "execution_count": 6,
   "id": "ea46c203",
   "metadata": {},
   "outputs": [],
   "source": [
    "preprocessing_dictionary = dict()"
   ]
  },
  {
   "cell_type": "code",
   "execution_count": 7,
   "id": "8625e293",
   "metadata": {},
   "outputs": [],
   "source": [
    "feature_list = ['passenger_count','year','month','day','day_is_weekend','quarter','hour','mins','distance_travelled']"
   ]
  },
  {
   "cell_type": "code",
   "execution_count": 8,
   "id": "5bfe6b3f",
   "metadata": {},
   "outputs": [],
   "source": [
    "X = df.iloc[:,1:]\n",
    "y= df.iloc[:,:1]"
   ]
  },
  {
   "cell_type": "code",
   "execution_count": 9,
   "id": "2bc770e0",
   "metadata": {},
   "outputs": [],
   "source": [
    "from sklearn.model_selection import train_test_split\n",
    "X_train ,X_test,y_train, y_test = train_test_split(X,y,test_size=0.25,random_state=40)"
   ]
  },
  {
   "cell_type": "code",
   "execution_count": 10,
   "id": "1cf9153d",
   "metadata": {},
   "outputs": [
    {
     "data": {
      "text/plain": [
       "((149999, 9), (50000, 9), (149999, 1), (50000, 1))"
      ]
     },
     "execution_count": 10,
     "metadata": {},
     "output_type": "execute_result"
    }
   ],
   "source": [
    "X_train.shape , X_test.shape , y_train.shape , y_test.shape"
   ]
  },
  {
   "cell_type": "code",
   "execution_count": 11,
   "id": "e89b90d3",
   "metadata": {},
   "outputs": [],
   "source": [
    " from sklearn.tree import DecisionTreeRegressor"
   ]
  },
  {
   "cell_type": "code",
   "execution_count": 12,
   "id": "6b270f31",
   "metadata": {},
   "outputs": [],
   "source": [
    "dtr = DecisionTreeRegressor(max_depth =8)"
   ]
  },
  {
   "cell_type": "code",
   "execution_count": 13,
   "id": "044fcc81",
   "metadata": {},
   "outputs": [
    {
     "data": {
      "text/plain": [
       "DecisionTreeRegressor(max_depth=8)"
      ]
     },
     "execution_count": 13,
     "metadata": {},
     "output_type": "execute_result"
    }
   ],
   "source": [
    "dtr.fit(X_train,y_train)"
   ]
  },
  {
   "cell_type": "code",
   "execution_count": 14,
   "id": "0d6589df",
   "metadata": {},
   "outputs": [],
   "source": [
    "y_pred9 = dtr.predict(X_test)"
   ]
  },
  {
   "cell_type": "code",
   "execution_count": 15,
   "id": "52e720ac",
   "metadata": {},
   "outputs": [],
   "source": [
    "dtrR2 =r2_score(y_test,y_pred9)"
   ]
  },
  {
   "cell_type": "code",
   "execution_count": 16,
   "id": "549e0f3f",
   "metadata": {},
   "outputs": [
    {
     "data": {
      "text/plain": [
       "0.7809778109197798"
      ]
     },
     "execution_count": 16,
     "metadata": {},
     "output_type": "execute_result"
    }
   ],
   "source": [
    "dtrR2"
   ]
  },
  {
   "cell_type": "markdown",
   "id": "0c00b6b5",
   "metadata": {},
   "source": [
    "### Retrain the model on entire dataset and save the model"
   ]
  },
  {
   "cell_type": "code",
   "execution_count": 17,
   "id": "607d6581",
   "metadata": {},
   "outputs": [],
   "source": [
    "dtrfinal = DecisionTreeRegressor(max_depth =8)"
   ]
  },
  {
   "cell_type": "code",
   "execution_count": 18,
   "id": "29a5a2c2",
   "metadata": {},
   "outputs": [
    {
     "data": {
      "text/plain": [
       "DecisionTreeRegressor(max_depth=8)"
      ]
     },
     "execution_count": 18,
     "metadata": {},
     "output_type": "execute_result"
    }
   ],
   "source": [
    "dtrfinal.fit(X, y)\n"
   ]
  },
  {
   "cell_type": "code",
   "execution_count": 19,
   "id": "82584b7e",
   "metadata": {},
   "outputs": [],
   "source": [
    "filename = './model/uber_fare_prediction_model.joblib.pkl'"
   ]
  },
  {
   "cell_type": "code",
   "execution_count": 20,
   "id": "2ff14dd7",
   "metadata": {},
   "outputs": [
    {
     "data": {
      "text/plain": [
       "['./model/uber_fare_prediction_model.joblib.pkl']"
      ]
     },
     "execution_count": 20,
     "metadata": {},
     "output_type": "execute_result"
    }
   ],
   "source": [
    "joblib.dump(dtrfinal, filename, compress=9)\n"
   ]
  },
  {
   "cell_type": "code",
   "execution_count": 21,
   "id": "2f51b9f4",
   "metadata": {},
   "outputs": [],
   "source": [
    "details_dict = dict()"
   ]
  },
  {
   "cell_type": "code",
   "execution_count": 22,
   "id": "3b8c73be",
   "metadata": {},
   "outputs": [],
   "source": [
    "details_dict['feature_list'] = feature_list\n",
    "details_dict['model_filename'] = filename"
   ]
  },
  {
   "cell_type": "code",
   "execution_count": 23,
   "id": "d2e028dc",
   "metadata": {},
   "outputs": [],
   "source": [
    "with open('details.yml', 'w') as outfile:\n",
    "    yaml.dump(details_dict, outfile)\n",
    "outfile.close()"
   ]
  },
  {
   "cell_type": "code",
   "execution_count": null,
   "id": "f28d3535",
   "metadata": {},
   "outputs": [],
   "source": []
  }
 ],
 "metadata": {
  "kernelspec": {
   "display_name": "Python 3 (ipykernel)",
   "language": "python",
   "name": "python3"
  },
  "language_info": {
   "codemirror_mode": {
    "name": "ipython",
    "version": 3
   },
   "file_extension": ".py",
   "mimetype": "text/x-python",
   "name": "python",
   "nbconvert_exporter": "python",
   "pygments_lexer": "ipython3",
   "version": "3.9.12"
  },
  "toc": {
   "base_numbering": 1,
   "nav_menu": {},
   "number_sections": true,
   "sideBar": true,
   "skip_h1_title": false,
   "title_cell": "Table of Contents",
   "title_sidebar": "Contents",
   "toc_cell": false,
   "toc_position": {},
   "toc_section_display": true,
   "toc_window_display": false
  }
 },
 "nbformat": 4,
 "nbformat_minor": 5
}
